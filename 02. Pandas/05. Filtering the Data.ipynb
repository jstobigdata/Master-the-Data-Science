{
 "cells": [
  {
   "cell_type": "markdown",
   "id": "1e00edb0",
   "metadata": {
    "slideshow": {
     "slide_type": "slide"
    }
   },
   "source": [
    "# 05. Filtering the Data in Pandas\n",
    "1. Using **boolean expressions** in `loc()` and `iloc()`.\n",
    "2. Using **`df.query()`**\n",
    "3. Using **`df.filter()`**\n",
    "- A query is used when you want to perform a search on df. And filters are used to narrow down the set of results.\n",
    "\n",
    "![Filter](data/filter-air.webp)"
   ]
  },
  {
   "cell_type": "code",
   "execution_count": 1,
   "id": "62bbda98",
   "metadata": {
    "scrolled": false,
    "slideshow": {
     "slide_type": "subslide"
    }
   },
   "outputs": [
    {
     "data": {
      "text/html": [
       "<div>\n",
       "<style scoped>\n",
       "    .dataframe tbody tr th:only-of-type {\n",
       "        vertical-align: middle;\n",
       "    }\n",
       "\n",
       "    .dataframe tbody tr th {\n",
       "        vertical-align: top;\n",
       "    }\n",
       "\n",
       "    .dataframe thead th {\n",
       "        text-align: right;\n",
       "    }\n",
       "</style>\n",
       "<table border=\"1\" class=\"dataframe\">\n",
       "  <thead>\n",
       "    <tr style=\"text-align: right;\">\n",
       "      <th></th>\n",
       "      <th>EmployeeID</th>\n",
       "      <th>birthdate_key</th>\n",
       "      <th>age</th>\n",
       "      <th>city_name</th>\n",
       "      <th>department</th>\n",
       "      <th>job_title</th>\n",
       "      <th>gender</th>\n",
       "    </tr>\n",
       "  </thead>\n",
       "  <tbody>\n",
       "    <tr>\n",
       "      <th>0</th>\n",
       "      <td>1318</td>\n",
       "      <td>1/3/1954</td>\n",
       "      <td>61</td>\n",
       "      <td>Vancouver</td>\n",
       "      <td>Executive</td>\n",
       "      <td>CEO</td>\n",
       "      <td>M</td>\n",
       "    </tr>\n",
       "    <tr>\n",
       "      <th>1</th>\n",
       "      <td>1319</td>\n",
       "      <td>1/3/1957</td>\n",
       "      <td>58</td>\n",
       "      <td>Vancouver</td>\n",
       "      <td>Executive</td>\n",
       "      <td>VP Stores</td>\n",
       "      <td>F</td>\n",
       "    </tr>\n",
       "    <tr>\n",
       "      <th>2</th>\n",
       "      <td>1320</td>\n",
       "      <td>1/2/1955</td>\n",
       "      <td>60</td>\n",
       "      <td>Vancouver</td>\n",
       "      <td>Executive</td>\n",
       "      <td>Legal Counsel</td>\n",
       "      <td>F</td>\n",
       "    </tr>\n",
       "    <tr>\n",
       "      <th>3</th>\n",
       "      <td>1321</td>\n",
       "      <td>1/2/1959</td>\n",
       "      <td>56</td>\n",
       "      <td>Vancouver</td>\n",
       "      <td>Executive</td>\n",
       "      <td>VP Human Resources</td>\n",
       "      <td>M</td>\n",
       "    </tr>\n",
       "    <tr>\n",
       "      <th>4</th>\n",
       "      <td>1322</td>\n",
       "      <td>1/9/1958</td>\n",
       "      <td>57</td>\n",
       "      <td>Vancouver</td>\n",
       "      <td>Executive</td>\n",
       "      <td>VP Finance</td>\n",
       "      <td>M</td>\n",
       "    </tr>\n",
       "    <tr>\n",
       "      <th>...</th>\n",
       "      <td>...</td>\n",
       "      <td>...</td>\n",
       "      <td>...</td>\n",
       "      <td>...</td>\n",
       "      <td>...</td>\n",
       "      <td>...</td>\n",
       "      <td>...</td>\n",
       "    </tr>\n",
       "    <tr>\n",
       "      <th>6279</th>\n",
       "      <td>8036</td>\n",
       "      <td>8/9/1992</td>\n",
       "      <td>23</td>\n",
       "      <td>New Westminister</td>\n",
       "      <td>Customer Service</td>\n",
       "      <td>Cashier</td>\n",
       "      <td>F</td>\n",
       "    </tr>\n",
       "    <tr>\n",
       "      <th>6280</th>\n",
       "      <td>8181</td>\n",
       "      <td>9/26/1993</td>\n",
       "      <td>22</td>\n",
       "      <td>Prince George</td>\n",
       "      <td>Customer Service</td>\n",
       "      <td>Cashier</td>\n",
       "      <td>M</td>\n",
       "    </tr>\n",
       "    <tr>\n",
       "      <th>6281</th>\n",
       "      <td>8223</td>\n",
       "      <td>2/11/1994</td>\n",
       "      <td>21</td>\n",
       "      <td>Trail</td>\n",
       "      <td>Customer Service</td>\n",
       "      <td>Cashier</td>\n",
       "      <td>M</td>\n",
       "    </tr>\n",
       "    <tr>\n",
       "      <th>6282</th>\n",
       "      <td>8226</td>\n",
       "      <td>2/16/1994</td>\n",
       "      <td>21</td>\n",
       "      <td>Victoria</td>\n",
       "      <td>Customer Service</td>\n",
       "      <td>Cashier</td>\n",
       "      <td>F</td>\n",
       "    </tr>\n",
       "    <tr>\n",
       "      <th>6283</th>\n",
       "      <td>8264</td>\n",
       "      <td>6/13/1994</td>\n",
       "      <td>21</td>\n",
       "      <td>Vancouver</td>\n",
       "      <td>Customer Service</td>\n",
       "      <td>Cashier</td>\n",
       "      <td>F</td>\n",
       "    </tr>\n",
       "  </tbody>\n",
       "</table>\n",
       "<p>6284 rows × 7 columns</p>\n",
       "</div>"
      ],
      "text/plain": [
       "      EmployeeID birthdate_key  age         city_name        department  \\\n",
       "0           1318      1/3/1954   61         Vancouver         Executive   \n",
       "1           1319      1/3/1957   58         Vancouver         Executive   \n",
       "2           1320      1/2/1955   60         Vancouver         Executive   \n",
       "3           1321      1/2/1959   56         Vancouver         Executive   \n",
       "4           1322      1/9/1958   57         Vancouver         Executive   \n",
       "...          ...           ...  ...               ...               ...   \n",
       "6279        8036      8/9/1992   23  New Westminister  Customer Service   \n",
       "6280        8181     9/26/1993   22     Prince George  Customer Service   \n",
       "6281        8223     2/11/1994   21             Trail  Customer Service   \n",
       "6282        8226     2/16/1994   21          Victoria  Customer Service   \n",
       "6283        8264     6/13/1994   21         Vancouver  Customer Service   \n",
       "\n",
       "               job_title gender  \n",
       "0                    CEO      M  \n",
       "1              VP Stores      F  \n",
       "2          Legal Counsel      F  \n",
       "3     VP Human Resources      M  \n",
       "4             VP Finance      M  \n",
       "...                  ...    ...  \n",
       "6279             Cashier      F  \n",
       "6280             Cashier      M  \n",
       "6281             Cashier      M  \n",
       "6282             Cashier      F  \n",
       "6283             Cashier      F  \n",
       "\n",
       "[6284 rows x 7 columns]"
      ]
     },
     "execution_count": 1,
     "metadata": {},
     "output_type": "execute_result"
    }
   ],
   "source": [
    "import pandas as pd\n",
    "import numpy as np\n",
    "\n",
    "df = pd.read_csv('./data/Company.csv')\n",
    "df"
   ]
  },
  {
   "cell_type": "markdown",
   "id": "16f00974",
   "metadata": {
    "slideshow": {
     "slide_type": "subslide"
    }
   },
   "source": [
    "### 1. Using boolean expressions in `loc()` and `iloc()`\n",
    "- Select * from dataframe where age > 55"
   ]
  },
  {
   "cell_type": "code",
   "execution_count": 2,
   "id": "cc522429",
   "metadata": {
    "scrolled": false,
    "slideshow": {
     "slide_type": "fragment"
    }
   },
   "outputs": [
    {
     "data": {
      "text/html": [
       "<div>\n",
       "<style scoped>\n",
       "    .dataframe tbody tr th:only-of-type {\n",
       "        vertical-align: middle;\n",
       "    }\n",
       "\n",
       "    .dataframe tbody tr th {\n",
       "        vertical-align: top;\n",
       "    }\n",
       "\n",
       "    .dataframe thead th {\n",
       "        text-align: right;\n",
       "    }\n",
       "</style>\n",
       "<table border=\"1\" class=\"dataframe\">\n",
       "  <thead>\n",
       "    <tr style=\"text-align: right;\">\n",
       "      <th></th>\n",
       "      <th>EmployeeID</th>\n",
       "      <th>birthdate_key</th>\n",
       "      <th>age</th>\n",
       "      <th>city_name</th>\n",
       "      <th>department</th>\n",
       "      <th>job_title</th>\n",
       "      <th>gender</th>\n",
       "    </tr>\n",
       "  </thead>\n",
       "  <tbody>\n",
       "    <tr>\n",
       "      <th>0</th>\n",
       "      <td>1318</td>\n",
       "      <td>1/3/1954</td>\n",
       "      <td>61</td>\n",
       "      <td>Vancouver</td>\n",
       "      <td>Executive</td>\n",
       "      <td>CEO</td>\n",
       "      <td>M</td>\n",
       "    </tr>\n",
       "    <tr>\n",
       "      <th>1</th>\n",
       "      <td>1319</td>\n",
       "      <td>1/3/1957</td>\n",
       "      <td>58</td>\n",
       "      <td>Vancouver</td>\n",
       "      <td>Executive</td>\n",
       "      <td>VP Stores</td>\n",
       "      <td>F</td>\n",
       "    </tr>\n",
       "    <tr>\n",
       "      <th>2</th>\n",
       "      <td>1320</td>\n",
       "      <td>1/2/1955</td>\n",
       "      <td>60</td>\n",
       "      <td>Vancouver</td>\n",
       "      <td>Executive</td>\n",
       "      <td>Legal Counsel</td>\n",
       "      <td>F</td>\n",
       "    </tr>\n",
       "    <tr>\n",
       "      <th>3</th>\n",
       "      <td>1321</td>\n",
       "      <td>1/2/1959</td>\n",
       "      <td>56</td>\n",
       "      <td>Vancouver</td>\n",
       "      <td>Executive</td>\n",
       "      <td>VP Human Resources</td>\n",
       "      <td>M</td>\n",
       "    </tr>\n",
       "    <tr>\n",
       "      <th>4</th>\n",
       "      <td>1322</td>\n",
       "      <td>1/9/1958</td>\n",
       "      <td>57</td>\n",
       "      <td>Vancouver</td>\n",
       "      <td>Executive</td>\n",
       "      <td>VP Finance</td>\n",
       "      <td>M</td>\n",
       "    </tr>\n",
       "    <tr>\n",
       "      <th>...</th>\n",
       "      <td>...</td>\n",
       "      <td>...</td>\n",
       "      <td>...</td>\n",
       "      <td>...</td>\n",
       "      <td>...</td>\n",
       "      <td>...</td>\n",
       "      <td>...</td>\n",
       "    </tr>\n",
       "    <tr>\n",
       "      <th>6258</th>\n",
       "      <td>4434</td>\n",
       "      <td>12/15/1946</td>\n",
       "      <td>69</td>\n",
       "      <td>Vancouver</td>\n",
       "      <td>Meats</td>\n",
       "      <td>Meat Cutter</td>\n",
       "      <td>M</td>\n",
       "    </tr>\n",
       "    <tr>\n",
       "      <th>6259</th>\n",
       "      <td>4442</td>\n",
       "      <td>12/22/1946</td>\n",
       "      <td>69</td>\n",
       "      <td>Vancouver</td>\n",
       "      <td>Meats</td>\n",
       "      <td>Meat Cutter</td>\n",
       "      <td>M</td>\n",
       "    </tr>\n",
       "    <tr>\n",
       "      <th>6260</th>\n",
       "      <td>4445</td>\n",
       "      <td>12/26/1946</td>\n",
       "      <td>69</td>\n",
       "      <td>New Westminster</td>\n",
       "      <td>Produce</td>\n",
       "      <td>Produce Clerk</td>\n",
       "      <td>M</td>\n",
       "    </tr>\n",
       "    <tr>\n",
       "      <th>6261</th>\n",
       "      <td>4448</td>\n",
       "      <td>12/27/1946</td>\n",
       "      <td>69</td>\n",
       "      <td>Kamloops</td>\n",
       "      <td>Bakery</td>\n",
       "      <td>Baker</td>\n",
       "      <td>M</td>\n",
       "    </tr>\n",
       "    <tr>\n",
       "      <th>6262</th>\n",
       "      <td>4450</td>\n",
       "      <td>12/28/1946</td>\n",
       "      <td>69</td>\n",
       "      <td>New Westminster</td>\n",
       "      <td>Produce</td>\n",
       "      <td>Produce Clerk</td>\n",
       "      <td>M</td>\n",
       "    </tr>\n",
       "  </tbody>\n",
       "</table>\n",
       "<p>1952 rows × 7 columns</p>\n",
       "</div>"
      ],
      "text/plain": [
       "      EmployeeID birthdate_key  age        city_name department  \\\n",
       "0           1318      1/3/1954   61        Vancouver  Executive   \n",
       "1           1319      1/3/1957   58        Vancouver  Executive   \n",
       "2           1320      1/2/1955   60        Vancouver  Executive   \n",
       "3           1321      1/2/1959   56        Vancouver  Executive   \n",
       "4           1322      1/9/1958   57        Vancouver  Executive   \n",
       "...          ...           ...  ...              ...        ...   \n",
       "6258        4434    12/15/1946   69        Vancouver      Meats   \n",
       "6259        4442    12/22/1946   69        Vancouver      Meats   \n",
       "6260        4445    12/26/1946   69  New Westminster    Produce   \n",
       "6261        4448    12/27/1946   69         Kamloops     Bakery   \n",
       "6262        4450    12/28/1946   69  New Westminster    Produce   \n",
       "\n",
       "               job_title gender  \n",
       "0                    CEO      M  \n",
       "1              VP Stores      F  \n",
       "2          Legal Counsel      F  \n",
       "3     VP Human Resources      M  \n",
       "4             VP Finance      M  \n",
       "...                  ...    ...  \n",
       "6258         Meat Cutter      M  \n",
       "6259         Meat Cutter      M  \n",
       "6260       Produce Clerk      M  \n",
       "6261               Baker      M  \n",
       "6262       Produce Clerk      M  \n",
       "\n",
       "[1952 rows x 7 columns]"
      ]
     },
     "execution_count": 2,
     "metadata": {},
     "output_type": "execute_result"
    }
   ],
   "source": [
    "df.loc[(df.age > 55)]"
   ]
  },
  {
   "cell_type": "code",
   "execution_count": 3,
   "id": "91fbdff2",
   "metadata": {
    "slideshow": {
     "slide_type": "subslide"
    }
   },
   "outputs": [
    {
     "data": {
      "text/html": [
       "<div>\n",
       "<style scoped>\n",
       "    .dataframe tbody tr th:only-of-type {\n",
       "        vertical-align: middle;\n",
       "    }\n",
       "\n",
       "    .dataframe tbody tr th {\n",
       "        vertical-align: top;\n",
       "    }\n",
       "\n",
       "    .dataframe thead th {\n",
       "        text-align: right;\n",
       "    }\n",
       "</style>\n",
       "<table border=\"1\" class=\"dataframe\">\n",
       "  <thead>\n",
       "    <tr style=\"text-align: right;\">\n",
       "      <th></th>\n",
       "      <th>EmployeeID</th>\n",
       "      <th>birthdate_key</th>\n",
       "      <th>age</th>\n",
       "      <th>city_name</th>\n",
       "      <th>department</th>\n",
       "      <th>job_title</th>\n",
       "      <th>gender</th>\n",
       "    </tr>\n",
       "  </thead>\n",
       "  <tbody>\n",
       "    <tr>\n",
       "      <th>0</th>\n",
       "      <td>1318</td>\n",
       "      <td>1/3/1954</td>\n",
       "      <td>61</td>\n",
       "      <td>Vancouver</td>\n",
       "      <td>Executive</td>\n",
       "      <td>CEO</td>\n",
       "      <td>M</td>\n",
       "    </tr>\n",
       "    <tr>\n",
       "      <th>1</th>\n",
       "      <td>1319</td>\n",
       "      <td>1/3/1957</td>\n",
       "      <td>58</td>\n",
       "      <td>Vancouver</td>\n",
       "      <td>Executive</td>\n",
       "      <td>VP Stores</td>\n",
       "      <td>F</td>\n",
       "    </tr>\n",
       "    <tr>\n",
       "      <th>2</th>\n",
       "      <td>1320</td>\n",
       "      <td>1/2/1955</td>\n",
       "      <td>60</td>\n",
       "      <td>Vancouver</td>\n",
       "      <td>Executive</td>\n",
       "      <td>Legal Counsel</td>\n",
       "      <td>F</td>\n",
       "    </tr>\n",
       "    <tr>\n",
       "      <th>3</th>\n",
       "      <td>1321</td>\n",
       "      <td>1/2/1959</td>\n",
       "      <td>56</td>\n",
       "      <td>Vancouver</td>\n",
       "      <td>Executive</td>\n",
       "      <td>VP Human Resources</td>\n",
       "      <td>M</td>\n",
       "    </tr>\n",
       "    <tr>\n",
       "      <th>4</th>\n",
       "      <td>1322</td>\n",
       "      <td>1/9/1958</td>\n",
       "      <td>57</td>\n",
       "      <td>Vancouver</td>\n",
       "      <td>Executive</td>\n",
       "      <td>VP Finance</td>\n",
       "      <td>M</td>\n",
       "    </tr>\n",
       "    <tr>\n",
       "      <th>...</th>\n",
       "      <td>...</td>\n",
       "      <td>...</td>\n",
       "      <td>...</td>\n",
       "      <td>...</td>\n",
       "      <td>...</td>\n",
       "      <td>...</td>\n",
       "      <td>...</td>\n",
       "    </tr>\n",
       "    <tr>\n",
       "      <th>6258</th>\n",
       "      <td>4434</td>\n",
       "      <td>12/15/1946</td>\n",
       "      <td>69</td>\n",
       "      <td>Vancouver</td>\n",
       "      <td>Meats</td>\n",
       "      <td>Meat Cutter</td>\n",
       "      <td>M</td>\n",
       "    </tr>\n",
       "    <tr>\n",
       "      <th>6259</th>\n",
       "      <td>4442</td>\n",
       "      <td>12/22/1946</td>\n",
       "      <td>69</td>\n",
       "      <td>Vancouver</td>\n",
       "      <td>Meats</td>\n",
       "      <td>Meat Cutter</td>\n",
       "      <td>M</td>\n",
       "    </tr>\n",
       "    <tr>\n",
       "      <th>6260</th>\n",
       "      <td>4445</td>\n",
       "      <td>12/26/1946</td>\n",
       "      <td>69</td>\n",
       "      <td>New Westminster</td>\n",
       "      <td>Produce</td>\n",
       "      <td>Produce Clerk</td>\n",
       "      <td>M</td>\n",
       "    </tr>\n",
       "    <tr>\n",
       "      <th>6261</th>\n",
       "      <td>4448</td>\n",
       "      <td>12/27/1946</td>\n",
       "      <td>69</td>\n",
       "      <td>Kamloops</td>\n",
       "      <td>Bakery</td>\n",
       "      <td>Baker</td>\n",
       "      <td>M</td>\n",
       "    </tr>\n",
       "    <tr>\n",
       "      <th>6262</th>\n",
       "      <td>4450</td>\n",
       "      <td>12/28/1946</td>\n",
       "      <td>69</td>\n",
       "      <td>New Westminster</td>\n",
       "      <td>Produce</td>\n",
       "      <td>Produce Clerk</td>\n",
       "      <td>M</td>\n",
       "    </tr>\n",
       "  </tbody>\n",
       "</table>\n",
       "<p>1952 rows × 7 columns</p>\n",
       "</div>"
      ],
      "text/plain": [
       "      EmployeeID birthdate_key  age        city_name department  \\\n",
       "0           1318      1/3/1954   61        Vancouver  Executive   \n",
       "1           1319      1/3/1957   58        Vancouver  Executive   \n",
       "2           1320      1/2/1955   60        Vancouver  Executive   \n",
       "3           1321      1/2/1959   56        Vancouver  Executive   \n",
       "4           1322      1/9/1958   57        Vancouver  Executive   \n",
       "...          ...           ...  ...              ...        ...   \n",
       "6258        4434    12/15/1946   69        Vancouver      Meats   \n",
       "6259        4442    12/22/1946   69        Vancouver      Meats   \n",
       "6260        4445    12/26/1946   69  New Westminster    Produce   \n",
       "6261        4448    12/27/1946   69         Kamloops     Bakery   \n",
       "6262        4450    12/28/1946   69  New Westminster    Produce   \n",
       "\n",
       "               job_title gender  \n",
       "0                    CEO      M  \n",
       "1              VP Stores      F  \n",
       "2          Legal Counsel      F  \n",
       "3     VP Human Resources      M  \n",
       "4             VP Finance      M  \n",
       "...                  ...    ...  \n",
       "6258         Meat Cutter      M  \n",
       "6259         Meat Cutter      M  \n",
       "6260       Produce Clerk      M  \n",
       "6261               Baker      M  \n",
       "6262       Produce Clerk      M  \n",
       "\n",
       "[1952 rows x 7 columns]"
      ]
     },
     "execution_count": 3,
     "metadata": {},
     "output_type": "execute_result"
    }
   ],
   "source": [
    "df.iloc[(df.age > 55).values]"
   ]
  },
  {
   "cell_type": "markdown",
   "id": "7a97ecf7",
   "metadata": {},
   "source": [
    "   "
   ]
  },
  {
   "cell_type": "markdown",
   "id": "46876cea",
   "metadata": {
    "slideshow": {
     "slide_type": "subslide"
    }
   },
   "source": [
    "### 2. Using the `df.query()`"
   ]
  },
  {
   "cell_type": "code",
   "execution_count": 4,
   "id": "424bcaf1",
   "metadata": {},
   "outputs": [
    {
     "data": {
      "text/plain": [
       "45.78341820496499"
      ]
     },
     "execution_count": 4,
     "metadata": {},
     "output_type": "execute_result"
    }
   ],
   "source": [
    "df['age'].mean()"
   ]
  },
  {
   "cell_type": "code",
   "execution_count": 5,
   "id": "a1a18b59",
   "metadata": {
    "scrolled": false,
    "slideshow": {
     "slide_type": "fragment"
    }
   },
   "outputs": [
    {
     "data": {
      "text/html": [
       "<div>\n",
       "<style scoped>\n",
       "    .dataframe tbody tr th:only-of-type {\n",
       "        vertical-align: middle;\n",
       "    }\n",
       "\n",
       "    .dataframe tbody tr th {\n",
       "        vertical-align: top;\n",
       "    }\n",
       "\n",
       "    .dataframe thead th {\n",
       "        text-align: right;\n",
       "    }\n",
       "</style>\n",
       "<table border=\"1\" class=\"dataframe\">\n",
       "  <thead>\n",
       "    <tr style=\"text-align: right;\">\n",
       "      <th></th>\n",
       "      <th>EmployeeID</th>\n",
       "      <th>birthdate_key</th>\n",
       "      <th>age</th>\n",
       "      <th>city_name</th>\n",
       "      <th>department</th>\n",
       "      <th>job_title</th>\n",
       "      <th>gender</th>\n",
       "    </tr>\n",
       "  </thead>\n",
       "  <tbody>\n",
       "    <tr>\n",
       "      <th>0</th>\n",
       "      <td>1318</td>\n",
       "      <td>1/3/1954</td>\n",
       "      <td>61</td>\n",
       "      <td>Vancouver</td>\n",
       "      <td>Executive</td>\n",
       "      <td>CEO</td>\n",
       "      <td>M</td>\n",
       "    </tr>\n",
       "    <tr>\n",
       "      <th>1</th>\n",
       "      <td>1319</td>\n",
       "      <td>1/3/1957</td>\n",
       "      <td>58</td>\n",
       "      <td>Vancouver</td>\n",
       "      <td>Executive</td>\n",
       "      <td>VP Stores</td>\n",
       "      <td>F</td>\n",
       "    </tr>\n",
       "    <tr>\n",
       "      <th>2</th>\n",
       "      <td>1320</td>\n",
       "      <td>1/2/1955</td>\n",
       "      <td>60</td>\n",
       "      <td>Vancouver</td>\n",
       "      <td>Executive</td>\n",
       "      <td>Legal Counsel</td>\n",
       "      <td>F</td>\n",
       "    </tr>\n",
       "    <tr>\n",
       "      <th>3</th>\n",
       "      <td>1321</td>\n",
       "      <td>1/2/1959</td>\n",
       "      <td>56</td>\n",
       "      <td>Vancouver</td>\n",
       "      <td>Executive</td>\n",
       "      <td>VP Human Resources</td>\n",
       "      <td>M</td>\n",
       "    </tr>\n",
       "    <tr>\n",
       "      <th>4</th>\n",
       "      <td>1322</td>\n",
       "      <td>1/9/1958</td>\n",
       "      <td>57</td>\n",
       "      <td>Vancouver</td>\n",
       "      <td>Executive</td>\n",
       "      <td>VP Finance</td>\n",
       "      <td>M</td>\n",
       "    </tr>\n",
       "    <tr>\n",
       "      <th>...</th>\n",
       "      <td>...</td>\n",
       "      <td>...</td>\n",
       "      <td>...</td>\n",
       "      <td>...</td>\n",
       "      <td>...</td>\n",
       "      <td>...</td>\n",
       "      <td>...</td>\n",
       "    </tr>\n",
       "    <tr>\n",
       "      <th>6260</th>\n",
       "      <td>4445</td>\n",
       "      <td>12/26/1946</td>\n",
       "      <td>69</td>\n",
       "      <td>New Westminster</td>\n",
       "      <td>Produce</td>\n",
       "      <td>Produce Clerk</td>\n",
       "      <td>M</td>\n",
       "    </tr>\n",
       "    <tr>\n",
       "      <th>6261</th>\n",
       "      <td>4448</td>\n",
       "      <td>12/27/1946</td>\n",
       "      <td>69</td>\n",
       "      <td>Kamloops</td>\n",
       "      <td>Bakery</td>\n",
       "      <td>Baker</td>\n",
       "      <td>M</td>\n",
       "    </tr>\n",
       "    <tr>\n",
       "      <th>6262</th>\n",
       "      <td>4450</td>\n",
       "      <td>12/28/1946</td>\n",
       "      <td>69</td>\n",
       "      <td>New Westminster</td>\n",
       "      <td>Produce</td>\n",
       "      <td>Produce Clerk</td>\n",
       "      <td>M</td>\n",
       "    </tr>\n",
       "    <tr>\n",
       "      <th>6263</th>\n",
       "      <td>4711</td>\n",
       "      <td>5/15/1967</td>\n",
       "      <td>48</td>\n",
       "      <td>Vancouver</td>\n",
       "      <td>Processed Foods</td>\n",
       "      <td>Shelf Stocker</td>\n",
       "      <td>F</td>\n",
       "    </tr>\n",
       "    <tr>\n",
       "      <th>6264</th>\n",
       "      <td>4797</td>\n",
       "      <td>10/29/1967</td>\n",
       "      <td>48</td>\n",
       "      <td>Fort Nelson</td>\n",
       "      <td>Produce</td>\n",
       "      <td>Produce Clerk</td>\n",
       "      <td>M</td>\n",
       "    </tr>\n",
       "  </tbody>\n",
       "</table>\n",
       "<p>3139 rows × 7 columns</p>\n",
       "</div>"
      ],
      "text/plain": [
       "      EmployeeID birthdate_key  age        city_name       department  \\\n",
       "0           1318      1/3/1954   61        Vancouver        Executive   \n",
       "1           1319      1/3/1957   58        Vancouver        Executive   \n",
       "2           1320      1/2/1955   60        Vancouver        Executive   \n",
       "3           1321      1/2/1959   56        Vancouver        Executive   \n",
       "4           1322      1/9/1958   57        Vancouver        Executive   \n",
       "...          ...           ...  ...              ...              ...   \n",
       "6260        4445    12/26/1946   69  New Westminster          Produce   \n",
       "6261        4448    12/27/1946   69         Kamloops           Bakery   \n",
       "6262        4450    12/28/1946   69  New Westminster          Produce   \n",
       "6263        4711     5/15/1967   48        Vancouver  Processed Foods   \n",
       "6264        4797    10/29/1967   48      Fort Nelson          Produce   \n",
       "\n",
       "               job_title gender  \n",
       "0                    CEO      M  \n",
       "1              VP Stores      F  \n",
       "2          Legal Counsel      F  \n",
       "3     VP Human Resources      M  \n",
       "4             VP Finance      M  \n",
       "...                  ...    ...  \n",
       "6260       Produce Clerk      M  \n",
       "6261               Baker      M  \n",
       "6262       Produce Clerk      M  \n",
       "6263       Shelf Stocker      F  \n",
       "6264       Produce Clerk      M  \n",
       "\n",
       "[3139 rows x 7 columns]"
      ]
     },
     "execution_count": 5,
     "metadata": {},
     "output_type": "execute_result"
    }
   ],
   "source": [
    "df.query('(age >= age.mean())')"
   ]
  },
  {
   "cell_type": "markdown",
   "id": "9904c9f6",
   "metadata": {
    "slideshow": {
     "slide_type": "subslide"
    }
   },
   "source": [
    "### - Another example with `loc()`"
   ]
  },
  {
   "cell_type": "code",
   "execution_count": 6,
   "id": "d3d07859",
   "metadata": {
    "scrolled": true,
    "slideshow": {
     "slide_type": "fragment"
    }
   },
   "outputs": [
    {
     "data": {
      "text/html": [
       "<div>\n",
       "<style scoped>\n",
       "    .dataframe tbody tr th:only-of-type {\n",
       "        vertical-align: middle;\n",
       "    }\n",
       "\n",
       "    .dataframe tbody tr th {\n",
       "        vertical-align: top;\n",
       "    }\n",
       "\n",
       "    .dataframe thead th {\n",
       "        text-align: right;\n",
       "    }\n",
       "</style>\n",
       "<table border=\"1\" class=\"dataframe\">\n",
       "  <thead>\n",
       "    <tr style=\"text-align: right;\">\n",
       "      <th></th>\n",
       "      <th>firstName</th>\n",
       "      <th>lastName</th>\n",
       "      <th>email</th>\n",
       "      <th>phone</th>\n",
       "    </tr>\n",
       "  </thead>\n",
       "  <tbody>\n",
       "    <tr>\n",
       "      <th>0</th>\n",
       "      <td>John</td>\n",
       "      <td>Doe</td>\n",
       "      <td>john.doe@gmail.com</td>\n",
       "      <td>9956789877</td>\n",
       "    </tr>\n",
       "    <tr>\n",
       "      <th>1</th>\n",
       "      <td>Johnny</td>\n",
       "      <td>Doe</td>\n",
       "      <td>johnny.doe@gmail.com</td>\n",
       "      <td>9876567898</td>\n",
       "    </tr>\n",
       "    <tr>\n",
       "      <th>2</th>\n",
       "      <td>Jack</td>\n",
       "      <td>Danniels</td>\n",
       "      <td>jack.denniels@gmail.com</td>\n",
       "      <td>7898765456</td>\n",
       "    </tr>\n",
       "  </tbody>\n",
       "</table>\n",
       "</div>"
      ],
      "text/plain": [
       "  firstName  lastName                    email       phone\n",
       "0      John       Doe       john.doe@gmail.com  9956789877\n",
       "1    Johnny       Doe     johnny.doe@gmail.com  9876567898\n",
       "2      Jack  Danniels  jack.denniels@gmail.com  7898765456"
      ]
     },
     "execution_count": 6,
     "metadata": {},
     "output_type": "execute_result"
    }
   ],
   "source": [
    "people = {\n",
    "    'firstName': ['John', 'Johnny', 'Jack'],\n",
    "    'lastName': ['Doe', 'Doe', 'Danniels'],\n",
    "    'email': ['john.doe@gmail.com', 'johnny.doe@gmail.com', 'jack.denniels@gmail.com'],\n",
    "    'phone': ['9956789877', '9876567898', '7898765456']\n",
    "}\n",
    "df = pd.DataFrame(people)\n",
    "df"
   ]
  },
  {
   "cell_type": "code",
   "execution_count": 9,
   "id": "1b5f537e",
   "metadata": {
    "slideshow": {
     "slide_type": "fragment"
    }
   },
   "outputs": [
    {
     "data": {
      "text/plain": [
       "0         john.doe@gmail.com\n",
       "2    jack.denniels@gmail.com\n",
       "Name: email, dtype: object"
      ]
     },
     "execution_count": 9,
     "metadata": {},
     "output_type": "execute_result"
    }
   ],
   "source": [
    "filter_exp = (df['firstName'] == 'John') | (df['firstName'] == 'Jack')\n",
    "df.loc[filter_exp, 'email'] # remove the email part and see the result"
   ]
  },
  {
   "cell_type": "code",
   "execution_count": 10,
   "id": "a8b54412",
   "metadata": {
    "slideshow": {
     "slide_type": "subslide"
    }
   },
   "outputs": [
    {
     "data": {
      "text/plain": [
       "pandas.core.series.Series"
      ]
     },
     "execution_count": 10,
     "metadata": {},
     "output_type": "execute_result"
    }
   ],
   "source": [
    "type(df.loc[filter_exp, 'email'])"
   ]
  },
  {
   "cell_type": "code",
   "execution_count": 11,
   "id": "420692b2",
   "metadata": {
    "slideshow": {
     "slide_type": "fragment"
    }
   },
   "outputs": [
    {
     "data": {
      "text/html": [
       "<div>\n",
       "<style scoped>\n",
       "    .dataframe tbody tr th:only-of-type {\n",
       "        vertical-align: middle;\n",
       "    }\n",
       "\n",
       "    .dataframe tbody tr th {\n",
       "        vertical-align: top;\n",
       "    }\n",
       "\n",
       "    .dataframe thead th {\n",
       "        text-align: right;\n",
       "    }\n",
       "</style>\n",
       "<table border=\"1\" class=\"dataframe\">\n",
       "  <thead>\n",
       "    <tr style=\"text-align: right;\">\n",
       "      <th></th>\n",
       "      <th>firstName</th>\n",
       "      <th>lastName</th>\n",
       "      <th>email</th>\n",
       "      <th>phone</th>\n",
       "    </tr>\n",
       "  </thead>\n",
       "  <tbody>\n",
       "    <tr>\n",
       "      <th>0</th>\n",
       "      <td>John</td>\n",
       "      <td>Doe</td>\n",
       "      <td>john.doe@gmail.com</td>\n",
       "      <td>9956789877</td>\n",
       "    </tr>\n",
       "    <tr>\n",
       "      <th>2</th>\n",
       "      <td>Jack</td>\n",
       "      <td>Danniels</td>\n",
       "      <td>jack.denniels@gmail.com</td>\n",
       "      <td>7898765456</td>\n",
       "    </tr>\n",
       "  </tbody>\n",
       "</table>\n",
       "</div>"
      ],
      "text/plain": [
       "  firstName  lastName                    email       phone\n",
       "0      John       Doe       john.doe@gmail.com  9956789877\n",
       "2      Jack  Danniels  jack.denniels@gmail.com  7898765456"
      ]
     },
     "execution_count": 11,
     "metadata": {},
     "output_type": "execute_result"
    }
   ],
   "source": [
    "df.loc[filter_exp]"
   ]
  },
  {
   "cell_type": "code",
   "execution_count": 12,
   "id": "766bd452",
   "metadata": {
    "scrolled": true,
    "slideshow": {
     "slide_type": "fragment"
    }
   },
   "outputs": [
    {
     "data": {
      "text/plain": [
       "pandas.core.frame.DataFrame"
      ]
     },
     "execution_count": 12,
     "metadata": {},
     "output_type": "execute_result"
    }
   ],
   "source": [
    "type(df.loc[filter_exp])"
   ]
  },
  {
   "cell_type": "markdown",
   "id": "1ab7c7b2",
   "metadata": {},
   "source": [
    "   "
   ]
  },
  {
   "cell_type": "markdown",
   "id": "85850474",
   "metadata": {
    "slideshow": {
     "slide_type": "subslide"
    }
   },
   "source": [
    "### 3. Filter using the `df.filter()`"
   ]
  },
  {
   "cell_type": "code",
   "execution_count": 13,
   "id": "fe901116",
   "metadata": {
    "slideshow": {
     "slide_type": "fragment"
    }
   },
   "outputs": [
    {
     "data": {
      "text/html": [
       "<div>\n",
       "<style scoped>\n",
       "    .dataframe tbody tr th:only-of-type {\n",
       "        vertical-align: middle;\n",
       "    }\n",
       "\n",
       "    .dataframe tbody tr th {\n",
       "        vertical-align: top;\n",
       "    }\n",
       "\n",
       "    .dataframe thead th {\n",
       "        text-align: right;\n",
       "    }\n",
       "</style>\n",
       "<table border=\"1\" class=\"dataframe\">\n",
       "  <thead>\n",
       "    <tr style=\"text-align: right;\">\n",
       "      <th></th>\n",
       "      <th>one</th>\n",
       "      <th>two</th>\n",
       "      <th>three</th>\n",
       "    </tr>\n",
       "  </thead>\n",
       "  <tbody>\n",
       "    <tr>\n",
       "      <th>mouse</th>\n",
       "      <td>1</td>\n",
       "      <td>2</td>\n",
       "      <td>3</td>\n",
       "    </tr>\n",
       "    <tr>\n",
       "      <th>rabbit</th>\n",
       "      <td>4</td>\n",
       "      <td>5</td>\n",
       "      <td>6</td>\n",
       "    </tr>\n",
       "  </tbody>\n",
       "</table>\n",
       "</div>"
      ],
      "text/plain": [
       "        one  two  three\n",
       "mouse     1    2      3\n",
       "rabbit    4    5      6"
      ]
     },
     "execution_count": 13,
     "metadata": {},
     "output_type": "execute_result"
    }
   ],
   "source": [
    "df3 = pd.DataFrame(np.array(([1, 2, 3], [4, 5, 6])),\n",
    "                  index=['mouse', 'rabbit'],\n",
    "                  columns=['one', 'two', 'three'])\n",
    "df3"
   ]
  },
  {
   "cell_type": "code",
   "execution_count": 14,
   "id": "5ca8510e",
   "metadata": {
    "slideshow": {
     "slide_type": "subslide"
    }
   },
   "outputs": [
    {
     "data": {
      "text/html": [
       "<div>\n",
       "<style scoped>\n",
       "    .dataframe tbody tr th:only-of-type {\n",
       "        vertical-align: middle;\n",
       "    }\n",
       "\n",
       "    .dataframe tbody tr th {\n",
       "        vertical-align: top;\n",
       "    }\n",
       "\n",
       "    .dataframe thead th {\n",
       "        text-align: right;\n",
       "    }\n",
       "</style>\n",
       "<table border=\"1\" class=\"dataframe\">\n",
       "  <thead>\n",
       "    <tr style=\"text-align: right;\">\n",
       "      <th></th>\n",
       "      <th>one</th>\n",
       "      <th>three</th>\n",
       "    </tr>\n",
       "  </thead>\n",
       "  <tbody>\n",
       "    <tr>\n",
       "      <th>mouse</th>\n",
       "      <td>1</td>\n",
       "      <td>3</td>\n",
       "    </tr>\n",
       "    <tr>\n",
       "      <th>rabbit</th>\n",
       "      <td>4</td>\n",
       "      <td>6</td>\n",
       "    </tr>\n",
       "  </tbody>\n",
       "</table>\n",
       "</div>"
      ],
      "text/plain": [
       "        one  three\n",
       "mouse     1      3\n",
       "rabbit    4      6"
      ]
     },
     "execution_count": 14,
     "metadata": {},
     "output_type": "execute_result"
    }
   ],
   "source": [
    "# Select columns by column_name\n",
    "df3.filter(items=['one', 'three'])"
   ]
  },
  {
   "cell_type": "code",
   "execution_count": 15,
   "id": "7ebfcc49",
   "metadata": {
    "slideshow": {
     "slide_type": "subslide"
    }
   },
   "outputs": [
    {
     "data": {
      "text/html": [
       "<div>\n",
       "<style scoped>\n",
       "    .dataframe tbody tr th:only-of-type {\n",
       "        vertical-align: middle;\n",
       "    }\n",
       "\n",
       "    .dataframe tbody tr th {\n",
       "        vertical-align: top;\n",
       "    }\n",
       "\n",
       "    .dataframe thead th {\n",
       "        text-align: right;\n",
       "    }\n",
       "</style>\n",
       "<table border=\"1\" class=\"dataframe\">\n",
       "  <thead>\n",
       "    <tr style=\"text-align: right;\">\n",
       "      <th></th>\n",
       "      <th>one</th>\n",
       "      <th>three</th>\n",
       "    </tr>\n",
       "  </thead>\n",
       "  <tbody>\n",
       "    <tr>\n",
       "      <th>mouse</th>\n",
       "      <td>1</td>\n",
       "      <td>3</td>\n",
       "    </tr>\n",
       "    <tr>\n",
       "      <th>rabbit</th>\n",
       "      <td>4</td>\n",
       "      <td>6</td>\n",
       "    </tr>\n",
       "  </tbody>\n",
       "</table>\n",
       "</div>"
      ],
      "text/plain": [
       "        one  three\n",
       "mouse     1      3\n",
       "rabbit    4      6"
      ]
     },
     "execution_count": 15,
     "metadata": {},
     "output_type": "execute_result"
    }
   ],
   "source": [
    "# Select columns by regular expression\n",
    "df3.filter(regex='e$', axis=1)"
   ]
  },
  {
   "cell_type": "code",
   "execution_count": 16,
   "id": "b07f80e7",
   "metadata": {
    "slideshow": {
     "slide_type": "subslide"
    }
   },
   "outputs": [
    {
     "data": {
      "text/html": [
       "<div>\n",
       "<style scoped>\n",
       "    .dataframe tbody tr th:only-of-type {\n",
       "        vertical-align: middle;\n",
       "    }\n",
       "\n",
       "    .dataframe tbody tr th {\n",
       "        vertical-align: top;\n",
       "    }\n",
       "\n",
       "    .dataframe thead th {\n",
       "        text-align: right;\n",
       "    }\n",
       "</style>\n",
       "<table border=\"1\" class=\"dataframe\">\n",
       "  <thead>\n",
       "    <tr style=\"text-align: right;\">\n",
       "      <th></th>\n",
       "      <th>one</th>\n",
       "      <th>two</th>\n",
       "      <th>three</th>\n",
       "    </tr>\n",
       "  </thead>\n",
       "  <tbody>\n",
       "    <tr>\n",
       "      <th>rabbit</th>\n",
       "      <td>4</td>\n",
       "      <td>5</td>\n",
       "      <td>6</td>\n",
       "    </tr>\n",
       "  </tbody>\n",
       "</table>\n",
       "</div>"
      ],
      "text/plain": [
       "        one  two  three\n",
       "rabbit    4    5      6"
      ]
     },
     "execution_count": 16,
     "metadata": {},
     "output_type": "execute_result"
    }
   ],
   "source": [
    "# Select rows containing 'bbi'\n",
    "df3.filter(like='bbi', axis=0)"
   ]
  }
 ],
 "metadata": {
  "celltoolbar": "Slideshow",
  "kernelspec": {
   "display_name": "Python 3",
   "language": "python",
   "name": "python3"
  },
  "language_info": {
   "codemirror_mode": {
    "name": "ipython",
    "version": 3
   },
   "file_extension": ".py",
   "mimetype": "text/x-python",
   "name": "python",
   "nbconvert_exporter": "python",
   "pygments_lexer": "ipython3",
   "version": "3.8.8"
  }
 },
 "nbformat": 4,
 "nbformat_minor": 5
}
