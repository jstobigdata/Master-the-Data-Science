{
 "cells": [
  {
   "cell_type": "markdown",
   "id": "1e00edb0",
   "metadata": {},
   "source": [
    "# 05. Filtering the Data\n",
    "- Find emails of John and Jack."
   ]
  },
  {
   "cell_type": "code",
   "execution_count": 11,
   "id": "62bbda98",
   "metadata": {},
   "outputs": [],
   "source": [
    "import pandas as pd"
   ]
  },
  {
   "cell_type": "code",
   "execution_count": 4,
   "id": "d3d07859",
   "metadata": {},
   "outputs": [],
   "source": [
    "people = {\n",
    "    'firstName': ['John', 'Johnny', 'Jack'],\n",
    "    'lastName': ['Doe', 'Doe', 'Danniels'],\n",
    "    'email': ['john.doe@gmail.com', 'johnny.doe@gmail.com', 'jack.denniels@gmail.com'],\n",
    "    'phone': ['9956789877', '9876567898', '7898765456']\n",
    "}"
   ]
  },
  {
   "cell_type": "code",
   "execution_count": 12,
   "id": "d50d1d85",
   "metadata": {},
   "outputs": [
    {
     "data": {
      "text/html": [
       "<div>\n",
       "<style scoped>\n",
       "    .dataframe tbody tr th:only-of-type {\n",
       "        vertical-align: middle;\n",
       "    }\n",
       "\n",
       "    .dataframe tbody tr th {\n",
       "        vertical-align: top;\n",
       "    }\n",
       "\n",
       "    .dataframe thead th {\n",
       "        text-align: right;\n",
       "    }\n",
       "</style>\n",
       "<table border=\"1\" class=\"dataframe\">\n",
       "  <thead>\n",
       "    <tr style=\"text-align: right;\">\n",
       "      <th></th>\n",
       "      <th>firstName</th>\n",
       "      <th>lastName</th>\n",
       "      <th>email</th>\n",
       "      <th>phone</th>\n",
       "    </tr>\n",
       "  </thead>\n",
       "  <tbody>\n",
       "    <tr>\n",
       "      <th>0</th>\n",
       "      <td>John</td>\n",
       "      <td>Doe</td>\n",
       "      <td>john.doe@gmail.com</td>\n",
       "      <td>9956789877</td>\n",
       "    </tr>\n",
       "    <tr>\n",
       "      <th>1</th>\n",
       "      <td>Johnny</td>\n",
       "      <td>Doe</td>\n",
       "      <td>johnny.doe@gmail.com</td>\n",
       "      <td>9876567898</td>\n",
       "    </tr>\n",
       "    <tr>\n",
       "      <th>2</th>\n",
       "      <td>Jack</td>\n",
       "      <td>Danniels</td>\n",
       "      <td>jack.denniels@gmail.com</td>\n",
       "      <td>7898765456</td>\n",
       "    </tr>\n",
       "  </tbody>\n",
       "</table>\n",
       "</div>"
      ],
      "text/plain": [
       "  firstName  lastName                    email       phone\n",
       "0      John       Doe       john.doe@gmail.com  9956789877\n",
       "1    Johnny       Doe     johnny.doe@gmail.com  9876567898\n",
       "2      Jack  Danniels  jack.denniels@gmail.com  7898765456"
      ]
     },
     "execution_count": 12,
     "metadata": {},
     "output_type": "execute_result"
    }
   ],
   "source": [
    "df = pd.DataFrame(people)\n",
    "df"
   ]
  },
  {
   "cell_type": "code",
   "execution_count": 36,
   "id": "1b5f537e",
   "metadata": {},
   "outputs": [
    {
     "data": {
      "text/plain": [
       "0         john.doe@gmail.com\n",
       "2    jack.denniels@gmail.com\n",
       "Name: email, dtype: object"
      ]
     },
     "execution_count": 36,
     "metadata": {},
     "output_type": "execute_result"
    }
   ],
   "source": [
    "filtr = (df['firstName'] == 'John') | (df['firstName'] == 'Jack')\n",
    "df.loc[filtr, 'email']"
   ]
  },
  {
   "cell_type": "code",
   "execution_count": 38,
   "id": "a8b54412",
   "metadata": {},
   "outputs": [
    {
     "data": {
      "text/plain": [
       "pandas.core.series.Series"
      ]
     },
     "execution_count": 38,
     "metadata": {},
     "output_type": "execute_result"
    }
   ],
   "source": [
    "type(df.loc[filtr, 'email'])"
   ]
  },
  {
   "cell_type": "code",
   "execution_count": 39,
   "id": "420692b2",
   "metadata": {},
   "outputs": [
    {
     "data": {
      "text/html": [
       "<div>\n",
       "<style scoped>\n",
       "    .dataframe tbody tr th:only-of-type {\n",
       "        vertical-align: middle;\n",
       "    }\n",
       "\n",
       "    .dataframe tbody tr th {\n",
       "        vertical-align: top;\n",
       "    }\n",
       "\n",
       "    .dataframe thead th {\n",
       "        text-align: right;\n",
       "    }\n",
       "</style>\n",
       "<table border=\"1\" class=\"dataframe\">\n",
       "  <thead>\n",
       "    <tr style=\"text-align: right;\">\n",
       "      <th></th>\n",
       "      <th>firstName</th>\n",
       "      <th>lastName</th>\n",
       "      <th>email</th>\n",
       "      <th>phone</th>\n",
       "    </tr>\n",
       "  </thead>\n",
       "  <tbody>\n",
       "    <tr>\n",
       "      <th>0</th>\n",
       "      <td>John</td>\n",
       "      <td>Doe</td>\n",
       "      <td>john.doe@gmail.com</td>\n",
       "      <td>9956789877</td>\n",
       "    </tr>\n",
       "    <tr>\n",
       "      <th>2</th>\n",
       "      <td>Jack</td>\n",
       "      <td>Danniels</td>\n",
       "      <td>jack.denniels@gmail.com</td>\n",
       "      <td>7898765456</td>\n",
       "    </tr>\n",
       "  </tbody>\n",
       "</table>\n",
       "</div>"
      ],
      "text/plain": [
       "  firstName  lastName                    email       phone\n",
       "0      John       Doe       john.doe@gmail.com  9956789877\n",
       "2      Jack  Danniels  jack.denniels@gmail.com  7898765456"
      ]
     },
     "execution_count": 39,
     "metadata": {},
     "output_type": "execute_result"
    }
   ],
   "source": [
    "df.loc[filtr]"
   ]
  },
  {
   "cell_type": "code",
   "execution_count": 40,
   "id": "766bd452",
   "metadata": {},
   "outputs": [
    {
     "data": {
      "text/plain": [
       "pandas.core.frame.DataFrame"
      ]
     },
     "execution_count": 40,
     "metadata": {},
     "output_type": "execute_result"
    }
   ],
   "source": [
    "type(df.loc[filtr])"
   ]
  }
 ],
 "metadata": {
  "kernelspec": {
   "display_name": "Python 3",
   "language": "python",
   "name": "python3"
  },
  "language_info": {
   "codemirror_mode": {
    "name": "ipython",
    "version": 3
   },
   "file_extension": ".py",
   "mimetype": "text/x-python",
   "name": "python",
   "nbconvert_exporter": "python",
   "pygments_lexer": "ipython3",
   "version": "3.8.8"
  }
 },
 "nbformat": 4,
 "nbformat_minor": 5
}
