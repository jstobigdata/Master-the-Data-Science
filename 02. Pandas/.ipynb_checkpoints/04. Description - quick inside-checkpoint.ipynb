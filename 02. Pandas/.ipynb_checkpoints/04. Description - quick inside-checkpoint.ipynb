{
 "cells": [
  {
   "cell_type": "markdown",
   "id": "32565c64",
   "metadata": {
    "slideshow": {
     "slide_type": "slide"
    }
   },
   "source": [
    "# 04. Description in DataFrame - descriptive statistics\n",
    "- It provides many functions such as  - mean, median, sum, std etc.\n",
    "- Methods are available from dataFrame i.e. `pandas.DataFrame.mode`.\n",
    "- axis=0, means row-wise. axis=1, means column-wise.\n",
    "\n",
    "| SI. No. | Function | Descriptions |\n",
    "| :---- | :---- | :---- |\n",
    "| 1. | [mean](https://pandas.pydata.org/docs/reference/api/pandas.DataFrame.mean.html) | Finds the mean of Column or row |\n",
    "| 2. | [median](https://pandas.pydata.org/docs/reference/api/pandas.DataFrame.median.html) | Finds the median of Column or row |\n",
    "| 3. | [mode](https://pandas.pydata.org/docs/reference/api/pandas.DataFrame.mode.html) | Get the mode(s) of each element along the selected axis |\n",
    "| 4. | [sum](https://pandas.pydata.org/docs/reference/api/pandas.DataFrame.sum.html) | Calculate the sum of row or column |\n",
    "| 5. | [std](https://pandas.pydata.org/docs/reference/api/pandas.DataFrame.std.html) | Calculate the standard deviation of each row or column |\n",
    "| 6. | [min](https://pandas.pydata.org/docs/reference/api/pandas.DataFrame.min.html) | Finds the minimum value |\n",
    "| 7. | [max](https://pandas.pydata.org/docs/reference/api/pandas.DataFrame.max.html) | Finds the maximum value |\n",
    "| 8. | [count](https://pandas.pydata.org/docs/reference/api/pandas.DataFrame.count.html) | Counts all non-null value |\n",
    "| 9. | [unique](https://pandas.pydata.org/docs/reference/api/pandas.Series.unique.html) | Returns the unique values |\n",
    "| 10.| [nunique](https://pandas.pydata.org/docs/reference/api/pandas.DataFrame.nunique.html) | Count number of distinct elements in specified axis. |\n"
   ]
  },
  {
   "cell_type": "markdown",
   "id": "3f4029a4",
   "metadata": {
    "slideshow": {
     "slide_type": "fragment"
    }
   },
   "source": [
    "#### Import the Pandas and NumPy Libraries"
   ]
  },
  {
   "cell_type": "code",
   "execution_count": 1,
   "id": "442f8a3d",
   "metadata": {
    "slideshow": {
     "slide_type": "-"
    }
   },
   "outputs": [],
   "source": [
    "import numpy as np\n",
    "import pandas as pd"
   ]
  },
  {
   "cell_type": "markdown",
   "id": "865b12d3",
   "metadata": {
    "slideshow": {
     "slide_type": "subslide"
    }
   },
   "source": [
    "#### Load the data"
   ]
  },
  {
   "cell_type": "code",
   "execution_count": 2,
   "id": "42aaf22a",
   "metadata": {
    "scrolled": true
   },
   "outputs": [
    {
     "data": {
      "text/html": [
       "<div>\n",
       "<style scoped>\n",
       "    .dataframe tbody tr th:only-of-type {\n",
       "        vertical-align: middle;\n",
       "    }\n",
       "\n",
       "    .dataframe tbody tr th {\n",
       "        vertical-align: top;\n",
       "    }\n",
       "\n",
       "    .dataframe thead th {\n",
       "        text-align: right;\n",
       "    }\n",
       "</style>\n",
       "<table border=\"1\" class=\"dataframe\">\n",
       "  <thead>\n",
       "    <tr style=\"text-align: right;\">\n",
       "      <th></th>\n",
       "      <th>EmployeeID</th>\n",
       "      <th>birthdate_key</th>\n",
       "      <th>age</th>\n",
       "      <th>city_name</th>\n",
       "      <th>department</th>\n",
       "      <th>job_title</th>\n",
       "      <th>gender</th>\n",
       "    </tr>\n",
       "  </thead>\n",
       "  <tbody>\n",
       "    <tr>\n",
       "      <th>0</th>\n",
       "      <td>1318</td>\n",
       "      <td>1/3/1954</td>\n",
       "      <td>61</td>\n",
       "      <td>Vancouver</td>\n",
       "      <td>Executive</td>\n",
       "      <td>CEO</td>\n",
       "      <td>M</td>\n",
       "    </tr>\n",
       "    <tr>\n",
       "      <th>1</th>\n",
       "      <td>1319</td>\n",
       "      <td>1/3/1957</td>\n",
       "      <td>58</td>\n",
       "      <td>Vancouver</td>\n",
       "      <td>Executive</td>\n",
       "      <td>VP Stores</td>\n",
       "      <td>F</td>\n",
       "    </tr>\n",
       "    <tr>\n",
       "      <th>2</th>\n",
       "      <td>1320</td>\n",
       "      <td>1/2/1955</td>\n",
       "      <td>60</td>\n",
       "      <td>Vancouver</td>\n",
       "      <td>Executive</td>\n",
       "      <td>Legal Counsel</td>\n",
       "      <td>F</td>\n",
       "    </tr>\n",
       "    <tr>\n",
       "      <th>3</th>\n",
       "      <td>1321</td>\n",
       "      <td>1/2/1959</td>\n",
       "      <td>56</td>\n",
       "      <td>Vancouver</td>\n",
       "      <td>Executive</td>\n",
       "      <td>VP Human Resources</td>\n",
       "      <td>M</td>\n",
       "    </tr>\n",
       "    <tr>\n",
       "      <th>4</th>\n",
       "      <td>1322</td>\n",
       "      <td>1/9/1958</td>\n",
       "      <td>57</td>\n",
       "      <td>Vancouver</td>\n",
       "      <td>Executive</td>\n",
       "      <td>VP Finance</td>\n",
       "      <td>M</td>\n",
       "    </tr>\n",
       "  </tbody>\n",
       "</table>\n",
       "</div>"
      ],
      "text/plain": [
       "   EmployeeID birthdate_key  age  city_name department           job_title  \\\n",
       "0        1318      1/3/1954   61  Vancouver  Executive                 CEO   \n",
       "1        1319      1/3/1957   58  Vancouver  Executive           VP Stores   \n",
       "2        1320      1/2/1955   60  Vancouver  Executive       Legal Counsel   \n",
       "3        1321      1/2/1959   56  Vancouver  Executive  VP Human Resources   \n",
       "4        1322      1/9/1958   57  Vancouver  Executive          VP Finance   \n",
       "\n",
       "  gender  \n",
       "0      M  \n",
       "1      F  \n",
       "2      F  \n",
       "3      M  \n",
       "4      M  "
      ]
     },
     "execution_count": 2,
     "metadata": {},
     "output_type": "execute_result"
    }
   ],
   "source": [
    "df = pd.read_csv('./data/Company.csv')\n",
    "df.head()"
   ]
  },
  {
   "cell_type": "code",
   "execution_count": 3,
   "id": "7ef8f091",
   "metadata": {
    "slideshow": {
     "slide_type": "subslide"
    }
   },
   "outputs": [
    {
     "data": {
      "text/html": [
       "<div>\n",
       "<style scoped>\n",
       "    .dataframe tbody tr th:only-of-type {\n",
       "        vertical-align: middle;\n",
       "    }\n",
       "\n",
       "    .dataframe tbody tr th {\n",
       "        vertical-align: top;\n",
       "    }\n",
       "\n",
       "    .dataframe thead th {\n",
       "        text-align: right;\n",
       "    }\n",
       "</style>\n",
       "<table border=\"1\" class=\"dataframe\">\n",
       "  <thead>\n",
       "    <tr style=\"text-align: right;\">\n",
       "      <th></th>\n",
       "      <th>EmployeeID</th>\n",
       "      <th>age</th>\n",
       "    </tr>\n",
       "  </thead>\n",
       "  <tbody>\n",
       "    <tr>\n",
       "      <th>count</th>\n",
       "      <td>6284.000000</td>\n",
       "      <td>6284.000000</td>\n",
       "    </tr>\n",
       "    <tr>\n",
       "      <th>mean</th>\n",
       "      <td>5088.843094</td>\n",
       "      <td>45.783418</td>\n",
       "    </tr>\n",
       "    <tr>\n",
       "      <th>std</th>\n",
       "      <td>1956.079548</td>\n",
       "      <td>15.076558</td>\n",
       "    </tr>\n",
       "    <tr>\n",
       "      <th>min</th>\n",
       "      <td>1318.000000</td>\n",
       "      <td>21.000000</td>\n",
       "    </tr>\n",
       "    <tr>\n",
       "      <th>25%</th>\n",
       "      <td>3482.750000</td>\n",
       "      <td>33.000000</td>\n",
       "    </tr>\n",
       "    <tr>\n",
       "      <th>50%</th>\n",
       "      <td>5180.500000</td>\n",
       "      <td>45.000000</td>\n",
       "    </tr>\n",
       "    <tr>\n",
       "      <th>75%</th>\n",
       "      <td>6765.250000</td>\n",
       "      <td>59.000000</td>\n",
       "    </tr>\n",
       "    <tr>\n",
       "      <th>max</th>\n",
       "      <td>8336.000000</td>\n",
       "      <td>74.000000</td>\n",
       "    </tr>\n",
       "  </tbody>\n",
       "</table>\n",
       "</div>"
      ],
      "text/plain": [
       "        EmployeeID          age\n",
       "count  6284.000000  6284.000000\n",
       "mean   5088.843094    45.783418\n",
       "std    1956.079548    15.076558\n",
       "min    1318.000000    21.000000\n",
       "25%    3482.750000    33.000000\n",
       "50%    5180.500000    45.000000\n",
       "75%    6765.250000    59.000000\n",
       "max    8336.000000    74.000000"
      ]
     },
     "execution_count": 3,
     "metadata": {},
     "output_type": "execute_result"
    }
   ],
   "source": [
    "df.describe()"
   ]
  },
  {
   "cell_type": "code",
   "execution_count": 4,
   "id": "194d1822",
   "metadata": {
    "slideshow": {
     "slide_type": "subslide"
    }
   },
   "outputs": [
    {
     "name": "stdout",
     "output_type": "stream",
     "text": [
      "<class 'pandas.core.frame.DataFrame'>\n",
      "RangeIndex: 6284 entries, 0 to 6283\n",
      "Data columns (total 7 columns):\n",
      " #   Column         Non-Null Count  Dtype \n",
      "---  ------         --------------  ----- \n",
      " 0   EmployeeID     6284 non-null   int64 \n",
      " 1   birthdate_key  6284 non-null   object\n",
      " 2   age            6284 non-null   int64 \n",
      " 3   city_name      6284 non-null   object\n",
      " 4   department     6284 non-null   object\n",
      " 5   job_title      6284 non-null   object\n",
      " 6   gender         6284 non-null   object\n",
      "dtypes: int64(2), object(5)\n",
      "memory usage: 343.8+ KB\n"
     ]
    }
   ],
   "source": [
    "df.info()"
   ]
  },
  {
   "cell_type": "code",
   "execution_count": 5,
   "id": "45d8e13c",
   "metadata": {
    "slideshow": {
     "slide_type": "subslide"
    }
   },
   "outputs": [
    {
     "name": "stdout",
     "output_type": "stream",
     "text": [
      "The mean of numerical columns column is [5088.84309357   45.7834182 ]\n",
      "        EmployeeID          age\n",
      "count  6284.000000  6284.000000\n",
      "mean   5088.843094    45.783418\n",
      "std    1956.079548    15.076558\n",
      "min    1318.000000    21.000000\n",
      "25%    3482.750000    33.000000\n",
      "50%    5180.500000    45.000000\n",
      "75%    6765.250000    59.000000\n",
      "max    8336.000000    74.000000\n"
     ]
    }
   ],
   "source": [
    "# calculate the mean of each numberical columns\n",
    "print(\"The mean of numerical columns column is {}\".format(df.mean(axis=0).values))\n",
    "\n",
    "# give a summary of your data on column wise\n",
    "print(df.describe())"
   ]
  },
  {
   "cell_type": "code",
   "execution_count": 6,
   "id": "340ac4d3",
   "metadata": {
    "slideshow": {
     "slide_type": "subslide"
    }
   },
   "outputs": [
    {
     "data": {
      "text/plain": [
       "EmployeeID                                                31978290\n",
       "birthdate_key    1/3/19541/3/19571/2/19551/2/19591/9/19581/9/19...\n",
       "age                                                         287703\n",
       "city_name        VancouverVancouverVancouverVancouverVancouverV...\n",
       "department       ExecutiveExecutiveExecutiveExecutiveExecutiveE...\n",
       "job_title        CEOVP StoresLegal CounselVP Human ResourcesVP ...\n",
       "gender           MFFMMMFFFFFFMFMFMMFFFMMFMMMMFFFMFMMFMFMMFFFFMM...\n",
       "dtype: object"
      ]
     },
     "execution_count": 6,
     "metadata": {},
     "output_type": "execute_result"
    }
   ],
   "source": [
    "df.sum()"
   ]
  },
  {
   "cell_type": "code",
   "execution_count": 7,
   "id": "5985ae16",
   "metadata": {
    "slideshow": {
     "slide_type": "fragment"
    }
   },
   "outputs": [
    {
     "data": {
      "text/plain": [
       "EmployeeID    31978290\n",
       "age             287703\n",
       "dtype: int64"
      ]
     },
     "execution_count": 7,
     "metadata": {},
     "output_type": "execute_result"
    }
   ],
   "source": [
    "df[['EmployeeID', 'age']].sum()"
   ]
  },
  {
   "cell_type": "code",
   "execution_count": 8,
   "id": "e5e33529",
   "metadata": {
    "slideshow": {
     "slide_type": "subslide"
    }
   },
   "outputs": [
    {
     "data": {
      "text/plain": [
       "45.78341820496499"
      ]
     },
     "execution_count": 8,
     "metadata": {},
     "output_type": "execute_result"
    }
   ],
   "source": [
    "df['age'].mean() "
   ]
  },
  {
   "cell_type": "code",
   "execution_count": 9,
   "id": "9cbfc289",
   "metadata": {
    "slideshow": {
     "slide_type": "subslide"
    }
   },
   "outputs": [
    {
     "data": {
      "text/plain": [
       "45.0"
      ]
     },
     "execution_count": 9,
     "metadata": {},
     "output_type": "execute_result"
    }
   ],
   "source": [
    "df['age'].median()"
   ]
  },
  {
   "cell_type": "code",
   "execution_count": 10,
   "id": "d46bf1ea",
   "metadata": {
    "slideshow": {
     "slide_type": "subslide"
    }
   },
   "outputs": [
    {
     "data": {
      "text/plain": [
       "0    27\n",
       "dtype: int64"
      ]
     },
     "execution_count": 10,
     "metadata": {},
     "output_type": "execute_result"
    }
   ],
   "source": [
    "df['age'].mode()"
   ]
  },
  {
   "cell_type": "code",
   "execution_count": 11,
   "id": "60f9b808",
   "metadata": {
    "slideshow": {
     "slide_type": "subslide"
    }
   },
   "outputs": [
    {
     "data": {
      "text/plain": [
       "15.076557943488128"
      ]
     },
     "execution_count": 11,
     "metadata": {},
     "output_type": "execute_result"
    }
   ],
   "source": [
    "df['age'].std()"
   ]
  },
  {
   "cell_type": "code",
   "execution_count": 12,
   "id": "554231a9",
   "metadata": {
    "slideshow": {
     "slide_type": "subslide"
    }
   },
   "outputs": [
    {
     "data": {
      "text/plain": [
       "74"
      ]
     },
     "execution_count": 12,
     "metadata": {},
     "output_type": "execute_result"
    }
   ],
   "source": [
    "df['age'].max()"
   ]
  },
  {
   "cell_type": "code",
   "execution_count": 13,
   "id": "78124e2c",
   "metadata": {
    "slideshow": {
     "slide_type": "subslide"
    }
   },
   "outputs": [
    {
     "data": {
      "text/plain": [
       "21"
      ]
     },
     "execution_count": 13,
     "metadata": {},
     "output_type": "execute_result"
    }
   ],
   "source": [
    "df['age'].min()"
   ]
  },
  {
   "cell_type": "code",
   "execution_count": 14,
   "id": "bf5fe2c1",
   "metadata": {
    "scrolled": false,
    "slideshow": {
     "slide_type": "subslide"
    }
   },
   "outputs": [
    {
     "data": {
      "text/html": [
       "<div>\n",
       "<style scoped>\n",
       "    .dataframe tbody tr th:only-of-type {\n",
       "        vertical-align: middle;\n",
       "    }\n",
       "\n",
       "    .dataframe tbody tr th {\n",
       "        vertical-align: top;\n",
       "    }\n",
       "\n",
       "    .dataframe thead th {\n",
       "        text-align: right;\n",
       "    }\n",
       "</style>\n",
       "<table border=\"1\" class=\"dataframe\">\n",
       "  <thead>\n",
       "    <tr style=\"text-align: right;\">\n",
       "      <th></th>\n",
       "      <th>a</th>\n",
       "      <th>b</th>\n",
       "      <th>c</th>\n",
       "    </tr>\n",
       "  </thead>\n",
       "  <tbody>\n",
       "    <tr>\n",
       "      <th>0</th>\n",
       "      <td>1</td>\n",
       "      <td>11</td>\n",
       "      <td>21</td>\n",
       "    </tr>\n",
       "    <tr>\n",
       "      <th>1</th>\n",
       "      <td>2</td>\n",
       "      <td>12</td>\n",
       "      <td>22</td>\n",
       "    </tr>\n",
       "    <tr>\n",
       "      <th>2</th>\n",
       "      <td>3</td>\n",
       "      <td>13</td>\n",
       "      <td>23</td>\n",
       "    </tr>\n",
       "    <tr>\n",
       "      <th>3</th>\n",
       "      <td>4</td>\n",
       "      <td>14</td>\n",
       "      <td>24</td>\n",
       "    </tr>\n",
       "    <tr>\n",
       "      <th>4</th>\n",
       "      <td>5</td>\n",
       "      <td>15</td>\n",
       "      <td>25</td>\n",
       "    </tr>\n",
       "    <tr>\n",
       "      <th>5</th>\n",
       "      <td>6</td>\n",
       "      <td>16</td>\n",
       "      <td>26</td>\n",
       "    </tr>\n",
       "    <tr>\n",
       "      <th>6</th>\n",
       "      <td>7</td>\n",
       "      <td>17</td>\n",
       "      <td>27</td>\n",
       "    </tr>\n",
       "    <tr>\n",
       "      <th>7</th>\n",
       "      <td>8</td>\n",
       "      <td>18</td>\n",
       "      <td>28</td>\n",
       "    </tr>\n",
       "    <tr>\n",
       "      <th>8</th>\n",
       "      <td>9</td>\n",
       "      <td>19</td>\n",
       "      <td>29</td>\n",
       "    </tr>\n",
       "  </tbody>\n",
       "</table>\n",
       "</div>"
      ],
      "text/plain": [
       "   a   b   c\n",
       "0  1  11  21\n",
       "1  2  12  22\n",
       "2  3  13  23\n",
       "3  4  14  24\n",
       "4  5  15  25\n",
       "5  6  16  26\n",
       "6  7  17  27\n",
       "7  8  18  28\n",
       "8  9  19  29"
      ]
     },
     "execution_count": 14,
     "metadata": {},
     "output_type": "execute_result"
    }
   ],
   "source": [
    "data = {\"a\":range(1, 10), \"b\": range(11,20), \"c\": range(21,30)}\n",
    "df_2 = pd.DataFrame(data)\n",
    "df_2"
   ]
  },
  {
   "cell_type": "markdown",
   "id": "42c3cbd3",
   "metadata": {
    "slideshow": {
     "slide_type": "subslide"
    }
   },
   "source": [
    "- **Stack** the prescribed level(s) from columns to index.\n",
    "- Return a reshaped DataFrame or Series having a multi-level index with one or more new inner-most levels compared to the current DataFrame"
   ]
  },
  {
   "cell_type": "code",
   "execution_count": 15,
   "id": "5c7d6b53",
   "metadata": {
    "slideshow": {
     "slide_type": "fragment"
    }
   },
   "outputs": [
    {
     "data": {
      "text/plain": [
       "0  a     1\n",
       "   b    11\n",
       "   c    21\n",
       "1  a     2\n",
       "   b    12\n",
       "   c    22\n",
       "2  a     3\n",
       "   b    13\n",
       "   c    23\n",
       "3  a     4\n",
       "   b    14\n",
       "   c    24\n",
       "4  a     5\n",
       "   b    15\n",
       "   c    25\n",
       "5  a     6\n",
       "   b    16\n",
       "   c    26\n",
       "6  a     7\n",
       "   b    17\n",
       "   c    27\n",
       "7  a     8\n",
       "   b    18\n",
       "   c    28\n",
       "8  a     9\n",
       "   b    19\n",
       "   c    29\n",
       "dtype: int64"
      ]
     },
     "execution_count": 15,
     "metadata": {},
     "output_type": "execute_result"
    }
   ],
   "source": [
    "df_2.stack()#.sum()"
   ]
  },
  {
   "cell_type": "code",
   "execution_count": 16,
   "id": "4168b9eb",
   "metadata": {
    "slideshow": {
     "slide_type": "subslide"
    }
   },
   "outputs": [
    {
     "data": {
      "text/plain": [
       "pandas.core.series.Series"
      ]
     },
     "execution_count": 16,
     "metadata": {},
     "output_type": "execute_result"
    }
   ],
   "source": [
    "df_3 = df_2.stack()\n",
    "type(df_3)\n",
    "\n",
    "#df_4 = df_3.unstack()\n",
    "#df_4"
   ]
  },
  {
   "cell_type": "code",
   "execution_count": 17,
   "id": "5b3909c9",
   "metadata": {
    "slideshow": {
     "slide_type": "subslide"
    }
   },
   "outputs": [
    {
     "data": {
      "text/plain": [
       "array([[ 1, 11, 21],\n",
       "       [ 2, 12, 22],\n",
       "       [ 3, 13, 23],\n",
       "       [ 4, 14, 24],\n",
       "       [ 5, 15, 25],\n",
       "       [ 6, 16, 26],\n",
       "       [ 7, 17, 27],\n",
       "       [ 8, 18, 28],\n",
       "       [ 9, 19, 29]])"
      ]
     },
     "execution_count": 17,
     "metadata": {},
     "output_type": "execute_result"
    }
   ],
   "source": [
    "df_2.values"
   ]
  },
  {
   "cell_type": "code",
   "execution_count": 18,
   "id": "045af474",
   "metadata": {
    "slideshow": {
     "slide_type": "fragment"
    }
   },
   "outputs": [
    {
     "data": {
      "text/plain": [
       "405"
      ]
     },
     "execution_count": 18,
     "metadata": {},
     "output_type": "execute_result"
    }
   ],
   "source": [
    "df_2.values.sum()"
   ]
  },
  {
   "cell_type": "markdown",
   "id": "42bd8249",
   "metadata": {
    "slideshow": {
     "slide_type": "subslide"
    }
   },
   "source": [
    "_______"
   ]
  },
  {
   "cell_type": "markdown",
   "id": "45b2c246",
   "metadata": {
    "slideshow": {
     "slide_type": "-"
    }
   },
   "source": [
    "## Assignment\n",
    "- Load the data from `car.csv` file\n",
    "- Find the total no. of null and not null columns\n",
    "- Find the unique country and Type values\n",
    "- Find the mean, median and mode \n",
    "- Calculate the total price of all Cars"
   ]
  },
  {
   "cell_type": "markdown",
   "id": "1cf6ddd4",
   "metadata": {
    "slideshow": {
     "slide_type": "subslide"
    }
   },
   "source": [
    "## Reference: \n",
    "1. [Data Cleaning — How to Handle Missing Values with Pandas](https://towardsdatascience.com/data-cleaning-how-to-handle-missing-values-in-pandas-cc8570c446ec)\n",
    "2. [Working with Missing Data in Pandas - GeeksforGeeks](https://www.geeksforgeeks.org/working-with-missing-data-in-pandas/)\n",
    "3. [Reshape a pandas DataFrame using stack,unstack and melt method - GeeksforGeeks](https://www.geeksforgeeks.org/reshape-a-pandas-dataframe-using-stackunstack-and-melt-method/)"
   ]
  }
 ],
 "metadata": {
  "celltoolbar": "Slideshow",
  "kernelspec": {
   "display_name": "Python 3",
   "language": "python",
   "name": "python3"
  },
  "language_info": {
   "codemirror_mode": {
    "name": "ipython",
    "version": 3
   },
   "file_extension": ".py",
   "mimetype": "text/x-python",
   "name": "python",
   "nbconvert_exporter": "python",
   "pygments_lexer": "ipython3",
   "version": "3.8.8"
  }
 },
 "nbformat": 4,
 "nbformat_minor": 5
}
