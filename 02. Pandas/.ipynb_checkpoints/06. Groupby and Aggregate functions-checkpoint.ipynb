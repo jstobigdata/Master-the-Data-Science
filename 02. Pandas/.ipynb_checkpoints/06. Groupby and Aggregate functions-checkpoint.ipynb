{
 "cells": [
  {
   "cell_type": "markdown",
   "id": "6c7bfa6f",
   "metadata": {
    "slideshow": {
     "slide_type": "slide"
    }
   },
   "source": [
    "# 06. Groupby and Aggregate functions\n",
    "- Grouping and aggregation are frequent operations that you will apply on your data.\n",
    "- Specifically important in EDA - Exploratory Data Analysis.\n",
    "- The **`groupby` is not a single operation**. Grouping analysis includes:\n",
    "    - Splitting the data into Groups\n",
    "    - Do certain analysis on each group\n",
    "    - Combining the results.\n",
    "![ring](data/d-ring.jpeg)"
   ]
  },
  {
   "cell_type": "code",
   "execution_count": 1,
   "id": "d5cbe105",
   "metadata": {
    "slideshow": {
     "slide_type": "subslide"
    }
   },
   "outputs": [
    {
     "data": {
      "text/html": [
       "<div>\n",
       "<style scoped>\n",
       "    .dataframe tbody tr th:only-of-type {\n",
       "        vertical-align: middle;\n",
       "    }\n",
       "\n",
       "    .dataframe tbody tr th {\n",
       "        vertical-align: top;\n",
       "    }\n",
       "\n",
       "    .dataframe thead th {\n",
       "        text-align: right;\n",
       "    }\n",
       "</style>\n",
       "<table border=\"1\" class=\"dataframe\">\n",
       "  <thead>\n",
       "    <tr style=\"text-align: right;\">\n",
       "      <th></th>\n",
       "      <th>carat</th>\n",
       "      <th>cut</th>\n",
       "      <th>clarity</th>\n",
       "      <th>price</th>\n",
       "    </tr>\n",
       "  </thead>\n",
       "  <tbody>\n",
       "    <tr>\n",
       "      <th>0</th>\n",
       "      <td>0.23</td>\n",
       "      <td>Ideal</td>\n",
       "      <td>SI2</td>\n",
       "      <td>326</td>\n",
       "    </tr>\n",
       "    <tr>\n",
       "      <th>1</th>\n",
       "      <td>0.21</td>\n",
       "      <td>Premium</td>\n",
       "      <td>SI1</td>\n",
       "      <td>326</td>\n",
       "    </tr>\n",
       "    <tr>\n",
       "      <th>2</th>\n",
       "      <td>0.23</td>\n",
       "      <td>Good</td>\n",
       "      <td>VS1</td>\n",
       "      <td>327</td>\n",
       "    </tr>\n",
       "    <tr>\n",
       "      <th>3</th>\n",
       "      <td>0.29</td>\n",
       "      <td>Premium</td>\n",
       "      <td>VS2</td>\n",
       "      <td>334</td>\n",
       "    </tr>\n",
       "    <tr>\n",
       "      <th>4</th>\n",
       "      <td>0.31</td>\n",
       "      <td>Good</td>\n",
       "      <td>SI2</td>\n",
       "      <td>335</td>\n",
       "    </tr>\n",
       "    <tr>\n",
       "      <th>...</th>\n",
       "      <td>...</td>\n",
       "      <td>...</td>\n",
       "      <td>...</td>\n",
       "      <td>...</td>\n",
       "    </tr>\n",
       "    <tr>\n",
       "      <th>53935</th>\n",
       "      <td>0.72</td>\n",
       "      <td>Ideal</td>\n",
       "      <td>SI1</td>\n",
       "      <td>2757</td>\n",
       "    </tr>\n",
       "    <tr>\n",
       "      <th>53936</th>\n",
       "      <td>0.72</td>\n",
       "      <td>Good</td>\n",
       "      <td>SI1</td>\n",
       "      <td>2757</td>\n",
       "    </tr>\n",
       "    <tr>\n",
       "      <th>53937</th>\n",
       "      <td>0.70</td>\n",
       "      <td>Very Good</td>\n",
       "      <td>SI1</td>\n",
       "      <td>2757</td>\n",
       "    </tr>\n",
       "    <tr>\n",
       "      <th>53938</th>\n",
       "      <td>0.86</td>\n",
       "      <td>Premium</td>\n",
       "      <td>SI2</td>\n",
       "      <td>2757</td>\n",
       "    </tr>\n",
       "    <tr>\n",
       "      <th>53939</th>\n",
       "      <td>0.75</td>\n",
       "      <td>Ideal</td>\n",
       "      <td>SI2</td>\n",
       "      <td>2757</td>\n",
       "    </tr>\n",
       "  </tbody>\n",
       "</table>\n",
       "<p>53940 rows × 4 columns</p>\n",
       "</div>"
      ],
      "text/plain": [
       "       carat        cut clarity  price\n",
       "0       0.23      Ideal     SI2    326\n",
       "1       0.21    Premium     SI1    326\n",
       "2       0.23       Good     VS1    327\n",
       "3       0.29    Premium     VS2    334\n",
       "4       0.31       Good     SI2    335\n",
       "...      ...        ...     ...    ...\n",
       "53935   0.72      Ideal     SI1   2757\n",
       "53936   0.72       Good     SI1   2757\n",
       "53937   0.70  Very Good     SI1   2757\n",
       "53938   0.86    Premium     SI2   2757\n",
       "53939   0.75      Ideal     SI2   2757\n",
       "\n",
       "[53940 rows x 4 columns]"
      ]
     },
     "execution_count": 1,
     "metadata": {},
     "output_type": "execute_result"
    }
   ],
   "source": [
    "#import the libraries\n",
    "import pandas as pd\n",
    "import numpy as np\n",
    "\n",
    "df = pd.read_csv('./data/diamonds.csv')\n",
    "df"
   ]
  },
  {
   "cell_type": "code",
   "execution_count": 2,
   "id": "4e43d474",
   "metadata": {
    "slideshow": {
     "slide_type": "subslide"
    }
   },
   "outputs": [
    {
     "data": {
      "text/html": [
       "<div>\n",
       "<style scoped>\n",
       "    .dataframe tbody tr th:only-of-type {\n",
       "        vertical-align: middle;\n",
       "    }\n",
       "\n",
       "    .dataframe tbody tr th {\n",
       "        vertical-align: top;\n",
       "    }\n",
       "\n",
       "    .dataframe thead th {\n",
       "        text-align: right;\n",
       "    }\n",
       "</style>\n",
       "<table border=\"1\" class=\"dataframe\">\n",
       "  <thead>\n",
       "    <tr style=\"text-align: right;\">\n",
       "      <th></th>\n",
       "      <th>carat</th>\n",
       "      <th>price</th>\n",
       "    </tr>\n",
       "  </thead>\n",
       "  <tbody>\n",
       "    <tr>\n",
       "      <th>count</th>\n",
       "      <td>53940.000000</td>\n",
       "      <td>53940.000000</td>\n",
       "    </tr>\n",
       "    <tr>\n",
       "      <th>mean</th>\n",
       "      <td>0.797940</td>\n",
       "      <td>3932.799722</td>\n",
       "    </tr>\n",
       "    <tr>\n",
       "      <th>std</th>\n",
       "      <td>0.474011</td>\n",
       "      <td>3989.439738</td>\n",
       "    </tr>\n",
       "    <tr>\n",
       "      <th>min</th>\n",
       "      <td>0.200000</td>\n",
       "      <td>326.000000</td>\n",
       "    </tr>\n",
       "    <tr>\n",
       "      <th>25%</th>\n",
       "      <td>0.400000</td>\n",
       "      <td>950.000000</td>\n",
       "    </tr>\n",
       "    <tr>\n",
       "      <th>50%</th>\n",
       "      <td>0.700000</td>\n",
       "      <td>2401.000000</td>\n",
       "    </tr>\n",
       "    <tr>\n",
       "      <th>75%</th>\n",
       "      <td>1.040000</td>\n",
       "      <td>5324.250000</td>\n",
       "    </tr>\n",
       "    <tr>\n",
       "      <th>max</th>\n",
       "      <td>5.010000</td>\n",
       "      <td>18823.000000</td>\n",
       "    </tr>\n",
       "  </tbody>\n",
       "</table>\n",
       "</div>"
      ],
      "text/plain": [
       "              carat         price\n",
       "count  53940.000000  53940.000000\n",
       "mean       0.797940   3932.799722\n",
       "std        0.474011   3989.439738\n",
       "min        0.200000    326.000000\n",
       "25%        0.400000    950.000000\n",
       "50%        0.700000   2401.000000\n",
       "75%        1.040000   5324.250000\n",
       "max        5.010000  18823.000000"
      ]
     },
     "execution_count": 2,
     "metadata": {},
     "output_type": "execute_result"
    }
   ],
   "source": [
    "df.describe()"
   ]
  },
  {
   "cell_type": "code",
   "execution_count": 3,
   "id": "75c07378",
   "metadata": {},
   "outputs": [
    {
     "name": "stdout",
     "output_type": "stream",
     "text": [
      "<class 'pandas.core.frame.DataFrame'>\n",
      "RangeIndex: 53940 entries, 0 to 53939\n",
      "Data columns (total 4 columns):\n",
      " #   Column   Non-Null Count  Dtype  \n",
      "---  ------   --------------  -----  \n",
      " 0   carat    53940 non-null  float64\n",
      " 1   cut      53940 non-null  object \n",
      " 2   clarity  53940 non-null  object \n",
      " 3   price    53940 non-null  int64  \n",
      "dtypes: float64(1), int64(1), object(2)\n",
      "memory usage: 1.6+ MB\n"
     ]
    }
   ],
   "source": [
    "df.info()"
   ]
  },
  {
   "cell_type": "markdown",
   "id": "36b8d7bb",
   "metadata": {
    "slideshow": {
     "slide_type": "subslide"
    }
   },
   "source": [
    "## 1. Grouping in a single dimensions\n",
    "Group data by one column and apply mean function."
   ]
  },
  {
   "cell_type": "code",
   "execution_count": 4,
   "id": "6cf153ca",
   "metadata": {
    "slideshow": {
     "slide_type": "fragment"
    }
   },
   "outputs": [
    {
     "data": {
      "text/html": [
       "<div>\n",
       "<style scoped>\n",
       "    .dataframe tbody tr th:only-of-type {\n",
       "        vertical-align: middle;\n",
       "    }\n",
       "\n",
       "    .dataframe tbody tr th {\n",
       "        vertical-align: top;\n",
       "    }\n",
       "\n",
       "    .dataframe thead th {\n",
       "        text-align: right;\n",
       "    }\n",
       "</style>\n",
       "<table border=\"1\" class=\"dataframe\">\n",
       "  <thead>\n",
       "    <tr style=\"text-align: right;\">\n",
       "      <th></th>\n",
       "      <th>carat</th>\n",
       "      <th>price</th>\n",
       "    </tr>\n",
       "    <tr>\n",
       "      <th>cut</th>\n",
       "      <th></th>\n",
       "      <th></th>\n",
       "    </tr>\n",
       "  </thead>\n",
       "  <tbody>\n",
       "    <tr>\n",
       "      <th>Fair</th>\n",
       "      <td>1.046137</td>\n",
       "      <td>4358.757764</td>\n",
       "    </tr>\n",
       "    <tr>\n",
       "      <th>Good</th>\n",
       "      <td>0.849185</td>\n",
       "      <td>3928.864452</td>\n",
       "    </tr>\n",
       "    <tr>\n",
       "      <th>Ideal</th>\n",
       "      <td>0.702837</td>\n",
       "      <td>3457.541970</td>\n",
       "    </tr>\n",
       "    <tr>\n",
       "      <th>Premium</th>\n",
       "      <td>0.891955</td>\n",
       "      <td>4584.257704</td>\n",
       "    </tr>\n",
       "    <tr>\n",
       "      <th>Very Good</th>\n",
       "      <td>0.806381</td>\n",
       "      <td>3981.759891</td>\n",
       "    </tr>\n",
       "  </tbody>\n",
       "</table>\n",
       "</div>"
      ],
      "text/plain": [
       "              carat        price\n",
       "cut                             \n",
       "Fair       1.046137  4358.757764\n",
       "Good       0.849185  3928.864452\n",
       "Ideal      0.702837  3457.541970\n",
       "Premium    0.891955  4584.257704\n",
       "Very Good  0.806381  3981.759891"
      ]
     },
     "execution_count": 4,
     "metadata": {},
     "output_type": "execute_result"
    }
   ],
   "source": [
    "df.groupby(['cut']).mean()"
   ]
  },
  {
   "cell_type": "code",
   "execution_count": 5,
   "id": "34448a4a",
   "metadata": {
    "slideshow": {
     "slide_type": "fragment"
    }
   },
   "outputs": [
    {
     "data": {
      "text/html": [
       "<div>\n",
       "<style scoped>\n",
       "    .dataframe tbody tr th:only-of-type {\n",
       "        vertical-align: middle;\n",
       "    }\n",
       "\n",
       "    .dataframe tbody tr th {\n",
       "        vertical-align: top;\n",
       "    }\n",
       "\n",
       "    .dataframe thead tr th {\n",
       "        text-align: left;\n",
       "    }\n",
       "\n",
       "    .dataframe thead tr:last-of-type th {\n",
       "        text-align: right;\n",
       "    }\n",
       "</style>\n",
       "<table border=\"1\" class=\"dataframe\">\n",
       "  <thead>\n",
       "    <tr>\n",
       "      <th></th>\n",
       "      <th colspan=\"8\" halign=\"left\">carat</th>\n",
       "      <th colspan=\"8\" halign=\"left\">price</th>\n",
       "    </tr>\n",
       "    <tr>\n",
       "      <th></th>\n",
       "      <th>count</th>\n",
       "      <th>mean</th>\n",
       "      <th>std</th>\n",
       "      <th>min</th>\n",
       "      <th>25%</th>\n",
       "      <th>50%</th>\n",
       "      <th>75%</th>\n",
       "      <th>max</th>\n",
       "      <th>count</th>\n",
       "      <th>mean</th>\n",
       "      <th>std</th>\n",
       "      <th>min</th>\n",
       "      <th>25%</th>\n",
       "      <th>50%</th>\n",
       "      <th>75%</th>\n",
       "      <th>max</th>\n",
       "    </tr>\n",
       "    <tr>\n",
       "      <th>cut</th>\n",
       "      <th></th>\n",
       "      <th></th>\n",
       "      <th></th>\n",
       "      <th></th>\n",
       "      <th></th>\n",
       "      <th></th>\n",
       "      <th></th>\n",
       "      <th></th>\n",
       "      <th></th>\n",
       "      <th></th>\n",
       "      <th></th>\n",
       "      <th></th>\n",
       "      <th></th>\n",
       "      <th></th>\n",
       "      <th></th>\n",
       "      <th></th>\n",
       "    </tr>\n",
       "  </thead>\n",
       "  <tbody>\n",
       "    <tr>\n",
       "      <th>Fair</th>\n",
       "      <td>1610.0</td>\n",
       "      <td>1.046137</td>\n",
       "      <td>0.516404</td>\n",
       "      <td>0.22</td>\n",
       "      <td>0.70</td>\n",
       "      <td>1.00</td>\n",
       "      <td>1.20</td>\n",
       "      <td>5.01</td>\n",
       "      <td>1610.0</td>\n",
       "      <td>4358.757764</td>\n",
       "      <td>3560.386612</td>\n",
       "      <td>337.0</td>\n",
       "      <td>2050.25</td>\n",
       "      <td>3282.0</td>\n",
       "      <td>5205.50</td>\n",
       "      <td>18574.0</td>\n",
       "    </tr>\n",
       "    <tr>\n",
       "      <th>Good</th>\n",
       "      <td>4906.0</td>\n",
       "      <td>0.849185</td>\n",
       "      <td>0.454054</td>\n",
       "      <td>0.23</td>\n",
       "      <td>0.50</td>\n",
       "      <td>0.82</td>\n",
       "      <td>1.01</td>\n",
       "      <td>3.01</td>\n",
       "      <td>4906.0</td>\n",
       "      <td>3928.864452</td>\n",
       "      <td>3681.589584</td>\n",
       "      <td>327.0</td>\n",
       "      <td>1145.00</td>\n",
       "      <td>3050.5</td>\n",
       "      <td>5028.00</td>\n",
       "      <td>18788.0</td>\n",
       "    </tr>\n",
       "    <tr>\n",
       "      <th>Ideal</th>\n",
       "      <td>21551.0</td>\n",
       "      <td>0.702837</td>\n",
       "      <td>0.432876</td>\n",
       "      <td>0.20</td>\n",
       "      <td>0.35</td>\n",
       "      <td>0.54</td>\n",
       "      <td>1.01</td>\n",
       "      <td>3.50</td>\n",
       "      <td>21551.0</td>\n",
       "      <td>3457.541970</td>\n",
       "      <td>3808.401172</td>\n",
       "      <td>326.0</td>\n",
       "      <td>878.00</td>\n",
       "      <td>1810.0</td>\n",
       "      <td>4678.50</td>\n",
       "      <td>18806.0</td>\n",
       "    </tr>\n",
       "    <tr>\n",
       "      <th>Premium</th>\n",
       "      <td>13791.0</td>\n",
       "      <td>0.891955</td>\n",
       "      <td>0.515262</td>\n",
       "      <td>0.20</td>\n",
       "      <td>0.41</td>\n",
       "      <td>0.86</td>\n",
       "      <td>1.20</td>\n",
       "      <td>4.01</td>\n",
       "      <td>13791.0</td>\n",
       "      <td>4584.257704</td>\n",
       "      <td>4349.204961</td>\n",
       "      <td>326.0</td>\n",
       "      <td>1046.00</td>\n",
       "      <td>3185.0</td>\n",
       "      <td>6296.00</td>\n",
       "      <td>18823.0</td>\n",
       "    </tr>\n",
       "    <tr>\n",
       "      <th>Very Good</th>\n",
       "      <td>12082.0</td>\n",
       "      <td>0.806381</td>\n",
       "      <td>0.459435</td>\n",
       "      <td>0.20</td>\n",
       "      <td>0.41</td>\n",
       "      <td>0.71</td>\n",
       "      <td>1.02</td>\n",
       "      <td>4.00</td>\n",
       "      <td>12082.0</td>\n",
       "      <td>3981.759891</td>\n",
       "      <td>3935.862161</td>\n",
       "      <td>336.0</td>\n",
       "      <td>912.00</td>\n",
       "      <td>2648.0</td>\n",
       "      <td>5372.75</td>\n",
       "      <td>18818.0</td>\n",
       "    </tr>\n",
       "  </tbody>\n",
       "</table>\n",
       "</div>"
      ],
      "text/plain": [
       "             carat                                                      price  \\\n",
       "             count      mean       std   min   25%   50%   75%   max    count   \n",
       "cut                                                                             \n",
       "Fair        1610.0  1.046137  0.516404  0.22  0.70  1.00  1.20  5.01   1610.0   \n",
       "Good        4906.0  0.849185  0.454054  0.23  0.50  0.82  1.01  3.01   4906.0   \n",
       "Ideal      21551.0  0.702837  0.432876  0.20  0.35  0.54  1.01  3.50  21551.0   \n",
       "Premium    13791.0  0.891955  0.515262  0.20  0.41  0.86  1.20  4.01  13791.0   \n",
       "Very Good  12082.0  0.806381  0.459435  0.20  0.41  0.71  1.02  4.00  12082.0   \n",
       "\n",
       "                                                                               \n",
       "                  mean          std    min      25%     50%      75%      max  \n",
       "cut                                                                            \n",
       "Fair       4358.757764  3560.386612  337.0  2050.25  3282.0  5205.50  18574.0  \n",
       "Good       3928.864452  3681.589584  327.0  1145.00  3050.5  5028.00  18788.0  \n",
       "Ideal      3457.541970  3808.401172  326.0   878.00  1810.0  4678.50  18806.0  \n",
       "Premium    4584.257704  4349.204961  326.0  1046.00  3185.0  6296.00  18823.0  \n",
       "Very Good  3981.759891  3935.862161  336.0   912.00  2648.0  5372.75  18818.0  "
      ]
     },
     "execution_count": 5,
     "metadata": {},
     "output_type": "execute_result"
    }
   ],
   "source": [
    "# Do not apply any aggregate functions.\n",
    "df.groupby(['cut']).describe()"
   ]
  },
  {
   "cell_type": "markdown",
   "id": "8fba98f0",
   "metadata": {
    "slideshow": {
     "slide_type": "subslide"
    }
   },
   "source": [
    "## 2. Grouping in multiple dimensions\n",
    "You can split the data based on combined columns, just pass a list of column names."
   ]
  },
  {
   "cell_type": "code",
   "execution_count": 6,
   "id": "0a96f6e3",
   "metadata": {
    "slideshow": {
     "slide_type": "fragment"
    }
   },
   "outputs": [
    {
     "data": {
      "text/html": [
       "<div>\n",
       "<style scoped>\n",
       "    .dataframe tbody tr th:only-of-type {\n",
       "        vertical-align: middle;\n",
       "    }\n",
       "\n",
       "    .dataframe tbody tr th {\n",
       "        vertical-align: top;\n",
       "    }\n",
       "\n",
       "    .dataframe thead th {\n",
       "        text-align: right;\n",
       "    }\n",
       "</style>\n",
       "<table border=\"1\" class=\"dataframe\">\n",
       "  <thead>\n",
       "    <tr style=\"text-align: right;\">\n",
       "      <th></th>\n",
       "      <th></th>\n",
       "      <th>price</th>\n",
       "    </tr>\n",
       "    <tr>\n",
       "      <th>cut</th>\n",
       "      <th>carat</th>\n",
       "      <th></th>\n",
       "    </tr>\n",
       "  </thead>\n",
       "  <tbody>\n",
       "    <tr>\n",
       "      <th rowspan=\"5\" valign=\"top\">Fair</th>\n",
       "      <th>0.22</th>\n",
       "      <td>337.000000</td>\n",
       "    </tr>\n",
       "    <tr>\n",
       "      <th>0.23</th>\n",
       "      <td>369.000000</td>\n",
       "    </tr>\n",
       "    <tr>\n",
       "      <th>0.25</th>\n",
       "      <td>645.666667</td>\n",
       "    </tr>\n",
       "    <tr>\n",
       "      <th>0.27</th>\n",
       "      <td>371.000000</td>\n",
       "    </tr>\n",
       "    <tr>\n",
       "      <th>0.29</th>\n",
       "      <td>1184.000000</td>\n",
       "    </tr>\n",
       "    <tr>\n",
       "      <th>...</th>\n",
       "      <th>...</th>\n",
       "      <td>...</td>\n",
       "    </tr>\n",
       "    <tr>\n",
       "      <th rowspan=\"5\" valign=\"top\">Very Good</th>\n",
       "      <th>2.70</th>\n",
       "      <td>14341.000000</td>\n",
       "    </tr>\n",
       "    <tr>\n",
       "      <th>2.74</th>\n",
       "      <td>17174.000000</td>\n",
       "    </tr>\n",
       "    <tr>\n",
       "      <th>3.00</th>\n",
       "      <td>6512.000000</td>\n",
       "    </tr>\n",
       "    <tr>\n",
       "      <th>3.04</th>\n",
       "      <td>15354.000000</td>\n",
       "    </tr>\n",
       "    <tr>\n",
       "      <th>4.00</th>\n",
       "      <td>15984.000000</td>\n",
       "    </tr>\n",
       "  </tbody>\n",
       "</table>\n",
       "<p>1098 rows × 1 columns</p>\n",
       "</div>"
      ],
      "text/plain": [
       "                        price\n",
       "cut       carat              \n",
       "Fair      0.22     337.000000\n",
       "          0.23     369.000000\n",
       "          0.25     645.666667\n",
       "          0.27     371.000000\n",
       "          0.29    1184.000000\n",
       "...                       ...\n",
       "Very Good 2.70   14341.000000\n",
       "          2.74   17174.000000\n",
       "          3.00    6512.000000\n",
       "          3.04   15354.000000\n",
       "          4.00   15984.000000\n",
       "\n",
       "[1098 rows x 1 columns]"
      ]
     },
     "execution_count": 6,
     "metadata": {},
     "output_type": "execute_result"
    }
   ],
   "source": [
    "df.groupby(['cut', 'carat']).mean()"
   ]
  },
  {
   "cell_type": "markdown",
   "id": "71dc5cd6",
   "metadata": {
    "slideshow": {
     "slide_type": "subslide"
    }
   },
   "source": [
    "### NOTE: \n",
    "- The `groupby()` function returns a Pandas object, which can be used further to perform the desired aggregate functions. \n",
    "- Can apply on Series as well as dataframes."
   ]
  },
  {
   "cell_type": "code",
   "execution_count": 7,
   "id": "12a05e65",
   "metadata": {
    "scrolled": true,
    "slideshow": {
     "slide_type": "fragment"
    }
   },
   "outputs": [
    {
     "data": {
      "text/plain": [
       "pandas.core.groupby.generic.DataFrameGroupBy"
      ]
     },
     "execution_count": 7,
     "metadata": {},
     "output_type": "execute_result"
    }
   ],
   "source": [
    "type(df.groupby(['cut', 'carat']))"
   ]
  },
  {
   "cell_type": "markdown",
   "id": "303adbce",
   "metadata": {
    "slideshow": {
     "slide_type": "slide"
    }
   },
   "source": [
    "_______\n",
    "## 3. Aggregate functions - `agg()`\n",
    "- So far you have seen, how to use `groupby` to split and aggregate them into each group.\n",
    "- Grouping is done using variopus pandas inbuilt functions or custom functions.\n",
    "- Pandas also provide **`agg()`** interface, which accepts Numpy functions as a partameter to aggregate the groups.\n",
    "- Most frequently used aggregations are:\n",
    "    - **sum:** Return the sum of the values for the requested axis\n",
    "    - **min:** Return the minimum of the values for the requested axis\n",
    "    - **max:** Return the maximum of the values for the requested axis"
   ]
  },
  {
   "cell_type": "code",
   "execution_count": 8,
   "id": "1e4b630d",
   "metadata": {},
   "outputs": [
    {
     "data": {
      "text/plain": [
       "<pandas.core.groupby.generic.DataFrameGroupBy object at 0x7f8f48434af0>"
      ]
     },
     "execution_count": 8,
     "metadata": {},
     "output_type": "execute_result"
    }
   ],
   "source": [
    "cut_grp = df.groupby('cut')\n",
    "cut_grp"
   ]
  },
  {
   "cell_type": "markdown",
   "id": "e4508c14",
   "metadata": {
    "slideshow": {
     "slide_type": "subslide"
    }
   },
   "source": [
    "### 3.1. Aggregate single function"
   ]
  },
  {
   "cell_type": "code",
   "execution_count": 9,
   "id": "61b010b6",
   "metadata": {
    "scrolled": true,
    "slideshow": {
     "slide_type": "fragment"
    }
   },
   "outputs": [
    {
     "data": {
      "text/plain": [
       "cut\n",
       "Fair         4358.757764\n",
       "Good         3928.864452\n",
       "Ideal        3457.541970\n",
       "Premium      4584.257704\n",
       "Very Good    3981.759891\n",
       "Name: price, dtype: float64"
      ]
     },
     "execution_count": 9,
     "metadata": {},
     "output_type": "execute_result"
    }
   ],
   "source": [
    "df.groupby('cut')['price'].agg(np.mean)"
   ]
  },
  {
   "cell_type": "code",
   "execution_count": 12,
   "id": "43466cab",
   "metadata": {
    "slideshow": {
     "slide_type": "subslide"
    }
   },
   "outputs": [
    {
     "data": {
      "text/html": [
       "<div>\n",
       "<style scoped>\n",
       "    .dataframe tbody tr th:only-of-type {\n",
       "        vertical-align: middle;\n",
       "    }\n",
       "\n",
       "    .dataframe tbody tr th {\n",
       "        vertical-align: top;\n",
       "    }\n",
       "\n",
       "    .dataframe thead th {\n",
       "        text-align: right;\n",
       "    }\n",
       "</style>\n",
       "<table border=\"1\" class=\"dataframe\">\n",
       "  <thead>\n",
       "    <tr style=\"text-align: right;\">\n",
       "      <th></th>\n",
       "      <th>mean</th>\n",
       "    </tr>\n",
       "    <tr>\n",
       "      <th>cut</th>\n",
       "      <th></th>\n",
       "    </tr>\n",
       "  </thead>\n",
       "  <tbody>\n",
       "    <tr>\n",
       "      <th>Fair</th>\n",
       "      <td>4358.757764</td>\n",
       "    </tr>\n",
       "    <tr>\n",
       "      <th>Good</th>\n",
       "      <td>3928.864452</td>\n",
       "    </tr>\n",
       "    <tr>\n",
       "      <th>Ideal</th>\n",
       "      <td>3457.541970</td>\n",
       "    </tr>\n",
       "    <tr>\n",
       "      <th>Premium</th>\n",
       "      <td>4584.257704</td>\n",
       "    </tr>\n",
       "    <tr>\n",
       "      <th>Very Good</th>\n",
       "      <td>3981.759891</td>\n",
       "    </tr>\n",
       "  </tbody>\n",
       "</table>\n",
       "</div>"
      ],
      "text/plain": [
       "                  mean\n",
       "cut                   \n",
       "Fair       4358.757764\n",
       "Good       3928.864452\n",
       "Ideal      3457.541970\n",
       "Premium    4584.257704\n",
       "Very Good  3981.759891"
      ]
     },
     "execution_count": 12,
     "metadata": {},
     "output_type": "execute_result"
    }
   ],
   "source": [
    "cut_grp['price'].agg([np.mean])"
   ]
  },
  {
   "cell_type": "markdown",
   "id": "9a03c1d7",
   "metadata": {
    "slideshow": {
     "slide_type": "subslide"
    }
   },
   "source": [
    "### 3.2. Aggregate Multiple functions"
   ]
  },
  {
   "cell_type": "code",
   "execution_count": 13,
   "id": "a5af6f82",
   "metadata": {
    "scrolled": true,
    "slideshow": {
     "slide_type": "fragment"
    }
   },
   "outputs": [
    {
     "data": {
      "text/html": [
       "<div>\n",
       "<style scoped>\n",
       "    .dataframe tbody tr th:only-of-type {\n",
       "        vertical-align: middle;\n",
       "    }\n",
       "\n",
       "    .dataframe tbody tr th {\n",
       "        vertical-align: top;\n",
       "    }\n",
       "\n",
       "    .dataframe thead th {\n",
       "        text-align: right;\n",
       "    }\n",
       "</style>\n",
       "<table border=\"1\" class=\"dataframe\">\n",
       "  <thead>\n",
       "    <tr style=\"text-align: right;\">\n",
       "      <th></th>\n",
       "      <th>mean</th>\n",
       "      <th>median</th>\n",
       "      <th>std</th>\n",
       "    </tr>\n",
       "    <tr>\n",
       "      <th>cut</th>\n",
       "      <th></th>\n",
       "      <th></th>\n",
       "      <th></th>\n",
       "    </tr>\n",
       "  </thead>\n",
       "  <tbody>\n",
       "    <tr>\n",
       "      <th>Fair</th>\n",
       "      <td>4358.757764</td>\n",
       "      <td>3282.0</td>\n",
       "      <td>3560.386612</td>\n",
       "    </tr>\n",
       "    <tr>\n",
       "      <th>Good</th>\n",
       "      <td>3928.864452</td>\n",
       "      <td>3050.5</td>\n",
       "      <td>3681.589584</td>\n",
       "    </tr>\n",
       "    <tr>\n",
       "      <th>Ideal</th>\n",
       "      <td>3457.541970</td>\n",
       "      <td>1810.0</td>\n",
       "      <td>3808.401172</td>\n",
       "    </tr>\n",
       "    <tr>\n",
       "      <th>Premium</th>\n",
       "      <td>4584.257704</td>\n",
       "      <td>3185.0</td>\n",
       "      <td>4349.204961</td>\n",
       "    </tr>\n",
       "    <tr>\n",
       "      <th>Very Good</th>\n",
       "      <td>3981.759891</td>\n",
       "      <td>2648.0</td>\n",
       "      <td>3935.862161</td>\n",
       "    </tr>\n",
       "  </tbody>\n",
       "</table>\n",
       "</div>"
      ],
      "text/plain": [
       "                  mean  median          std\n",
       "cut                                        \n",
       "Fair       4358.757764  3282.0  3560.386612\n",
       "Good       3928.864452  3050.5  3681.589584\n",
       "Ideal      3457.541970  1810.0  3808.401172\n",
       "Premium    4584.257704  3185.0  4349.204961\n",
       "Very Good  3981.759891  2648.0  3935.862161"
      ]
     },
     "execution_count": 13,
     "metadata": {},
     "output_type": "execute_result"
    }
   ],
   "source": [
    "df.groupby('cut')['price'].agg([np.mean, np.median, np.std])"
   ]
  },
  {
   "cell_type": "markdown",
   "id": "83bea34b",
   "metadata": {
    "slideshow": {
     "slide_type": "subslide"
    }
   },
   "source": [
    "__________\n",
    "## 4. nth element - GroupBy.nth\n",
    "- To select the nth element from each Group - use **`nth()`**"
   ]
  },
  {
   "cell_type": "code",
   "execution_count": 18,
   "id": "edac5f1e",
   "metadata": {
    "slideshow": {
     "slide_type": "fragment"
    }
   },
   "outputs": [
    {
     "data": {
      "text/plain": [
       "cut\n",
       "Fair         2759\n",
       "Good          339\n",
       "Ideal         344\n",
       "Premium       342\n",
       "Very Good     337\n",
       "Name: price, dtype: int64"
      ]
     },
     "execution_count": 18,
     "metadata": {},
     "output_type": "execute_result"
    }
   ],
   "source": [
    "df.groupby('cut')['price'].nth(2) #.agg([np.mean])"
   ]
  },
  {
   "cell_type": "code",
   "execution_count": null,
   "id": "a7ffff13",
   "metadata": {},
   "outputs": [],
   "source": [
    "df.groupby('cut')['price'].nth(2) #.agg([np.mean])"
   ]
  }
 ],
 "metadata": {
  "celltoolbar": "Slideshow",
  "kernelspec": {
   "display_name": "Python 3",
   "language": "python",
   "name": "python3"
  },
  "language_info": {
   "codemirror_mode": {
    "name": "ipython",
    "version": 3
   },
   "file_extension": ".py",
   "mimetype": "text/x-python",
   "name": "python",
   "nbconvert_exporter": "python",
   "pygments_lexer": "ipython3",
   "version": "3.8.8"
  }
 },
 "nbformat": 4,
 "nbformat_minor": 5
}
