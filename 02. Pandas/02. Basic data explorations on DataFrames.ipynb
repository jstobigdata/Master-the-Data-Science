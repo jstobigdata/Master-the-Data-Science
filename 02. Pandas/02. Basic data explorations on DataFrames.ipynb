{
 "cells": [
  {
   "cell_type": "markdown",
   "id": "ae305acf",
   "metadata": {
    "slideshow": {
     "slide_type": "slide"
    }
   },
   "source": [
    "# 02. Basic data explorations on DataFrames"
   ]
  },
  {
   "cell_type": "markdown",
   "id": "f4d9a56b",
   "metadata": {},
   "source": [
    "### Import the libraries"
   ]
  },
  {
   "cell_type": "code",
   "execution_count": 1,
   "id": "6dd036be",
   "metadata": {},
   "outputs": [],
   "source": [
    "import numpy as np\n",
    "import pandas as pd"
   ]
  },
  {
   "cell_type": "code",
   "execution_count": 2,
   "id": "a10c20e5",
   "metadata": {
    "slideshow": {
     "slide_type": "subslide"
    }
   },
   "outputs": [
    {
     "data": {
      "text/html": [
       "<div>\n",
       "<style scoped>\n",
       "    .dataframe tbody tr th:only-of-type {\n",
       "        vertical-align: middle;\n",
       "    }\n",
       "\n",
       "    .dataframe tbody tr th {\n",
       "        vertical-align: top;\n",
       "    }\n",
       "\n",
       "    .dataframe thead th {\n",
       "        text-align: right;\n",
       "    }\n",
       "</style>\n",
       "<table border=\"1\" class=\"dataframe\">\n",
       "  <thead>\n",
       "    <tr style=\"text-align: right;\">\n",
       "      <th></th>\n",
       "      <th>EmployeeID</th>\n",
       "      <th>birthdate_key</th>\n",
       "      <th>age</th>\n",
       "      <th>city_name</th>\n",
       "      <th>department</th>\n",
       "      <th>job_title</th>\n",
       "      <th>gender</th>\n",
       "    </tr>\n",
       "  </thead>\n",
       "  <tbody>\n",
       "    <tr>\n",
       "      <th>0</th>\n",
       "      <td>1318</td>\n",
       "      <td>1/3/1954</td>\n",
       "      <td>61</td>\n",
       "      <td>Vancouver</td>\n",
       "      <td>Executive</td>\n",
       "      <td>CEO</td>\n",
       "      <td>M</td>\n",
       "    </tr>\n",
       "    <tr>\n",
       "      <th>1</th>\n",
       "      <td>1319</td>\n",
       "      <td>1/3/1957</td>\n",
       "      <td>58</td>\n",
       "      <td>Vancouver</td>\n",
       "      <td>Executive</td>\n",
       "      <td>VP Stores</td>\n",
       "      <td>F</td>\n",
       "    </tr>\n",
       "    <tr>\n",
       "      <th>2</th>\n",
       "      <td>1320</td>\n",
       "      <td>1/2/1955</td>\n",
       "      <td>60</td>\n",
       "      <td>Vancouver</td>\n",
       "      <td>Executive</td>\n",
       "      <td>Legal Counsel</td>\n",
       "      <td>F</td>\n",
       "    </tr>\n",
       "    <tr>\n",
       "      <th>3</th>\n",
       "      <td>1321</td>\n",
       "      <td>1/2/1959</td>\n",
       "      <td>56</td>\n",
       "      <td>Vancouver</td>\n",
       "      <td>Executive</td>\n",
       "      <td>VP Human Resources</td>\n",
       "      <td>M</td>\n",
       "    </tr>\n",
       "    <tr>\n",
       "      <th>4</th>\n",
       "      <td>1322</td>\n",
       "      <td>1/9/1958</td>\n",
       "      <td>57</td>\n",
       "      <td>Vancouver</td>\n",
       "      <td>Executive</td>\n",
       "      <td>VP Finance</td>\n",
       "      <td>M</td>\n",
       "    </tr>\n",
       "    <tr>\n",
       "      <th>...</th>\n",
       "      <td>...</td>\n",
       "      <td>...</td>\n",
       "      <td>...</td>\n",
       "      <td>...</td>\n",
       "      <td>...</td>\n",
       "      <td>...</td>\n",
       "      <td>...</td>\n",
       "    </tr>\n",
       "    <tr>\n",
       "      <th>6279</th>\n",
       "      <td>8036</td>\n",
       "      <td>8/9/1992</td>\n",
       "      <td>23</td>\n",
       "      <td>New Westminister</td>\n",
       "      <td>Customer Service</td>\n",
       "      <td>Cashier</td>\n",
       "      <td>F</td>\n",
       "    </tr>\n",
       "    <tr>\n",
       "      <th>6280</th>\n",
       "      <td>8181</td>\n",
       "      <td>9/26/1993</td>\n",
       "      <td>22</td>\n",
       "      <td>Prince George</td>\n",
       "      <td>Customer Service</td>\n",
       "      <td>Cashier</td>\n",
       "      <td>M</td>\n",
       "    </tr>\n",
       "    <tr>\n",
       "      <th>6281</th>\n",
       "      <td>8223</td>\n",
       "      <td>2/11/1994</td>\n",
       "      <td>21</td>\n",
       "      <td>Trail</td>\n",
       "      <td>Customer Service</td>\n",
       "      <td>Cashier</td>\n",
       "      <td>M</td>\n",
       "    </tr>\n",
       "    <tr>\n",
       "      <th>6282</th>\n",
       "      <td>8226</td>\n",
       "      <td>2/16/1994</td>\n",
       "      <td>21</td>\n",
       "      <td>Victoria</td>\n",
       "      <td>Customer Service</td>\n",
       "      <td>Cashier</td>\n",
       "      <td>F</td>\n",
       "    </tr>\n",
       "    <tr>\n",
       "      <th>6283</th>\n",
       "      <td>8264</td>\n",
       "      <td>6/13/1994</td>\n",
       "      <td>21</td>\n",
       "      <td>Vancouver</td>\n",
       "      <td>Customer Service</td>\n",
       "      <td>Cashier</td>\n",
       "      <td>F</td>\n",
       "    </tr>\n",
       "  </tbody>\n",
       "</table>\n",
       "<p>6284 rows × 7 columns</p>\n",
       "</div>"
      ],
      "text/plain": [
       "      EmployeeID birthdate_key  age         city_name        department  \\\n",
       "0           1318      1/3/1954   61         Vancouver         Executive   \n",
       "1           1319      1/3/1957   58         Vancouver         Executive   \n",
       "2           1320      1/2/1955   60         Vancouver         Executive   \n",
       "3           1321      1/2/1959   56         Vancouver         Executive   \n",
       "4           1322      1/9/1958   57         Vancouver         Executive   \n",
       "...          ...           ...  ...               ...               ...   \n",
       "6279        8036      8/9/1992   23  New Westminister  Customer Service   \n",
       "6280        8181     9/26/1993   22     Prince George  Customer Service   \n",
       "6281        8223     2/11/1994   21             Trail  Customer Service   \n",
       "6282        8226     2/16/1994   21          Victoria  Customer Service   \n",
       "6283        8264     6/13/1994   21         Vancouver  Customer Service   \n",
       "\n",
       "               job_title gender  \n",
       "0                    CEO      M  \n",
       "1              VP Stores      F  \n",
       "2          Legal Counsel      F  \n",
       "3     VP Human Resources      M  \n",
       "4             VP Finance      M  \n",
       "...                  ...    ...  \n",
       "6279             Cashier      F  \n",
       "6280             Cashier      M  \n",
       "6281             Cashier      M  \n",
       "6282             Cashier      F  \n",
       "6283             Cashier      F  \n",
       "\n",
       "[6284 rows x 7 columns]"
      ]
     },
     "execution_count": 2,
     "metadata": {},
     "output_type": "execute_result"
    }
   ],
   "source": [
    "df = pd.read_csv('./data/Company.csv')\n",
    "df"
   ]
  },
  {
   "cell_type": "code",
   "execution_count": 3,
   "id": "9467377d",
   "metadata": {
    "slideshow": {
     "slide_type": "subslide"
    }
   },
   "outputs": [
    {
     "name": "stdout",
     "output_type": "stream",
     "text": [
      "<class 'pandas.core.frame.DataFrame'>\n",
      "RangeIndex: 6284 entries, 0 to 6283\n",
      "Data columns (total 7 columns):\n",
      " #   Column         Non-Null Count  Dtype \n",
      "---  ------         --------------  ----- \n",
      " 0   EmployeeID     6284 non-null   int64 \n",
      " 1   birthdate_key  6284 non-null   object\n",
      " 2   age            6284 non-null   int64 \n",
      " 3   city_name      6284 non-null   object\n",
      " 4   department     6284 non-null   object\n",
      " 5   job_title      6284 non-null   object\n",
      " 6   gender         6284 non-null   object\n",
      "dtypes: int64(2), object(5)\n",
      "memory usage: 343.8+ KB\n"
     ]
    }
   ],
   "source": [
    "df.info()"
   ]
  },
  {
   "cell_type": "code",
   "execution_count": 4,
   "id": "79f7af93",
   "metadata": {
    "slideshow": {
     "slide_type": "subslide"
    }
   },
   "outputs": [
    {
     "data": {
      "text/html": [
       "<div>\n",
       "<style scoped>\n",
       "    .dataframe tbody tr th:only-of-type {\n",
       "        vertical-align: middle;\n",
       "    }\n",
       "\n",
       "    .dataframe tbody tr th {\n",
       "        vertical-align: top;\n",
       "    }\n",
       "\n",
       "    .dataframe thead th {\n",
       "        text-align: right;\n",
       "    }\n",
       "</style>\n",
       "<table border=\"1\" class=\"dataframe\">\n",
       "  <thead>\n",
       "    <tr style=\"text-align: right;\">\n",
       "      <th></th>\n",
       "      <th>EmployeeID</th>\n",
       "      <th>age</th>\n",
       "    </tr>\n",
       "  </thead>\n",
       "  <tbody>\n",
       "    <tr>\n",
       "      <th>count</th>\n",
       "      <td>6284.000000</td>\n",
       "      <td>6284.000000</td>\n",
       "    </tr>\n",
       "    <tr>\n",
       "      <th>mean</th>\n",
       "      <td>5088.843094</td>\n",
       "      <td>45.783418</td>\n",
       "    </tr>\n",
       "    <tr>\n",
       "      <th>std</th>\n",
       "      <td>1956.079548</td>\n",
       "      <td>15.076558</td>\n",
       "    </tr>\n",
       "    <tr>\n",
       "      <th>min</th>\n",
       "      <td>1318.000000</td>\n",
       "      <td>21.000000</td>\n",
       "    </tr>\n",
       "    <tr>\n",
       "      <th>25%</th>\n",
       "      <td>3482.750000</td>\n",
       "      <td>33.000000</td>\n",
       "    </tr>\n",
       "    <tr>\n",
       "      <th>50%</th>\n",
       "      <td>5180.500000</td>\n",
       "      <td>45.000000</td>\n",
       "    </tr>\n",
       "    <tr>\n",
       "      <th>75%</th>\n",
       "      <td>6765.250000</td>\n",
       "      <td>59.000000</td>\n",
       "    </tr>\n",
       "    <tr>\n",
       "      <th>max</th>\n",
       "      <td>8336.000000</td>\n",
       "      <td>74.000000</td>\n",
       "    </tr>\n",
       "  </tbody>\n",
       "</table>\n",
       "</div>"
      ],
      "text/plain": [
       "        EmployeeID          age\n",
       "count  6284.000000  6284.000000\n",
       "mean   5088.843094    45.783418\n",
       "std    1956.079548    15.076558\n",
       "min    1318.000000    21.000000\n",
       "25%    3482.750000    33.000000\n",
       "50%    5180.500000    45.000000\n",
       "75%    6765.250000    59.000000\n",
       "max    8336.000000    74.000000"
      ]
     },
     "execution_count": 4,
     "metadata": {},
     "output_type": "execute_result"
    }
   ],
   "source": [
    "df.describe()"
   ]
  },
  {
   "cell_type": "code",
   "execution_count": 5,
   "id": "deccc4ee",
   "metadata": {
    "slideshow": {
     "slide_type": "subslide"
    }
   },
   "outputs": [
    {
     "data": {
      "text/plain": [
       "Index(['EmployeeID', 'birthdate_key', 'age', 'city_name', 'department',\n",
       "       'job_title', 'gender'],\n",
       "      dtype='object')"
      ]
     },
     "execution_count": 5,
     "metadata": {},
     "output_type": "execute_result"
    }
   ],
   "source": [
    "df.columns"
   ]
  },
  {
   "cell_type": "markdown",
   "id": "eee638df",
   "metadata": {
    "slideshow": {
     "slide_type": "subslide"
    }
   },
   "source": [
    "_____________\n",
    "## DataFrame index\n",
    "- Get the index column - `df.index`\n",
    "- Set the index column - `df.set_index`\n",
    "- While reading the file - `pd.read_csv(filepath, index_col = column_number)`"
   ]
  },
  {
   "cell_type": "code",
   "execution_count": 6,
   "id": "8bbe1eed",
   "metadata": {
    "slideshow": {
     "slide_type": "-"
    }
   },
   "outputs": [
    {
     "data": {
      "text/plain": [
       "RangeIndex(start=0, stop=6284, step=1)"
      ]
     },
     "execution_count": 6,
     "metadata": {},
     "output_type": "execute_result"
    }
   ],
   "source": [
    "df.index"
   ]
  },
  {
   "cell_type": "code",
   "execution_count": 7,
   "id": "f544b72d",
   "metadata": {
    "slideshow": {
     "slide_type": "subslide"
    }
   },
   "outputs": [
    {
     "data": {
      "text/html": [
       "<div>\n",
       "<style scoped>\n",
       "    .dataframe tbody tr th:only-of-type {\n",
       "        vertical-align: middle;\n",
       "    }\n",
       "\n",
       "    .dataframe tbody tr th {\n",
       "        vertical-align: top;\n",
       "    }\n",
       "\n",
       "    .dataframe thead th {\n",
       "        text-align: right;\n",
       "    }\n",
       "</style>\n",
       "<table border=\"1\" class=\"dataframe\">\n",
       "  <thead>\n",
       "    <tr style=\"text-align: right;\">\n",
       "      <th></th>\n",
       "      <th>birthdate_key</th>\n",
       "      <th>age</th>\n",
       "      <th>city_name</th>\n",
       "      <th>department</th>\n",
       "      <th>job_title</th>\n",
       "      <th>gender</th>\n",
       "    </tr>\n",
       "    <tr>\n",
       "      <th>EmployeeID</th>\n",
       "      <th></th>\n",
       "      <th></th>\n",
       "      <th></th>\n",
       "      <th></th>\n",
       "      <th></th>\n",
       "      <th></th>\n",
       "    </tr>\n",
       "  </thead>\n",
       "  <tbody>\n",
       "    <tr>\n",
       "      <th>1318</th>\n",
       "      <td>1/3/1954</td>\n",
       "      <td>61</td>\n",
       "      <td>Vancouver</td>\n",
       "      <td>Executive</td>\n",
       "      <td>CEO</td>\n",
       "      <td>M</td>\n",
       "    </tr>\n",
       "    <tr>\n",
       "      <th>1319</th>\n",
       "      <td>1/3/1957</td>\n",
       "      <td>58</td>\n",
       "      <td>Vancouver</td>\n",
       "      <td>Executive</td>\n",
       "      <td>VP Stores</td>\n",
       "      <td>F</td>\n",
       "    </tr>\n",
       "    <tr>\n",
       "      <th>1320</th>\n",
       "      <td>1/2/1955</td>\n",
       "      <td>60</td>\n",
       "      <td>Vancouver</td>\n",
       "      <td>Executive</td>\n",
       "      <td>Legal Counsel</td>\n",
       "      <td>F</td>\n",
       "    </tr>\n",
       "    <tr>\n",
       "      <th>1321</th>\n",
       "      <td>1/2/1959</td>\n",
       "      <td>56</td>\n",
       "      <td>Vancouver</td>\n",
       "      <td>Executive</td>\n",
       "      <td>VP Human Resources</td>\n",
       "      <td>M</td>\n",
       "    </tr>\n",
       "    <tr>\n",
       "      <th>1322</th>\n",
       "      <td>1/9/1958</td>\n",
       "      <td>57</td>\n",
       "      <td>Vancouver</td>\n",
       "      <td>Executive</td>\n",
       "      <td>VP Finance</td>\n",
       "      <td>M</td>\n",
       "    </tr>\n",
       "    <tr>\n",
       "      <th>...</th>\n",
       "      <td>...</td>\n",
       "      <td>...</td>\n",
       "      <td>...</td>\n",
       "      <td>...</td>\n",
       "      <td>...</td>\n",
       "      <td>...</td>\n",
       "    </tr>\n",
       "    <tr>\n",
       "      <th>8036</th>\n",
       "      <td>8/9/1992</td>\n",
       "      <td>23</td>\n",
       "      <td>New Westminister</td>\n",
       "      <td>Customer Service</td>\n",
       "      <td>Cashier</td>\n",
       "      <td>F</td>\n",
       "    </tr>\n",
       "    <tr>\n",
       "      <th>8181</th>\n",
       "      <td>9/26/1993</td>\n",
       "      <td>22</td>\n",
       "      <td>Prince George</td>\n",
       "      <td>Customer Service</td>\n",
       "      <td>Cashier</td>\n",
       "      <td>M</td>\n",
       "    </tr>\n",
       "    <tr>\n",
       "      <th>8223</th>\n",
       "      <td>2/11/1994</td>\n",
       "      <td>21</td>\n",
       "      <td>Trail</td>\n",
       "      <td>Customer Service</td>\n",
       "      <td>Cashier</td>\n",
       "      <td>M</td>\n",
       "    </tr>\n",
       "    <tr>\n",
       "      <th>8226</th>\n",
       "      <td>2/16/1994</td>\n",
       "      <td>21</td>\n",
       "      <td>Victoria</td>\n",
       "      <td>Customer Service</td>\n",
       "      <td>Cashier</td>\n",
       "      <td>F</td>\n",
       "    </tr>\n",
       "    <tr>\n",
       "      <th>8264</th>\n",
       "      <td>6/13/1994</td>\n",
       "      <td>21</td>\n",
       "      <td>Vancouver</td>\n",
       "      <td>Customer Service</td>\n",
       "      <td>Cashier</td>\n",
       "      <td>F</td>\n",
       "    </tr>\n",
       "  </tbody>\n",
       "</table>\n",
       "<p>6284 rows × 6 columns</p>\n",
       "</div>"
      ],
      "text/plain": [
       "           birthdate_key  age         city_name        department  \\\n",
       "EmployeeID                                                          \n",
       "1318            1/3/1954   61         Vancouver         Executive   \n",
       "1319            1/3/1957   58         Vancouver         Executive   \n",
       "1320            1/2/1955   60         Vancouver         Executive   \n",
       "1321            1/2/1959   56         Vancouver         Executive   \n",
       "1322            1/9/1958   57         Vancouver         Executive   \n",
       "...                  ...  ...               ...               ...   \n",
       "8036            8/9/1992   23  New Westminister  Customer Service   \n",
       "8181           9/26/1993   22     Prince George  Customer Service   \n",
       "8223           2/11/1994   21             Trail  Customer Service   \n",
       "8226           2/16/1994   21          Victoria  Customer Service   \n",
       "8264           6/13/1994   21         Vancouver  Customer Service   \n",
       "\n",
       "                     job_title gender  \n",
       "EmployeeID                             \n",
       "1318                       CEO      M  \n",
       "1319                 VP Stores      F  \n",
       "1320             Legal Counsel      F  \n",
       "1321        VP Human Resources      M  \n",
       "1322                VP Finance      M  \n",
       "...                        ...    ...  \n",
       "8036                   Cashier      F  \n",
       "8181                   Cashier      M  \n",
       "8223                   Cashier      M  \n",
       "8226                   Cashier      F  \n",
       "8264                   Cashier      F  \n",
       "\n",
       "[6284 rows x 6 columns]"
      ]
     },
     "execution_count": 7,
     "metadata": {},
     "output_type": "execute_result"
    }
   ],
   "source": [
    "df.set_index('EmployeeID', inplace=True)\n",
    "df"
   ]
  },
  {
   "cell_type": "code",
   "execution_count": 8,
   "id": "730fd37f",
   "metadata": {
    "slideshow": {
     "slide_type": "subslide"
    }
   },
   "outputs": [
    {
     "data": {
      "text/plain": [
       "birthdate_key    object\n",
       "age               int64\n",
       "city_name        object\n",
       "department       object\n",
       "job_title        object\n",
       "gender           object\n",
       "dtype: object"
      ]
     },
     "execution_count": 8,
     "metadata": {},
     "output_type": "execute_result"
    }
   ],
   "source": [
    "df.dtypes"
   ]
  },
  {
   "cell_type": "raw",
   "id": "b251cba1",
   "metadata": {
    "slideshow": {
     "slide_type": "-"
    }
   },
   "source": [
    "df.shape"
   ]
  },
  {
   "cell_type": "code",
   "execution_count": 10,
   "id": "22085d6e",
   "metadata": {
    "slideshow": {
     "slide_type": "subslide"
    }
   },
   "outputs": [
    {
     "data": {
      "text/html": [
       "<div>\n",
       "<style scoped>\n",
       "    .dataframe tbody tr th:only-of-type {\n",
       "        vertical-align: middle;\n",
       "    }\n",
       "\n",
       "    .dataframe tbody tr th {\n",
       "        vertical-align: top;\n",
       "    }\n",
       "\n",
       "    .dataframe thead th {\n",
       "        text-align: right;\n",
       "    }\n",
       "</style>\n",
       "<table border=\"1\" class=\"dataframe\">\n",
       "  <thead>\n",
       "    <tr style=\"text-align: right;\">\n",
       "      <th></th>\n",
       "      <th>birthdate_key</th>\n",
       "      <th>age</th>\n",
       "      <th>city_name</th>\n",
       "      <th>department</th>\n",
       "      <th>job_title</th>\n",
       "      <th>gender</th>\n",
       "    </tr>\n",
       "    <tr>\n",
       "      <th>EmployeeID</th>\n",
       "      <th></th>\n",
       "      <th></th>\n",
       "      <th></th>\n",
       "      <th></th>\n",
       "      <th></th>\n",
       "      <th></th>\n",
       "    </tr>\n",
       "  </thead>\n",
       "  <tbody>\n",
       "    <tr>\n",
       "      <th>1318</th>\n",
       "      <td>1/3/1954</td>\n",
       "      <td>61</td>\n",
       "      <td>Vancouver</td>\n",
       "      <td>Executive</td>\n",
       "      <td>CEO</td>\n",
       "      <td>M</td>\n",
       "    </tr>\n",
       "    <tr>\n",
       "      <th>1319</th>\n",
       "      <td>1/3/1957</td>\n",
       "      <td>58</td>\n",
       "      <td>Vancouver</td>\n",
       "      <td>Executive</td>\n",
       "      <td>VP Stores</td>\n",
       "      <td>F</td>\n",
       "    </tr>\n",
       "    <tr>\n",
       "      <th>1320</th>\n",
       "      <td>1/2/1955</td>\n",
       "      <td>60</td>\n",
       "      <td>Vancouver</td>\n",
       "      <td>Executive</td>\n",
       "      <td>Legal Counsel</td>\n",
       "      <td>F</td>\n",
       "    </tr>\n",
       "    <tr>\n",
       "      <th>1321</th>\n",
       "      <td>1/2/1959</td>\n",
       "      <td>56</td>\n",
       "      <td>Vancouver</td>\n",
       "      <td>Executive</td>\n",
       "      <td>VP Human Resources</td>\n",
       "      <td>M</td>\n",
       "    </tr>\n",
       "    <tr>\n",
       "      <th>1322</th>\n",
       "      <td>1/9/1958</td>\n",
       "      <td>57</td>\n",
       "      <td>Vancouver</td>\n",
       "      <td>Executive</td>\n",
       "      <td>VP Finance</td>\n",
       "      <td>M</td>\n",
       "    </tr>\n",
       "  </tbody>\n",
       "</table>\n",
       "</div>"
      ],
      "text/plain": [
       "           birthdate_key  age  city_name department           job_title gender\n",
       "EmployeeID                                                                    \n",
       "1318            1/3/1954   61  Vancouver  Executive                 CEO      M\n",
       "1319            1/3/1957   58  Vancouver  Executive           VP Stores      F\n",
       "1320            1/2/1955   60  Vancouver  Executive       Legal Counsel      F\n",
       "1321            1/2/1959   56  Vancouver  Executive  VP Human Resources      M\n",
       "1322            1/9/1958   57  Vancouver  Executive          VP Finance      M"
      ]
     },
     "execution_count": 10,
     "metadata": {},
     "output_type": "execute_result"
    }
   ],
   "source": [
    "df.head()"
   ]
  },
  {
   "cell_type": "code",
   "execution_count": 11,
   "id": "f7c36714",
   "metadata": {
    "scrolled": true,
    "slideshow": {
     "slide_type": "subslide"
    }
   },
   "outputs": [
    {
     "data": {
      "text/html": [
       "<div>\n",
       "<style scoped>\n",
       "    .dataframe tbody tr th:only-of-type {\n",
       "        vertical-align: middle;\n",
       "    }\n",
       "\n",
       "    .dataframe tbody tr th {\n",
       "        vertical-align: top;\n",
       "    }\n",
       "\n",
       "    .dataframe thead th {\n",
       "        text-align: right;\n",
       "    }\n",
       "</style>\n",
       "<table border=\"1\" class=\"dataframe\">\n",
       "  <thead>\n",
       "    <tr style=\"text-align: right;\">\n",
       "      <th></th>\n",
       "      <th>birthdate_key</th>\n",
       "      <th>age</th>\n",
       "      <th>city_name</th>\n",
       "      <th>department</th>\n",
       "      <th>job_title</th>\n",
       "      <th>gender</th>\n",
       "    </tr>\n",
       "    <tr>\n",
       "      <th>EmployeeID</th>\n",
       "      <th></th>\n",
       "      <th></th>\n",
       "      <th></th>\n",
       "      <th></th>\n",
       "      <th></th>\n",
       "      <th></th>\n",
       "    </tr>\n",
       "  </thead>\n",
       "  <tbody>\n",
       "    <tr>\n",
       "      <th>1318</th>\n",
       "      <td>1/3/1954</td>\n",
       "      <td>61</td>\n",
       "      <td>Vancouver</td>\n",
       "      <td>Executive</td>\n",
       "      <td>CEO</td>\n",
       "      <td>M</td>\n",
       "    </tr>\n",
       "    <tr>\n",
       "      <th>1319</th>\n",
       "      <td>1/3/1957</td>\n",
       "      <td>58</td>\n",
       "      <td>Vancouver</td>\n",
       "      <td>Executive</td>\n",
       "      <td>VP Stores</td>\n",
       "      <td>F</td>\n",
       "    </tr>\n",
       "    <tr>\n",
       "      <th>1320</th>\n",
       "      <td>1/2/1955</td>\n",
       "      <td>60</td>\n",
       "      <td>Vancouver</td>\n",
       "      <td>Executive</td>\n",
       "      <td>Legal Counsel</td>\n",
       "      <td>F</td>\n",
       "    </tr>\n",
       "    <tr>\n",
       "      <th>1321</th>\n",
       "      <td>1/2/1959</td>\n",
       "      <td>56</td>\n",
       "      <td>Vancouver</td>\n",
       "      <td>Executive</td>\n",
       "      <td>VP Human Resources</td>\n",
       "      <td>M</td>\n",
       "    </tr>\n",
       "    <tr>\n",
       "      <th>1322</th>\n",
       "      <td>1/9/1958</td>\n",
       "      <td>57</td>\n",
       "      <td>Vancouver</td>\n",
       "      <td>Executive</td>\n",
       "      <td>VP Finance</td>\n",
       "      <td>M</td>\n",
       "    </tr>\n",
       "    <tr>\n",
       "      <th>1323</th>\n",
       "      <td>1/9/1962</td>\n",
       "      <td>53</td>\n",
       "      <td>Vancouver</td>\n",
       "      <td>Executive</td>\n",
       "      <td>Exec Assistant, VP Stores</td>\n",
       "      <td>M</td>\n",
       "    </tr>\n",
       "    <tr>\n",
       "      <th>1325</th>\n",
       "      <td>1/13/1964</td>\n",
       "      <td>51</td>\n",
       "      <td>Vancouver</td>\n",
       "      <td>Executive</td>\n",
       "      <td>Exec Assistant, Legal Counsel</td>\n",
       "      <td>F</td>\n",
       "    </tr>\n",
       "  </tbody>\n",
       "</table>\n",
       "</div>"
      ],
      "text/plain": [
       "           birthdate_key  age  city_name department  \\\n",
       "EmployeeID                                            \n",
       "1318            1/3/1954   61  Vancouver  Executive   \n",
       "1319            1/3/1957   58  Vancouver  Executive   \n",
       "1320            1/2/1955   60  Vancouver  Executive   \n",
       "1321            1/2/1959   56  Vancouver  Executive   \n",
       "1322            1/9/1958   57  Vancouver  Executive   \n",
       "1323            1/9/1962   53  Vancouver  Executive   \n",
       "1325           1/13/1964   51  Vancouver  Executive   \n",
       "\n",
       "                                job_title gender  \n",
       "EmployeeID                                        \n",
       "1318                                  CEO      M  \n",
       "1319                            VP Stores      F  \n",
       "1320                        Legal Counsel      F  \n",
       "1321                   VP Human Resources      M  \n",
       "1322                           VP Finance      M  \n",
       "1323            Exec Assistant, VP Stores      M  \n",
       "1325        Exec Assistant, Legal Counsel      F  "
      ]
     },
     "execution_count": 11,
     "metadata": {},
     "output_type": "execute_result"
    }
   ],
   "source": [
    "df.head(7)"
   ]
  },
  {
   "cell_type": "code",
   "execution_count": 12,
   "id": "5ccfae70",
   "metadata": {
    "slideshow": {
     "slide_type": "subslide"
    }
   },
   "outputs": [
    {
     "data": {
      "text/html": [
       "<div>\n",
       "<style scoped>\n",
       "    .dataframe tbody tr th:only-of-type {\n",
       "        vertical-align: middle;\n",
       "    }\n",
       "\n",
       "    .dataframe tbody tr th {\n",
       "        vertical-align: top;\n",
       "    }\n",
       "\n",
       "    .dataframe thead th {\n",
       "        text-align: right;\n",
       "    }\n",
       "</style>\n",
       "<table border=\"1\" class=\"dataframe\">\n",
       "  <thead>\n",
       "    <tr style=\"text-align: right;\">\n",
       "      <th></th>\n",
       "      <th>birthdate_key</th>\n",
       "      <th>age</th>\n",
       "      <th>city_name</th>\n",
       "      <th>department</th>\n",
       "      <th>job_title</th>\n",
       "      <th>gender</th>\n",
       "    </tr>\n",
       "    <tr>\n",
       "      <th>EmployeeID</th>\n",
       "      <th></th>\n",
       "      <th></th>\n",
       "      <th></th>\n",
       "      <th></th>\n",
       "      <th></th>\n",
       "      <th></th>\n",
       "    </tr>\n",
       "  </thead>\n",
       "  <tbody>\n",
       "    <tr>\n",
       "      <th>8223</th>\n",
       "      <td>2/11/1994</td>\n",
       "      <td>21</td>\n",
       "      <td>Trail</td>\n",
       "      <td>Customer Service</td>\n",
       "      <td>Cashier</td>\n",
       "      <td>M</td>\n",
       "    </tr>\n",
       "    <tr>\n",
       "      <th>8226</th>\n",
       "      <td>2/16/1994</td>\n",
       "      <td>21</td>\n",
       "      <td>Victoria</td>\n",
       "      <td>Customer Service</td>\n",
       "      <td>Cashier</td>\n",
       "      <td>F</td>\n",
       "    </tr>\n",
       "    <tr>\n",
       "      <th>8264</th>\n",
       "      <td>6/13/1994</td>\n",
       "      <td>21</td>\n",
       "      <td>Vancouver</td>\n",
       "      <td>Customer Service</td>\n",
       "      <td>Cashier</td>\n",
       "      <td>F</td>\n",
       "    </tr>\n",
       "  </tbody>\n",
       "</table>\n",
       "</div>"
      ],
      "text/plain": [
       "           birthdate_key  age  city_name        department job_title gender\n",
       "EmployeeID                                                                 \n",
       "8223           2/11/1994   21      Trail  Customer Service   Cashier      M\n",
       "8226           2/16/1994   21   Victoria  Customer Service   Cashier      F\n",
       "8264           6/13/1994   21  Vancouver  Customer Service   Cashier      F"
      ]
     },
     "execution_count": 12,
     "metadata": {},
     "output_type": "execute_result"
    }
   ],
   "source": [
    "df.tail(3)"
   ]
  },
  {
   "cell_type": "code",
   "execution_count": 13,
   "id": "aa2e4fbd",
   "metadata": {
    "slideshow": {
     "slide_type": "subslide"
    }
   },
   "outputs": [
    {
     "data": {
      "text/plain": [
       "age    45.783418\n",
       "dtype: float64"
      ]
     },
     "execution_count": 13,
     "metadata": {},
     "output_type": "execute_result"
    }
   ],
   "source": [
    "df.mean()"
   ]
  },
  {
   "cell_type": "code",
   "execution_count": 14,
   "id": "22616774",
   "metadata": {
    "slideshow": {
     "slide_type": "fragment"
    }
   },
   "outputs": [
    {
     "data": {
      "text/plain": [
       "21"
      ]
     },
     "execution_count": 14,
     "metadata": {},
     "output_type": "execute_result"
    }
   ],
   "source": [
    "df['age'].min()"
   ]
  },
  {
   "cell_type": "code",
   "execution_count": 15,
   "id": "f7a71379",
   "metadata": {
    "slideshow": {
     "slide_type": "fragment"
    }
   },
   "outputs": [
    {
     "data": {
      "text/plain": [
       "45.0"
      ]
     },
     "execution_count": 15,
     "metadata": {},
     "output_type": "execute_result"
    }
   ],
   "source": [
    "df['age'].median()"
   ]
  },
  {
   "cell_type": "code",
   "execution_count": 16,
   "id": "0bfaf523",
   "metadata": {
    "slideshow": {
     "slide_type": "subslide"
    }
   },
   "outputs": [
    {
     "data": {
      "text/plain": [
       "array(['Executive', 'Store Management', 'Meats', 'Recruitment',\n",
       "       'Training', 'Labor Relations', 'HR Technology', 'Employee Records',\n",
       "       'Compensation', 'Legal', 'Produce', 'Accounts Receiveable',\n",
       "       'Bakery', 'Information Technology', 'Accounts Payable', 'Audit',\n",
       "       'Accounting', 'Investment', 'Dairy', 'Processed Foods',\n",
       "       'Customer Service'], dtype=object)"
      ]
     },
     "execution_count": 16,
     "metadata": {},
     "output_type": "execute_result"
    }
   ],
   "source": [
    "df['department'].unique()"
   ]
  },
  {
   "cell_type": "markdown",
   "id": "45b2c246",
   "metadata": {
    "slideshow": {
     "slide_type": "subslide"
    }
   },
   "source": [
    "____________\n",
    "## Assignment\n",
    "- Take a high level look at the data\n",
    "- Load the data from `marks_test.csv` file correctly\n",
    "- Find the Descriptions of the data\n",
    "- Rename the columns as `Name`, `Subject`, `Maximum Marks`, `Marks Obtained`, `Percentage`\n",
    "\n",
    "![assignment](data/02.jpeg)"
   ]
  },
  {
   "cell_type": "markdown",
   "id": "c7e300cf",
   "metadata": {},
   "source": []
  }
 ],
 "metadata": {
  "celltoolbar": "Slideshow",
  "kernelspec": {
   "display_name": "Python 3",
   "language": "python",
   "name": "python3"
  },
  "language_info": {
   "codemirror_mode": {
    "name": "ipython",
    "version": 3
   },
   "file_extension": ".py",
   "mimetype": "text/x-python",
   "name": "python",
   "nbconvert_exporter": "python",
   "pygments_lexer": "ipython3",
   "version": "3.8.8"
  }
 },
 "nbformat": 4,
 "nbformat_minor": 5
}
