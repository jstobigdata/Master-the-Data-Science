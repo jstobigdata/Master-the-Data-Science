{
 "cells": [
  {
   "cell_type": "markdown",
   "id": "32565c64",
   "metadata": {},
   "source": [
    "# 04. Description in DataFrame\n",
    "- It provides many functions such as  - mean, median, sum, std etc.\n",
    "- Methods are available from dataFrame i.e. `pandas.DataFrame.mode`.\n",
    "- axis=0, means row-wise. axis=1, means column-wise.\n",
    "\n",
    "| SI. No. | Function | Descriptions |\n",
    "| :---- | :---- | :---- |\n",
    "| 1. | [mean](https://pandas.pydata.org/docs/reference/api/pandas.DataFrame.mean.html) | Finds the mean of Column or row |\n",
    "| 2. | [median](https://pandas.pydata.org/docs/reference/api/pandas.DataFrame.median.html) | Finds the median of Column or row |\n",
    "| 3. | [mode](https://pandas.pydata.org/docs/reference/api/pandas.DataFrame.mode.html) | Get the mode(s) of each element along the selected axis |\n",
    "| 4. | [sum](https://pandas.pydata.org/docs/reference/api/pandas.DataFrame.sum.html) | Calculate the sum of row or column |\n",
    "| 5. | [std](https://pandas.pydata.org/docs/reference/api/pandas.DataFrame.std.html) | Calculate the standard deviation of each row or column |\n",
    "| 6. | [min](https://pandas.pydata.org/docs/reference/api/pandas.DataFrame.min.html) | Finds the minimum value |\n",
    "| 7. | [max](https://pandas.pydata.org/docs/reference/api/pandas.DataFrame.max.html) | Finds the maximum value |\n",
    "| 8. | [count](https://pandas.pydata.org/docs/reference/api/pandas.DataFrame.count.html) | Counts all non-null value |\n",
    "| 9. | [unique](https://pandas.pydata.org/docs/reference/api/pandas.Series.unique.html) | Returns the unique values |\n",
    "| 10.| [nunique](https://pandas.pydata.org/docs/reference/api/pandas.DataFrame.nunique.html) | Count number of distinct elements in specified axis. |\n"
   ]
  },
  {
   "cell_type": "markdown",
   "id": "3f4029a4",
   "metadata": {},
   "source": [
    "#### Import the Pandas and NumPy Libraries"
   ]
  },
  {
   "cell_type": "code",
   "execution_count": 1,
   "id": "442f8a3d",
   "metadata": {},
   "outputs": [],
   "source": [
    "import numpy as np\n",
    "import pandas as pd"
   ]
  },
  {
   "cell_type": "markdown",
   "id": "865b12d3",
   "metadata": {},
   "source": [
    "#### Load the data"
   ]
  },
  {
   "cell_type": "code",
   "execution_count": 2,
   "id": "42aaf22a",
   "metadata": {
    "scrolled": true
   },
   "outputs": [
    {
     "data": {
      "text/html": [
       "<div>\n",
       "<style scoped>\n",
       "    .dataframe tbody tr th:only-of-type {\n",
       "        vertical-align: middle;\n",
       "    }\n",
       "\n",
       "    .dataframe tbody tr th {\n",
       "        vertical-align: top;\n",
       "    }\n",
       "\n",
       "    .dataframe thead th {\n",
       "        text-align: right;\n",
       "    }\n",
       "</style>\n",
       "<table border=\"1\" class=\"dataframe\">\n",
       "  <thead>\n",
       "    <tr style=\"text-align: right;\">\n",
       "      <th></th>\n",
       "      <th>EmployeeID</th>\n",
       "      <th>birthdate_key</th>\n",
       "      <th>age</th>\n",
       "      <th>city_name</th>\n",
       "      <th>department</th>\n",
       "      <th>job_title</th>\n",
       "      <th>gender</th>\n",
       "    </tr>\n",
       "  </thead>\n",
       "  <tbody>\n",
       "    <tr>\n",
       "      <th>0</th>\n",
       "      <td>1318</td>\n",
       "      <td>1/3/1954</td>\n",
       "      <td>61</td>\n",
       "      <td>Vancouver</td>\n",
       "      <td>Executive</td>\n",
       "      <td>CEO</td>\n",
       "      <td>M</td>\n",
       "    </tr>\n",
       "    <tr>\n",
       "      <th>1</th>\n",
       "      <td>1319</td>\n",
       "      <td>1/3/1957</td>\n",
       "      <td>58</td>\n",
       "      <td>Vancouver</td>\n",
       "      <td>Executive</td>\n",
       "      <td>VP Stores</td>\n",
       "      <td>F</td>\n",
       "    </tr>\n",
       "    <tr>\n",
       "      <th>2</th>\n",
       "      <td>1320</td>\n",
       "      <td>1/2/1955</td>\n",
       "      <td>60</td>\n",
       "      <td>Vancouver</td>\n",
       "      <td>Executive</td>\n",
       "      <td>Legal Counsel</td>\n",
       "      <td>F</td>\n",
       "    </tr>\n",
       "    <tr>\n",
       "      <th>3</th>\n",
       "      <td>1321</td>\n",
       "      <td>1/2/1959</td>\n",
       "      <td>56</td>\n",
       "      <td>Vancouver</td>\n",
       "      <td>Executive</td>\n",
       "      <td>VP Human Resources</td>\n",
       "      <td>M</td>\n",
       "    </tr>\n",
       "    <tr>\n",
       "      <th>4</th>\n",
       "      <td>1322</td>\n",
       "      <td>1/9/1958</td>\n",
       "      <td>57</td>\n",
       "      <td>Vancouver</td>\n",
       "      <td>Executive</td>\n",
       "      <td>VP Finance</td>\n",
       "      <td>M</td>\n",
       "    </tr>\n",
       "    <tr>\n",
       "      <th>...</th>\n",
       "      <td>...</td>\n",
       "      <td>...</td>\n",
       "      <td>...</td>\n",
       "      <td>...</td>\n",
       "      <td>...</td>\n",
       "      <td>...</td>\n",
       "      <td>...</td>\n",
       "    </tr>\n",
       "    <tr>\n",
       "      <th>6279</th>\n",
       "      <td>8036</td>\n",
       "      <td>8/9/1992</td>\n",
       "      <td>23</td>\n",
       "      <td>New Westminister</td>\n",
       "      <td>Customer Service</td>\n",
       "      <td>Cashier</td>\n",
       "      <td>F</td>\n",
       "    </tr>\n",
       "    <tr>\n",
       "      <th>6280</th>\n",
       "      <td>8181</td>\n",
       "      <td>9/26/1993</td>\n",
       "      <td>22</td>\n",
       "      <td>Prince George</td>\n",
       "      <td>Customer Service</td>\n",
       "      <td>Cashier</td>\n",
       "      <td>M</td>\n",
       "    </tr>\n",
       "    <tr>\n",
       "      <th>6281</th>\n",
       "      <td>8223</td>\n",
       "      <td>2/11/1994</td>\n",
       "      <td>21</td>\n",
       "      <td>Trail</td>\n",
       "      <td>Customer Service</td>\n",
       "      <td>Cashier</td>\n",
       "      <td>M</td>\n",
       "    </tr>\n",
       "    <tr>\n",
       "      <th>6282</th>\n",
       "      <td>8226</td>\n",
       "      <td>2/16/1994</td>\n",
       "      <td>21</td>\n",
       "      <td>Victoria</td>\n",
       "      <td>Customer Service</td>\n",
       "      <td>Cashier</td>\n",
       "      <td>F</td>\n",
       "    </tr>\n",
       "    <tr>\n",
       "      <th>6283</th>\n",
       "      <td>8264</td>\n",
       "      <td>6/13/1994</td>\n",
       "      <td>21</td>\n",
       "      <td>Vancouver</td>\n",
       "      <td>Customer Service</td>\n",
       "      <td>Cashier</td>\n",
       "      <td>F</td>\n",
       "    </tr>\n",
       "  </tbody>\n",
       "</table>\n",
       "<p>6284 rows × 7 columns</p>\n",
       "</div>"
      ],
      "text/plain": [
       "      EmployeeID birthdate_key  age         city_name        department  \\\n",
       "0           1318      1/3/1954   61         Vancouver         Executive   \n",
       "1           1319      1/3/1957   58         Vancouver         Executive   \n",
       "2           1320      1/2/1955   60         Vancouver         Executive   \n",
       "3           1321      1/2/1959   56         Vancouver         Executive   \n",
       "4           1322      1/9/1958   57         Vancouver         Executive   \n",
       "...          ...           ...  ...               ...               ...   \n",
       "6279        8036      8/9/1992   23  New Westminister  Customer Service   \n",
       "6280        8181     9/26/1993   22     Prince George  Customer Service   \n",
       "6281        8223     2/11/1994   21             Trail  Customer Service   \n",
       "6282        8226     2/16/1994   21          Victoria  Customer Service   \n",
       "6283        8264     6/13/1994   21         Vancouver  Customer Service   \n",
       "\n",
       "               job_title gender  \n",
       "0                    CEO      M  \n",
       "1              VP Stores      F  \n",
       "2          Legal Counsel      F  \n",
       "3     VP Human Resources      M  \n",
       "4             VP Finance      M  \n",
       "...                  ...    ...  \n",
       "6279             Cashier      F  \n",
       "6280             Cashier      M  \n",
       "6281             Cashier      M  \n",
       "6282             Cashier      F  \n",
       "6283             Cashier      F  \n",
       "\n",
       "[6284 rows x 7 columns]"
      ]
     },
     "execution_count": 2,
     "metadata": {},
     "output_type": "execute_result"
    }
   ],
   "source": [
    "df = pd.read_csv('./data/Company.csv')\n",
    "df"
   ]
  },
  {
   "cell_type": "code",
   "execution_count": 3,
   "id": "7ef8f091",
   "metadata": {},
   "outputs": [
    {
     "data": {
      "text/html": [
       "<div>\n",
       "<style scoped>\n",
       "    .dataframe tbody tr th:only-of-type {\n",
       "        vertical-align: middle;\n",
       "    }\n",
       "\n",
       "    .dataframe tbody tr th {\n",
       "        vertical-align: top;\n",
       "    }\n",
       "\n",
       "    .dataframe thead th {\n",
       "        text-align: right;\n",
       "    }\n",
       "</style>\n",
       "<table border=\"1\" class=\"dataframe\">\n",
       "  <thead>\n",
       "    <tr style=\"text-align: right;\">\n",
       "      <th></th>\n",
       "      <th>EmployeeID</th>\n",
       "      <th>age</th>\n",
       "    </tr>\n",
       "  </thead>\n",
       "  <tbody>\n",
       "    <tr>\n",
       "      <th>count</th>\n",
       "      <td>6284.000000</td>\n",
       "      <td>6284.000000</td>\n",
       "    </tr>\n",
       "    <tr>\n",
       "      <th>mean</th>\n",
       "      <td>5088.843094</td>\n",
       "      <td>45.783418</td>\n",
       "    </tr>\n",
       "    <tr>\n",
       "      <th>std</th>\n",
       "      <td>1956.079548</td>\n",
       "      <td>15.076558</td>\n",
       "    </tr>\n",
       "    <tr>\n",
       "      <th>min</th>\n",
       "      <td>1318.000000</td>\n",
       "      <td>21.000000</td>\n",
       "    </tr>\n",
       "    <tr>\n",
       "      <th>25%</th>\n",
       "      <td>3482.750000</td>\n",
       "      <td>33.000000</td>\n",
       "    </tr>\n",
       "    <tr>\n",
       "      <th>50%</th>\n",
       "      <td>5180.500000</td>\n",
       "      <td>45.000000</td>\n",
       "    </tr>\n",
       "    <tr>\n",
       "      <th>75%</th>\n",
       "      <td>6765.250000</td>\n",
       "      <td>59.000000</td>\n",
       "    </tr>\n",
       "    <tr>\n",
       "      <th>max</th>\n",
       "      <td>8336.000000</td>\n",
       "      <td>74.000000</td>\n",
       "    </tr>\n",
       "  </tbody>\n",
       "</table>\n",
       "</div>"
      ],
      "text/plain": [
       "        EmployeeID          age\n",
       "count  6284.000000  6284.000000\n",
       "mean   5088.843094    45.783418\n",
       "std    1956.079548    15.076558\n",
       "min    1318.000000    21.000000\n",
       "25%    3482.750000    33.000000\n",
       "50%    5180.500000    45.000000\n",
       "75%    6765.250000    59.000000\n",
       "max    8336.000000    74.000000"
      ]
     },
     "execution_count": 3,
     "metadata": {},
     "output_type": "execute_result"
    }
   ],
   "source": [
    "df.describe()"
   ]
  },
  {
   "cell_type": "code",
   "execution_count": 5,
   "id": "194d1822",
   "metadata": {},
   "outputs": [
    {
     "name": "stdout",
     "output_type": "stream",
     "text": [
      "<class 'pandas.core.frame.DataFrame'>\n",
      "RangeIndex: 6284 entries, 0 to 6283\n",
      "Data columns (total 7 columns):\n",
      " #   Column         Non-Null Count  Dtype \n",
      "---  ------         --------------  ----- \n",
      " 0   EmployeeID     6284 non-null   int64 \n",
      " 1   birthdate_key  6284 non-null   object\n",
      " 2   age            6284 non-null   int64 \n",
      " 3   city_name      6284 non-null   object\n",
      " 4   department     6284 non-null   object\n",
      " 5   job_title      6284 non-null   object\n",
      " 6   gender         6284 non-null   object\n",
      "dtypes: int64(2), object(5)\n",
      "memory usage: 343.8+ KB\n"
     ]
    }
   ],
   "source": [
    "df.info()"
   ]
  },
  {
   "cell_type": "code",
   "execution_count": 9,
   "id": "45d8e13c",
   "metadata": {},
   "outputs": [
    {
     "name": "stdout",
     "output_type": "stream",
     "text": [
      "The mean of numerical columns column is [5088.84309357   45.7834182 ]\n",
      "        EmployeeID          age\n",
      "count  6284.000000  6284.000000\n",
      "mean   5088.843094    45.783418\n",
      "std    1956.079548    15.076558\n",
      "min    1318.000000    21.000000\n",
      "25%    3482.750000    33.000000\n",
      "50%    5180.500000    45.000000\n",
      "75%    6765.250000    59.000000\n",
      "max    8336.000000    74.000000\n"
     ]
    }
   ],
   "source": [
    "# calculate the mean of each numberical columns\n",
    "print(\"The mean of numerical columns column is {}\".format(df.mean(axis=0).values))\n",
    "\n",
    "# give a summary of your data on column wise\n",
    "print(df.describe())"
   ]
  },
  {
   "cell_type": "code",
   "execution_count": 12,
   "id": "340ac4d3",
   "metadata": {},
   "outputs": [
    {
     "data": {
      "text/plain": [
       "EmployeeID                                                31978290\n",
       "birthdate_key    1/3/19541/3/19571/2/19551/2/19591/9/19581/9/19...\n",
       "age                                                         287703\n",
       "city_name        VancouverVancouverVancouverVancouverVancouverV...\n",
       "department       ExecutiveExecutiveExecutiveExecutiveExecutiveE...\n",
       "job_title        CEOVP StoresLegal CounselVP Human ResourcesVP ...\n",
       "gender           MFFMMMFFFFFFMFMFMMFFFMMFMMMMFFFMFMMFMFMMFFFFMM...\n",
       "dtype: object"
      ]
     },
     "execution_count": 12,
     "metadata": {},
     "output_type": "execute_result"
    }
   ],
   "source": [
    "df.sum()"
   ]
  },
  {
   "cell_type": "code",
   "execution_count": 14,
   "id": "e5e33529",
   "metadata": {},
   "outputs": [
    {
     "data": {
      "text/plain": [
       "45.78341820496499"
      ]
     },
     "execution_count": 14,
     "metadata": {},
     "output_type": "execute_result"
    }
   ],
   "source": [
    "df['age'].mean()"
   ]
  },
  {
   "cell_type": "code",
   "execution_count": 15,
   "id": "9cbfc289",
   "metadata": {},
   "outputs": [
    {
     "data": {
      "text/plain": [
       "45.0"
      ]
     },
     "execution_count": 15,
     "metadata": {},
     "output_type": "execute_result"
    }
   ],
   "source": [
    "df['age'].median()"
   ]
  },
  {
   "cell_type": "code",
   "execution_count": 16,
   "id": "d46bf1ea",
   "metadata": {},
   "outputs": [
    {
     "data": {
      "text/plain": [
       "0    27\n",
       "dtype: int64"
      ]
     },
     "execution_count": 16,
     "metadata": {},
     "output_type": "execute_result"
    }
   ],
   "source": [
    "df['age'].mode()"
   ]
  },
  {
   "cell_type": "code",
   "execution_count": 18,
   "id": "60f9b808",
   "metadata": {},
   "outputs": [
    {
     "data": {
      "text/plain": [
       "15.076557943488128"
      ]
     },
     "execution_count": 18,
     "metadata": {},
     "output_type": "execute_result"
    }
   ],
   "source": [
    "df['age'].std()"
   ]
  },
  {
   "cell_type": "code",
   "execution_count": 20,
   "id": "554231a9",
   "metadata": {},
   "outputs": [
    {
     "data": {
      "text/plain": [
       "74"
      ]
     },
     "execution_count": 20,
     "metadata": {},
     "output_type": "execute_result"
    }
   ],
   "source": [
    "df['age'].max()"
   ]
  },
  {
   "cell_type": "code",
   "execution_count": 21,
   "id": "78124e2c",
   "metadata": {},
   "outputs": [
    {
     "data": {
      "text/plain": [
       "21"
      ]
     },
     "execution_count": 21,
     "metadata": {},
     "output_type": "execute_result"
    }
   ],
   "source": [
    "df['age'].min()"
   ]
  },
  {
   "cell_type": "code",
   "execution_count": 33,
   "id": "bf5fe2c1",
   "metadata": {
    "scrolled": false
   },
   "outputs": [
    {
     "data": {
      "text/html": [
       "<div>\n",
       "<style scoped>\n",
       "    .dataframe tbody tr th:only-of-type {\n",
       "        vertical-align: middle;\n",
       "    }\n",
       "\n",
       "    .dataframe tbody tr th {\n",
       "        vertical-align: top;\n",
       "    }\n",
       "\n",
       "    .dataframe thead th {\n",
       "        text-align: right;\n",
       "    }\n",
       "</style>\n",
       "<table border=\"1\" class=\"dataframe\">\n",
       "  <thead>\n",
       "    <tr style=\"text-align: right;\">\n",
       "      <th></th>\n",
       "      <th>a</th>\n",
       "      <th>b</th>\n",
       "      <th>c</th>\n",
       "    </tr>\n",
       "  </thead>\n",
       "  <tbody>\n",
       "    <tr>\n",
       "      <th>0</th>\n",
       "      <td>1</td>\n",
       "      <td>11</td>\n",
       "      <td>21</td>\n",
       "    </tr>\n",
       "    <tr>\n",
       "      <th>1</th>\n",
       "      <td>2</td>\n",
       "      <td>12</td>\n",
       "      <td>22</td>\n",
       "    </tr>\n",
       "    <tr>\n",
       "      <th>2</th>\n",
       "      <td>3</td>\n",
       "      <td>13</td>\n",
       "      <td>23</td>\n",
       "    </tr>\n",
       "    <tr>\n",
       "      <th>3</th>\n",
       "      <td>4</td>\n",
       "      <td>14</td>\n",
       "      <td>24</td>\n",
       "    </tr>\n",
       "    <tr>\n",
       "      <th>4</th>\n",
       "      <td>5</td>\n",
       "      <td>15</td>\n",
       "      <td>25</td>\n",
       "    </tr>\n",
       "    <tr>\n",
       "      <th>5</th>\n",
       "      <td>6</td>\n",
       "      <td>16</td>\n",
       "      <td>26</td>\n",
       "    </tr>\n",
       "    <tr>\n",
       "      <th>6</th>\n",
       "      <td>7</td>\n",
       "      <td>17</td>\n",
       "      <td>27</td>\n",
       "    </tr>\n",
       "    <tr>\n",
       "      <th>7</th>\n",
       "      <td>8</td>\n",
       "      <td>18</td>\n",
       "      <td>28</td>\n",
       "    </tr>\n",
       "    <tr>\n",
       "      <th>8</th>\n",
       "      <td>9</td>\n",
       "      <td>19</td>\n",
       "      <td>29</td>\n",
       "    </tr>\n",
       "  </tbody>\n",
       "</table>\n",
       "</div>"
      ],
      "text/plain": [
       "   a   b   c\n",
       "0  1  11  21\n",
       "1  2  12  22\n",
       "2  3  13  23\n",
       "3  4  14  24\n",
       "4  5  15  25\n",
       "5  6  16  26\n",
       "6  7  17  27\n",
       "7  8  18  28\n",
       "8  9  19  29"
      ]
     },
     "execution_count": 33,
     "metadata": {},
     "output_type": "execute_result"
    }
   ],
   "source": [
    "data = {\"a\":range(1, 10), \"b\": range(11,20), \"c\": range(21,30)}\n",
    "df_2 = pd.DataFrame(data)\n",
    "df_2"
   ]
  },
  {
   "cell_type": "code",
   "execution_count": 30,
   "id": "5c7d6b53",
   "metadata": {},
   "outputs": [
    {
     "data": {
      "text/plain": [
       "405"
      ]
     },
     "execution_count": 30,
     "metadata": {},
     "output_type": "execute_result"
    }
   ],
   "source": [
    "df.stack().sum()"
   ]
  },
  {
   "cell_type": "code",
   "execution_count": 28,
   "id": "5b3909c9",
   "metadata": {},
   "outputs": [
    {
     "data": {
      "text/plain": [
       "405"
      ]
     },
     "execution_count": 28,
     "metadata": {},
     "output_type": "execute_result"
    }
   ],
   "source": [
    "df.values.sum()"
   ]
  },
  {
   "cell_type": "markdown",
   "id": "42bd8249",
   "metadata": {},
   "source": [
    "_______"
   ]
  },
  {
   "cell_type": "markdown",
   "id": "45b2c246",
   "metadata": {},
   "source": [
    "## Assignment\n",
    "- Load the data from `car.csv` file\n",
    "- Find the total no. of null and not null columns\n",
    "- Find the unique country and Type values\n",
    "- Find the mean, median and mode \n",
    "- Calculate the total price of all Cars"
   ]
  }
 ],
 "metadata": {
  "kernelspec": {
   "display_name": "Python 3",
   "language": "python",
   "name": "python3"
  },
  "language_info": {
   "codemirror_mode": {
    "name": "ipython",
    "version": 3
   },
   "file_extension": ".py",
   "mimetype": "text/x-python",
   "name": "python",
   "nbconvert_exporter": "python",
   "pygments_lexer": "ipython3",
   "version": "3.8.8"
  }
 },
 "nbformat": 4,
 "nbformat_minor": 5
}
