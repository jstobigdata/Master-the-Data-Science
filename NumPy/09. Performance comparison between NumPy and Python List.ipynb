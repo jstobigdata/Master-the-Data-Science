{
 "cells": [
  {
   "cell_type": "markdown",
   "id": "de50ff60",
   "metadata": {},
   "source": [
    "# 9. Basic Performance comparision between `NumPy Array` and `List`"
   ]
  },
  {
   "cell_type": "code",
   "execution_count": 20,
   "id": "6373f5b6",
   "metadata": {},
   "outputs": [],
   "source": [
    "import numpy as np\n",
    "import time"
   ]
  },
  {
   "cell_type": "code",
   "execution_count": 21,
   "id": "a7f5ac86",
   "metadata": {},
   "outputs": [],
   "source": [
    "list1 = range(150000)\n",
    "list2 = range(150000)"
   ]
  },
  {
   "cell_type": "code",
   "execution_count": 25,
   "id": "4f3459de",
   "metadata": {},
   "outputs": [
    {
     "data": {
      "text/plain": [
       "1632421773.133867"
      ]
     },
     "execution_count": 25,
     "metadata": {},
     "output_type": "execute_result"
    }
   ],
   "source": [
    "time.time()"
   ]
  },
  {
   "cell_type": "code",
   "execution_count": 22,
   "id": "94bff00b",
   "metadata": {},
   "outputs": [
    {
     "name": "stdout",
     "output_type": "stream",
     "text": [
      "0.054139137268066406\n"
     ]
    }
   ],
   "source": [
    "t0 = time.time()\n",
    "\n",
    "## Multiplications\n",
    "sq_list = [list1[i]*list2[i] for i in range(len(list1))]\n",
    "\n",
    "t1 = time.time()\n",
    "print(t1-t0)"
   ]
  },
  {
   "cell_type": "code",
   "execution_count": 23,
   "id": "df95bb8a",
   "metadata": {},
   "outputs": [],
   "source": [
    "arr1 = np.array(list1)\n",
    "arr2 = np.array(list2)"
   ]
  },
  {
   "cell_type": "code",
   "execution_count": 24,
   "id": "572b94ed",
   "metadata": {},
   "outputs": [
    {
     "name": "stdout",
     "output_type": "stream",
     "text": [
      "0.0004642009735107422\n"
     ]
    }
   ],
   "source": [
    "t0 = time.time()\n",
    "arr3 = arr1*arr2\n",
    "t1 = time.time()\n",
    "\n",
    "print(t1-t0)"
   ]
  }
 ],
 "metadata": {
  "kernelspec": {
   "display_name": "Python 3",
   "language": "python",
   "name": "python3"
  },
  "language_info": {
   "codemirror_mode": {
    "name": "ipython",
    "version": 3
   },
   "file_extension": ".py",
   "mimetype": "text/x-python",
   "name": "python",
   "nbconvert_exporter": "python",
   "pygments_lexer": "ipython3",
   "version": "3.8.8"
  }
 },
 "nbformat": 4,
 "nbformat_minor": 5
}
