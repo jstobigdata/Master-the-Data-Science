{
 "cells": [
  {
   "cell_type": "markdown",
   "id": "9d658eac",
   "metadata": {},
   "source": [
    "# 5. Indexing in NumPy - Array\n",
    "- First element\n",
    "- Last element\n",
    "- Get a row from a [m, n] array - Grid\n",
    "- Get a column from a [m, n] array - Grid\n",
    "- Get a small matrix - [a, b] from an array [m, n]\n",
    "- Obtain a specific indices from an [m, n] array"
   ]
  },
  {
   "cell_type": "markdown",
   "id": "dd00f445",
   "metadata": {},
   "source": [
    "Indexing means accessing a particular value in an Array. In this case it is NumPy array. Each item in the NumPy Array stored at a specific index."
   ]
  },
  {
   "cell_type": "code",
   "execution_count": 1,
   "id": "5dd5772a",
   "metadata": {},
   "outputs": [],
   "source": [
    "import numpy as np"
   ]
  },
  {
   "cell_type": "code",
   "execution_count": 2,
   "id": "afdd865d",
   "metadata": {},
   "outputs": [
    {
     "data": {
      "text/plain": [
       "array([[ 0,  1,  2],\n",
       "       [ 3,  4,  5],\n",
       "       [ 6,  7,  8],\n",
       "       [ 9, 10, 11]])"
      ]
     },
     "execution_count": 2,
     "metadata": {},
     "output_type": "execute_result"
    }
   ],
   "source": [
    "A = np.arange(12).reshape(4, 3)\n",
    "A"
   ]
  },
  {
   "cell_type": "markdown",
   "id": "dc662cf8",
   "metadata": {},
   "source": [
    "### 1. Accessing the first element\n"
   ]
  },
  {
   "cell_type": "raw",
   "id": "918487ca",
   "metadata": {},
   "source": [
    "   ┏━━━┓───┬───┐   ┏━━━┓\n",
    "   ┃ 0 ┃ 1 │ 2 │ → ┃ 0 ┃ (scalar)\n",
    "   ┗━━━┛───┼───┤   ┗━━━┛\n",
    "A  │ 3 │ 4 │ 5 │  \n",
    "   ├───┼───┼───┤\n",
    "   │ 6 │ 7 │ 8 │\n",
    "   ├───┼───┼───┤\n",
    "   │ 9 │ 10│ 11│\n",
    "   └───┴───┴───┘\n",
    "    "
   ]
  },
  {
   "cell_type": "code",
   "execution_count": 3,
   "id": "c9628ebb",
   "metadata": {},
   "outputs": [
    {
     "data": {
      "text/plain": [
       "0"
      ]
     },
     "execution_count": 3,
     "metadata": {},
     "output_type": "execute_result"
    }
   ],
   "source": [
    "A[0,0]"
   ]
  },
  {
   "cell_type": "markdown",
   "id": "51ea8833",
   "metadata": {},
   "source": [
    "### 2. Accessign the last element"
   ]
  },
  {
   "cell_type": "raw",
   "id": "987b3c6d",
   "metadata": {},
   "source": [
    "   ┌───┬───┬───┐\n",
    "   │ 0 │ 1 │ 2 │\n",
    "   ├───┼───┼───┤\n",
    " A │ 3 │ 4 │ 5 │\n",
    "   ├───┼───┼───┤\n",
    "   │ 6 │ 7 │ 8 │\n",
    "   ├───┼───┏━━━┓   ┏━━━┓\n",
    "   │ 9 │ 10┃ 11┃ → ┃ 11┃ (scalar)\n",
    "   └───┴───┗━━━┛   ┗━━━┛\n",
    "    "
   ]
  },
  {
   "cell_type": "code",
   "execution_count": 4,
   "id": "5873d224",
   "metadata": {},
   "outputs": [
    {
     "data": {
      "text/plain": [
       "11"
      ]
     },
     "execution_count": 4,
     "metadata": {},
     "output_type": "execute_result"
    }
   ],
   "source": [
    "A[-1,-1]"
   ]
  },
  {
   "cell_type": "markdown",
   "id": "4db0ee95",
   "metadata": {},
   "source": [
    "### 3. Accessing the row "
   ]
  },
  {
   "cell_type": "raw",
   "id": "31921d21",
   "metadata": {},
   "source": [
    "   ┌───┬───┬───┐   \n",
    "   │ 0 │ 1 │ 2 │ \n",
    "   ┏━━━┳━━━┳━━━┓   ┏━━━┳━━━┳━━━┓\n",
    "A  ┃ 3 ┃ 4 ┃ 5 ┃ → ┃ 3 ┃ 4 ┃ 5 ┃\n",
    "   ┗━━━┻━━━┻━━━┛   ┗━━━┻━━━┻━━━┛\n",
    "   │ 6 │ 7 │ 8 │      (view)\n",
    "   ├───┼───┼───┤\n",
    "   │ 9 │ 10│ 11│\n",
    "   └───┴───┴───┘"
   ]
  },
  {
   "cell_type": "code",
   "execution_count": 5,
   "id": "d2de6379",
   "metadata": {
    "scrolled": true
   },
   "outputs": [
    {
     "data": {
      "text/plain": [
       "array([3, 4, 5])"
      ]
     },
     "execution_count": 5,
     "metadata": {},
     "output_type": "execute_result"
    }
   ],
   "source": [
    "A[1]"
   ]
  },
  {
   "cell_type": "code",
   "execution_count": 8,
   "id": "ac5f3cab",
   "metadata": {},
   "outputs": [
    {
     "data": {
      "text/plain": [
       "array([3, 4, 5])"
      ]
     },
     "execution_count": 8,
     "metadata": {},
     "output_type": "execute_result"
    }
   ],
   "source": [
    "A[1,:]"
   ]
  },
  {
   "cell_type": "markdown",
   "id": "51da9b92",
   "metadata": {},
   "source": [
    "### 4. Access a column"
   ]
  },
  {
   "cell_type": "raw",
   "id": "e7966d93",
   "metadata": {},
   "source": [
    "   ┌───┬───┏━━━┓ \n",
    "   │ 0 │ 1 ┃ 2 ┃\n",
    "   ├───┼───┣━━━┫\n",
    " A │ 3 │ 4 ┃ 5 ┃   \n",
    "   ├───┼───┣━━━┫\n",
    "   │ 6 │ 7 ┃ 8 ┃\n",
    "   ├───┼───┣━━━┫   \n",
    "   │ 9 │ 10┃ 11┃ →  (View) \n",
    "   └───┴───┗━━━┛\n",
    "                        ┏━━━┓ \n",
    "                        ┃ 2 ┃\n",
    "                        ┣━━━┫\n",
    "                        ┃ 5 ┃\n",
    "                        ┣━━━┫ \n",
    "                        ┃ 8 ┃\n",
    "                        ┣━━━┫   \n",
    "                        ┃ 11┃\n",
    "                        ┗━━━┛"
   ]
  },
  {
   "cell_type": "code",
   "execution_count": 10,
   "id": "be8704cd",
   "metadata": {},
   "outputs": [
    {
     "data": {
      "text/plain": [
       "array([ 2,  5,  8, 11])"
      ]
     },
     "execution_count": 10,
     "metadata": {},
     "output_type": "execute_result"
    }
   ],
   "source": [
    "A[:,-1]"
   ]
  },
  {
   "cell_type": "code",
   "execution_count": 12,
   "id": "ebde2545",
   "metadata": {},
   "outputs": [
    {
     "data": {
      "text/plain": [
       "array([ 2,  5,  8, 11])"
      ]
     },
     "execution_count": 12,
     "metadata": {},
     "output_type": "execute_result"
    }
   ],
   "source": [
    "A[:,2]"
   ]
  },
  {
   "cell_type": "markdown",
   "id": "9a34e366",
   "metadata": {},
   "source": [
    "### 5. Get a sub-array from an Array"
   ]
  },
  {
   "cell_type": "raw",
   "id": "0030513e",
   "metadata": {},
   "source": [
    "   ┌───┬───┬───┐  \n",
    "   │ 0 │ 1 │ 2 │    (view)\n",
    "   ├───┏━━━┳━━━┓   ┏━━━┳━━━┓\n",
    "A  │ 3 ┃ 4 ┃ 5 ┃   ┃ 4 ┃ 5 ┃\n",
    "   ├───┣━━━╋━━━┫   ┣━━━╋━━━┫\n",
    "   │ 6 ┃ 7 ┃ 8 ┃   ┃ 7 ┃ 8 ┃\n",
    "   ├───┣━━━╋━━━┫ → ┣━━━╋━━━┫    \n",
    "   │ 9 ┃ 10┃ 11┃   ┃10 ┃ 11┃\n",
    "   └───┗━━━┻━━━┛   ┗━━━┻━━━┛"
   ]
  },
  {
   "cell_type": "code",
   "execution_count": 13,
   "id": "09aeac49",
   "metadata": {},
   "outputs": [
    {
     "data": {
      "text/plain": [
       "array([[ 4,  5],\n",
       "       [ 7,  8],\n",
       "       [10, 11]])"
      ]
     },
     "execution_count": 13,
     "metadata": {},
     "output_type": "execute_result"
    }
   ],
   "source": [
    "B = A[1:,1:]\n",
    "B"
   ]
  },
  {
   "cell_type": "markdown",
   "id": "92269aec",
   "metadata": {},
   "source": [
    "#### rehsape the array - B"
   ]
  },
  {
   "cell_type": "code",
   "execution_count": 14,
   "id": "eb5e8490",
   "metadata": {
    "scrolled": true
   },
   "outputs": [
    {
     "data": {
      "text/plain": [
       "array([[ 4,  5,  7],\n",
       "       [ 8, 10, 11]])"
      ]
     },
     "execution_count": 14,
     "metadata": {},
     "output_type": "execute_result"
    }
   ],
   "source": [
    "B.reshape(2,3)"
   ]
  },
  {
   "cell_type": "markdown",
   "id": "4713021c",
   "metadata": {},
   "source": [
    "### 6. Create an array with the specific indices from an [m, n] array"
   ]
  },
  {
   "cell_type": "raw",
   "id": "06587be2",
   "metadata": {},
   "source": [
    "   ┏━━━┓───┬───┐\n",
    "   ┃ 0 ┃ 1 │ 2 │\n",
    "   ┗━━━┛───┏━━━┓   ┏━━━┳━━━┳━━━┓\n",
    "A  │ 3 │ 4 ┃ 5 ┃ → ┃ 0 ┃ 5 ┃ 11┃\n",
    "   ├───┼───┗━━━┛   ┗━━━┻━━━┻━━━┛\n",
    "   │ 6 │ 7 │ 8 │\n",
    "   ├───┼───┏━━━┓\n",
    "   │ 9 │ 10┃ 11┃\n",
    "   └───┴───┗━━━┛"
   ]
  },
  {
   "cell_type": "code",
   "execution_count": 16,
   "id": "f7ac46a1",
   "metadata": {},
   "outputs": [
    {
     "data": {
      "text/plain": [
       "array([0, 5])"
      ]
     },
     "execution_count": 16,
     "metadata": {},
     "output_type": "execute_result"
    }
   ],
   "source": [
    "#Extract only [0, 5] - https://stackoverflow.com/questions/65510193/get-specific-indices-from-a-grid-in-numpy\n",
    "C = A[[0,1], [0,2]] #[row1,row2,row3], [column1, column2, column3]\n",
    "C"
   ]
  },
  {
   "cell_type": "code",
   "execution_count": 17,
   "id": "a4b8e833",
   "metadata": {},
   "outputs": [
    {
     "data": {
      "text/plain": [
       "array([ 0,  5, 11])"
      ]
     },
     "execution_count": 17,
     "metadata": {},
     "output_type": "execute_result"
    }
   ],
   "source": [
    "## Incomplete code - uncomment and try\n",
    "C = A[[0,1,3], [0,2,2]]\n",
    "C"
   ]
  }
 ],
 "metadata": {
  "kernelspec": {
   "display_name": "Python 3",
   "language": "python",
   "name": "python3"
  },
  "language_info": {
   "codemirror_mode": {
    "name": "ipython",
    "version": 3
   },
   "file_extension": ".py",
   "mimetype": "text/x-python",
   "name": "python",
   "nbconvert_exporter": "python",
   "pygments_lexer": "ipython3",
   "version": "3.8.8"
  }
 },
 "nbformat": 4,
 "nbformat_minor": 5
}
