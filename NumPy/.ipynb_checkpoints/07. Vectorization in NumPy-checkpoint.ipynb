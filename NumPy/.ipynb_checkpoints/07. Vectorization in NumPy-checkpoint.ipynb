{
 "cells": [
  {
   "cell_type": "markdown",
   "id": "b75905f7",
   "metadata": {},
   "source": [
    "# 7. Vectorization in NumPy - Vectorized Operations"
   ]
  },
  {
   "cell_type": "markdown",
   "id": "e8d4c7a5",
   "metadata": {},
   "source": [
    "- It is about using more optimal and pre-compiled functions and mathemetical operations on NumPy array objects and data sequences.\n",
    "- **Watch the YouTube talk on Vectorization** - [1000x faster data manipulatio: vectorizing with Pandas and Numpy\n",
    "](https://www.youtube.com/watch?v=nxWginnBklU)\n",
    "- Mostly Faster because of the following reasons: [Medium.com](https://medium.com/analytics-vidhya/understanding-vectorization-in-numpy-and-pandas-188b6ebc5398)\n",
    "    - Locality: NumPy Stores everything in one area of Memory\n",
    "    - Homogeneous data types\n",
    "    - Parallel Processing\n",
    "    - NumPy is written in C\n"
   ]
  },
  {
   "cell_type": "code",
   "execution_count": 1,
   "id": "f29588a6",
   "metadata": {},
   "outputs": [],
   "source": [
    "import numpy as np\n",
    "import timeit"
   ]
  },
  {
   "cell_type": "code",
   "execution_count": 10,
   "id": "c9c16eb6",
   "metadata": {},
   "outputs": [
    {
     "name": "stdout",
     "output_type": "stream",
     "text": [
      "Time taken to calculate: np.arange(100000): \n",
      "17.7 ns ± 0.582 ns per loop (mean ± std. dev. of 7 runs, 100000000 loops each)\n"
     ]
    }
   ],
   "source": [
    "print(\"Time taken to calculate: np.arange(100000): \")\n",
    "%timeit np.sum(np.arange(100000))"
   ]
  },
  {
   "cell_type": "code",
   "execution_count": 8,
   "id": "0bdb811f",
   "metadata": {},
   "outputs": [
    {
     "name": "stdout",
     "output_type": "stream",
     "text": [
      "18.4 ns ± 0.209 ns per loop (mean ± std. dev. of 7 runs, 10000000 loops each)\n"
     ]
    }
   ],
   "source": [
    "sum = 0\n",
    "for item in np.arange(100000):\n",
    "    sum += item\n",
    "\n",
    "%timeit total2 = sum"
   ]
  },
  {
   "cell_type": "code",
   "execution_count": null,
   "id": "bc2a58c2",
   "metadata": {},
   "outputs": [],
   "source": []
  }
 ],
 "metadata": {
  "kernelspec": {
   "display_name": "Python 3",
   "language": "python",
   "name": "python3"
  },
  "language_info": {
   "codemirror_mode": {
    "name": "ipython",
    "version": 3
   },
   "file_extension": ".py",
   "mimetype": "text/x-python",
   "name": "python",
   "nbconvert_exporter": "python",
   "pygments_lexer": "ipython3",
   "version": "3.8.8"
  }
 },
 "nbformat": 4,
 "nbformat_minor": 5
}
