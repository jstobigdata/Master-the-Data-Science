{
 "cells": [
  {
   "cell_type": "markdown",
   "id": "a143948c",
   "metadata": {
    "slideshow": {
     "slide_type": "slide"
    }
   },
   "source": [
    "# Creating NumPy Arrays\n",
    "\n",
    "Understand the different ways in which Arrays can be created - 1D and 2D\n",
    "1. `array()` - Create numpy array from List and tuples\n",
    "2. `ones()` - Create an array of 1s.\n",
    "3. `zeros()` - Create an array of 0s.\n",
    "4. `arange()` - Create an array with the continuous integers.\n",
    "5. `linspace()` - Generate values which are equally spaced from each other.\n",
    "6. `random.random()` - Create array of random numbers"
   ]
  },
  {
   "cell_type": "markdown",
   "id": "dcabc091",
   "metadata": {
    "slideshow": {
     "slide_type": "slide"
    }
   },
   "source": [
    "## 1. Create Array using `array()`"
   ]
  },
  {
   "cell_type": "markdown",
   "id": "875d1a01",
   "metadata": {
    "slideshow": {
     "slide_type": "fragment"
    }
   },
   "source": [
    "####  1.1. Create array from List"
   ]
  },
  {
   "cell_type": "code",
   "execution_count": null,
   "id": "2f6c1a77",
   "metadata": {
    "slideshow": {
     "slide_type": "-"
    }
   },
   "outputs": [],
   "source": [
    "import numpy as np\n",
    "\n",
    "player_heights = [1.5, 1.7, 1.55, 1.68, 1.99, 1.87, 2.1, 1.45, 1.99, 1.83]\n",
    "\n",
    "# Create from a List"
   ]
  },
  {
   "cell_type": "code",
   "execution_count": null,
   "id": "8fcea072",
   "metadata": {
    "slideshow": {
     "slide_type": "slide"
    }
   },
   "outputs": [],
   "source": [
    "# Create from a list"
   ]
  },
  {
   "cell_type": "markdown",
   "id": "73ca486d",
   "metadata": {},
   "source": [
    "#### 1.2. Create array from Tuples"
   ]
  },
  {
   "cell_type": "code",
   "execution_count": null,
   "id": "37515329",
   "metadata": {},
   "outputs": [],
   "source": [
    "# Create from a Tuples"
   ]
  },
  {
   "cell_type": "markdown",
   "id": "521ba3e3",
   "metadata": {},
   "source": [
    "#### 1.3. Create array from Dictionaries - dict.items()"
   ]
  },
  {
   "cell_type": "code",
   "execution_count": null,
   "id": "b098d757",
   "metadata": {},
   "outputs": [],
   "source": [
    "# Create from a Dictionary\n",
    "currencies_dict = {\"Dollars\": \"$\", \"Rupees\": \"₹\", \"Pounds\": \"£\", \"Euros\": \"€\"}\n",
    "print(currencies_dict.items())\n",
    "\n"
   ]
  },
  {
   "cell_type": "code",
   "execution_count": null,
   "id": "e2c92e79",
   "metadata": {},
   "outputs": [],
   "source": [
    "currencies_2d_arr.dtype"
   ]
  },
  {
   "cell_type": "markdown",
   "id": "a6bc4d8c",
   "metadata": {},
   "source": [
    "## 2. Create using `ones()`"
   ]
  },
  {
   "cell_type": "code",
   "execution_count": null,
   "id": "6829f107",
   "metadata": {},
   "outputs": [],
   "source": []
  },
  {
   "cell_type": "code",
   "execution_count": null,
   "id": "7175b24c",
   "metadata": {},
   "outputs": [],
   "source": []
  },
  {
   "cell_type": "code",
   "execution_count": null,
   "id": "822a846c",
   "metadata": {},
   "outputs": [],
   "source": []
  },
  {
   "cell_type": "code",
   "execution_count": null,
   "id": "9d020f86",
   "metadata": {},
   "outputs": [],
   "source": []
  },
  {
   "cell_type": "code",
   "execution_count": null,
   "id": "6569aff6",
   "metadata": {},
   "outputs": [],
   "source": []
  },
  {
   "cell_type": "markdown",
   "id": "14b45c90",
   "metadata": {},
   "source": [
    "#### 2.2. Introduction to reshape(m,n)"
   ]
  },
  {
   "cell_type": "code",
   "execution_count": null,
   "id": "f8f21892",
   "metadata": {},
   "outputs": [],
   "source": []
  },
  {
   "cell_type": "code",
   "execution_count": null,
   "id": "3c8d3761",
   "metadata": {},
   "outputs": [],
   "source": []
  },
  {
   "cell_type": "code",
   "execution_count": null,
   "id": "8a0e9fea",
   "metadata": {},
   "outputs": [],
   "source": []
  },
  {
   "cell_type": "code",
   "execution_count": null,
   "id": "dfb97c3f",
   "metadata": {},
   "outputs": [],
   "source": []
  },
  {
   "cell_type": "code",
   "execution_count": null,
   "id": "51b3376f",
   "metadata": {},
   "outputs": [],
   "source": []
  },
  {
   "cell_type": "code",
   "execution_count": null,
   "id": "2218184c",
   "metadata": {},
   "outputs": [],
   "source": []
  },
  {
   "cell_type": "markdown",
   "id": "011411fd",
   "metadata": {},
   "source": [
    "## 3. Create using `zeros()`"
   ]
  },
  {
   "cell_type": "markdown",
   "id": "0471ca9b",
   "metadata": {},
   "source": [
    "#### Simple 1xD Array with Zeros"
   ]
  },
  {
   "cell_type": "code",
   "execution_count": null,
   "id": "1712320b",
   "metadata": {},
   "outputs": [],
   "source": []
  },
  {
   "cell_type": "markdown",
   "id": "36af2445",
   "metadata": {},
   "source": [
    "#### Simple, int type 2xD array with Zeros"
   ]
  },
  {
   "cell_type": "code",
   "execution_count": null,
   "id": "10e01a9f",
   "metadata": {},
   "outputs": [],
   "source": []
  },
  {
   "cell_type": "markdown",
   "id": "bdc6fa0a",
   "metadata": {},
   "source": [
    "## 4. Create array using `arange()`\n",
    "#### 4.1. Simple 1xD Array"
   ]
  },
  {
   "cell_type": "code",
   "execution_count": null,
   "id": "981bd071",
   "metadata": {},
   "outputs": [],
   "source": []
  },
  {
   "cell_type": "code",
   "execution_count": null,
   "id": "ac563801",
   "metadata": {},
   "outputs": [],
   "source": []
  },
  {
   "cell_type": "code",
   "execution_count": null,
   "id": "8b55187e",
   "metadata": {},
   "outputs": [],
   "source": []
  },
  {
   "cell_type": "markdown",
   "id": "a3acd69c",
   "metadata": {},
   "source": [
    "#### 4.2. Simple 2xD Array"
   ]
  },
  {
   "cell_type": "code",
   "execution_count": null,
   "id": "f6d2d967",
   "metadata": {},
   "outputs": [],
   "source": []
  },
  {
   "cell_type": "markdown",
   "id": "9fb69fa5",
   "metadata": {},
   "source": [
    "## 5. Create array using `linspace()`\n",
    "Array of length 30 between 1 and 500"
   ]
  },
  {
   "cell_type": "code",
   "execution_count": null,
   "id": "be4c986d",
   "metadata": {},
   "outputs": [],
   "source": []
  },
  {
   "cell_type": "code",
   "execution_count": null,
   "id": "5249741a",
   "metadata": {},
   "outputs": [],
   "source": []
  },
  {
   "cell_type": "markdown",
   "id": "32fd03fc",
   "metadata": {},
   "source": [
    "## 6. Create array of random numbers - `np.random.random()`\n",
    "Return random floats in the half-open interval [0.0, 1.0). Alias for random_sample to ease forward-porting to the new random API."
   ]
  },
  {
   "cell_type": "markdown",
   "id": "8780dd33",
   "metadata": {
    "slideshow": {
     "slide_type": "fragment"
    }
   },
   "source": [
    "#### 5.1. Generate a random number"
   ]
  },
  {
   "cell_type": "code",
   "execution_count": null,
   "id": "3d050d93",
   "metadata": {
    "slideshow": {
     "slide_type": "fragment"
    }
   },
   "outputs": [],
   "source": [
    "np.random.random()"
   ]
  },
  {
   "cell_type": "markdown",
   "id": "d998f321",
   "metadata": {},
   "source": [
    "#### 5.2. Generate an [m, n] array filled with random floats"
   ]
  },
  {
   "cell_type": "code",
   "execution_count": null,
   "id": "ab2c3db1",
   "metadata": {
    "slideshow": {
     "slide_type": "fragment"
    }
   },
   "outputs": [],
   "source": []
  },
  {
   "cell_type": "markdown",
   "id": "d14b0c20",
   "metadata": {},
   "source": [
    "#### 5.3. [m, n] array filled with random floats between 0 to 100"
   ]
  },
  {
   "cell_type": "code",
   "execution_count": null,
   "id": "9fc76176",
   "metadata": {
    "slideshow": {
     "slide_type": "fragment"
    }
   },
   "outputs": [],
   "source": []
  },
  {
   "cell_type": "markdown",
   "id": "7b8d6143",
   "metadata": {},
   "source": [
    "#### 5.3. Generate an [m, n] array filled with random integers - 0 to 12"
   ]
  },
  {
   "cell_type": "code",
   "execution_count": null,
   "id": "b1d3b2c2",
   "metadata": {
    "slideshow": {
     "slide_type": "fragment"
    }
   },
   "outputs": [],
   "source": []
  },
  {
   "cell_type": "code",
   "execution_count": null,
   "id": "b5e4199b",
   "metadata": {},
   "outputs": [],
   "source": []
  }
 ],
 "metadata": {
  "celltoolbar": "Slideshow",
  "kernelspec": {
   "display_name": "Python 3",
   "language": "python",
   "name": "python3"
  },
  "language_info": {
   "codemirror_mode": {
    "name": "ipython",
    "version": 3
   },
   "file_extension": ".py",
   "mimetype": "text/x-python",
   "name": "python",
   "nbconvert_exporter": "python",
   "pygments_lexer": "ipython3",
   "version": "3.8.8"
  }
 },
 "nbformat": 4,
 "nbformat_minor": 5
}
