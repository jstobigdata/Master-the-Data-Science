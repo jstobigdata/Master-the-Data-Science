{
 "cells": [
  {
   "cell_type": "markdown",
   "id": "bd022f81",
   "metadata": {},
   "source": [
    "# Introducing Array in NumPy"
   ]
  },
  {
   "cell_type": "code",
   "execution_count": 2,
   "id": "7243e963",
   "metadata": {},
   "outputs": [
    {
     "data": {
      "text/plain": [
       "list"
      ]
     },
     "execution_count": 2,
     "metadata": {},
     "output_type": "execute_result"
    }
   ],
   "source": [
    "#Calculate BMI\n",
    "player_heights = [1.5, 1.7, 1.55, 1.68, 1.99, 1.87, 2.1, 1.45, 1.99, 1.83]\n",
    "player_weights = [43, 77.3, 65.9, 33, 55, 57, 65.5, 69, 75, 65]\n"
   ]
  },
  {
   "cell_type": "code",
   "execution_count": 12,
   "id": "aafa723c",
   "metadata": {},
   "outputs": [
    {
     "data": {
      "text/plain": [
       "numpy.ndarray"
      ]
     },
     "execution_count": 12,
     "metadata": {},
     "output_type": "execute_result"
    }
   ],
   "source": [
    "import numpy as np\n"
   ]
  },
  {
   "cell_type": "markdown",
   "id": "3a9c60d1",
   "metadata": {},
   "source": [
    "#### type() of numpy array "
   ]
  },
  {
   "cell_type": "code",
   "execution_count": 14,
   "id": "322b3ced",
   "metadata": {},
   "outputs": [
    {
     "data": {
      "text/plain": [
       "numpy.ndarray"
      ]
     },
     "execution_count": 14,
     "metadata": {},
     "output_type": "execute_result"
    }
   ],
   "source": []
  },
  {
   "cell_type": "markdown",
   "id": "c2ac2b49",
   "metadata": {},
   "source": [
    "#### Feth the first element"
   ]
  },
  {
   "cell_type": "code",
   "execution_count": 9,
   "id": "0182dfed",
   "metadata": {},
   "outputs": [
    {
     "data": {
      "text/plain": [
       "19.11111111111111"
      ]
     },
     "execution_count": 9,
     "metadata": {},
     "output_type": "execute_result"
    }
   ],
   "source": []
  },
  {
   "cell_type": "markdown",
   "id": "70fa6f56",
   "metadata": {},
   "source": [
    "#### Fetch Last element"
   ]
  },
  {
   "cell_type": "code",
   "execution_count": null,
   "id": "0c835482",
   "metadata": {},
   "outputs": [],
   "source": []
  },
  {
   "cell_type": "markdown",
   "id": "ee1e370c",
   "metadata": {},
   "source": [
    "#### Fetch last 5"
   ]
  },
  {
   "cell_type": "code",
   "execution_count": 10,
   "id": "9ae3c623",
   "metadata": {
    "pycharm": {
     "name": "#%%\n"
    }
   },
   "outputs": [
    {
     "data": {
      "text/plain": [
       "array([19.11111111, 26.74740484, 27.42976067, 11.69217687, 13.88853817])"
      ]
     },
     "execution_count": 10,
     "metadata": {},
     "output_type": "execute_result"
    }
   ],
   "source": []
  },
  {
   "cell_type": "markdown",
   "id": "26250294",
   "metadata": {},
   "source": [
    "## Convert to 2D Array"
   ]
  }
 ],
 "metadata": {
  "kernelspec": {
   "display_name": "Python 3",
   "language": "python",
   "name": "python3"
  },
  "language_info": {
   "codemirror_mode": {
    "name": "ipython",
    "version": 3
   },
   "file_extension": ".py",
   "mimetype": "text/x-python",
   "name": "python",
   "nbconvert_exporter": "python",
   "pygments_lexer": "ipython3",
   "version": "3.8.8"
  }
 },
 "nbformat": 4,
 "nbformat_minor": 5
}
