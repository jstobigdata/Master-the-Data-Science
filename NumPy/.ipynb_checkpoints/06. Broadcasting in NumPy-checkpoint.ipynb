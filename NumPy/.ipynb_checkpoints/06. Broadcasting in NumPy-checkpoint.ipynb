{
 "cells": [
  {
   "cell_type": "markdown",
   "id": "970ae637",
   "metadata": {},
   "source": [
    "# 6. Broadcasting in NumPy"
   ]
  },
  {
   "cell_type": "markdown",
   "id": "efc10595",
   "metadata": {},
   "source": [
    "- **Boradcasting** is about how NumPy treats arrays with different shapes to perform arithmetic opearations.\n",
    "- The **smaller array** is broadcasted over the larger array to make them compatible."
   ]
  },
  {
   "cell_type": "markdown",
   "id": "d436a442",
   "metadata": {},
   "source": [
    "Discussing several examples below to understand this well."
   ]
  },
  {
   "cell_type": "code",
   "execution_count": 1,
   "id": "d8633d7e",
   "metadata": {},
   "outputs": [],
   "source": [
    "import numpy as np"
   ]
  },
  {
   "cell_type": "markdown",
   "id": "a9dd9716",
   "metadata": {},
   "source": [
    "### 1. Arithmetic operations on Array[m, n] with Array[1, 1] - Element repetition"
   ]
  },
  {
   "cell_type": "code",
   "execution_count": 2,
   "id": "555eb431",
   "metadata": {},
   "outputs": [
    {
     "data": {
      "text/plain": [
       "array([[0, 1, 2],\n",
       "       [3, 4, 5],\n",
       "       [6, 7, 8]], dtype=int32)"
      ]
     },
     "execution_count": 2,
     "metadata": {},
     "output_type": "execute_result"
    }
   ],
   "source": [
    "Arr_1 = np.arange(9).reshape(3,3).astype('int32')\n",
    "Arr_1"
   ]
  },
  {
   "cell_type": "code",
   "execution_count": 3,
   "id": "c9966c94",
   "metadata": {},
   "outputs": [
    {
     "data": {
      "text/plain": [
       "array([1])"
      ]
     },
     "execution_count": 3,
     "metadata": {},
     "output_type": "execute_result"
    }
   ],
   "source": [
    "Arr_2 = np.array([1])\n",
    "Arr_2"
   ]
  },
  {
   "cell_type": "code",
   "execution_count": null,
   "id": "fd23295c",
   "metadata": {},
   "outputs": [],
   "source": [
    "# Add them\n",
    "Arr_1 + Arr_2"
   ]
  },
  {
   "cell_type": "code",
   "execution_count": null,
   "id": "17ae33fa",
   "metadata": {},
   "outputs": [],
   "source": [
    "# Multiply them\n",
    "Arr_1 * Arr_2"
   ]
  },
  {
   "cell_type": "markdown",
   "id": "c5e7f6a6",
   "metadata": {},
   "source": [
    " "
   ]
  },
  {
   "cell_type": "markdown",
   "id": "85de775a",
   "metadata": {},
   "source": [
    " "
   ]
  },
  {
   "cell_type": "markdown",
   "id": "bb46293b",
   "metadata": {},
   "source": [
    "### 2. Arithmetic operations on Array[m, n] with Array[n, 1] - Column repetitions"
   ]
  },
  {
   "cell_type": "code",
   "execution_count": null,
   "id": "2e28103b",
   "metadata": {},
   "outputs": [],
   "source": [
    "Arr_1"
   ]
  },
  {
   "cell_type": "code",
   "execution_count": null,
   "id": "b232db46",
   "metadata": {},
   "outputs": [],
   "source": [
    "Arr_3 = np.array([1,2,3]).reshape(3,1)\n",
    "Arr_3"
   ]
  },
  {
   "cell_type": "code",
   "execution_count": null,
   "id": "bd5d7a1f",
   "metadata": {},
   "outputs": [],
   "source": [
    "Arr_1*Arr_3"
   ]
  },
  {
   "cell_type": "markdown",
   "id": "cc680b49",
   "metadata": {},
   "source": [
    "  "
   ]
  },
  {
   "cell_type": "markdown",
   "id": "1b1f5515",
   "metadata": {},
   "source": [
    "  "
   ]
  },
  {
   "cell_type": "markdown",
   "id": "9ddcde4e",
   "metadata": {},
   "source": [
    "### 3. Arithmetic operations on Array[m, n] with Array[1, n] - row repetitions "
   ]
  },
  {
   "cell_type": "code",
   "execution_count": null,
   "id": "073c73bf",
   "metadata": {},
   "outputs": [],
   "source": [
    "Arr_1"
   ]
  },
  {
   "cell_type": "code",
   "execution_count": null,
   "id": "910f1e0c",
   "metadata": {},
   "outputs": [],
   "source": [
    "Arr_4 = np.arange(1,4).reshape(1,3)\n",
    "Arr_4"
   ]
  },
  {
   "cell_type": "code",
   "execution_count": null,
   "id": "e5d9fc0b",
   "metadata": {},
   "outputs": [],
   "source": [
    "Arr_1*Arr_4"
   ]
  },
  {
   "cell_type": "code",
   "execution_count": null,
   "id": "6ad96943",
   "metadata": {},
   "outputs": [],
   "source": [
    "Arr_1 + Arr_4"
   ]
  },
  {
   "cell_type": "code",
   "execution_count": null,
   "id": "847524f1",
   "metadata": {},
   "outputs": [],
   "source": [
    "Arr_1 - Arr_4"
   ]
  },
  {
   "cell_type": "markdown",
   "id": "ff827511",
   "metadata": {},
   "source": [
    "  "
   ]
  },
  {
   "cell_type": "markdown",
   "id": "a45d6ac4",
   "metadata": {},
   "source": [
    "### 4. Arithmetic operations on Array[m, 1] with Array [1, m]\n"
   ]
  },
  {
   "cell_type": "code",
   "execution_count": null,
   "id": "e4724b86",
   "metadata": {},
   "outputs": [],
   "source": [
    "Arr_mn = np.arange(1,5).astype(int).reshape(4,1)\n",
    "Arr_mn"
   ]
  },
  {
   "cell_type": "code",
   "execution_count": null,
   "id": "43482ac9",
   "metadata": {},
   "outputs": [],
   "source": [
    "Arr_nm = np.arange(1,5).astype(int).reshape(1,4)\n",
    "Arr_nm"
   ]
  },
  {
   "cell_type": "code",
   "execution_count": null,
   "id": "0f56f842",
   "metadata": {
    "scrolled": false
   },
   "outputs": [],
   "source": [
    "Arr_mn * Arr_nm"
   ]
  },
  {
   "cell_type": "markdown",
   "id": "470ed9f6",
   "metadata": {},
   "source": [
    "  "
   ]
  },
  {
   "cell_type": "markdown",
   "id": "dea51804",
   "metadata": {},
   "source": [
    "### 5. Arithmetic operations on Array[m, n] with Array [l, m] ------???\n",
    "Try this out and check the output yourself.\n"
   ]
  },
  {
   "cell_type": "code",
   "execution_count": null,
   "id": "cd204457",
   "metadata": {},
   "outputs": [],
   "source": [
    "Arr_mn = np.arange(10).astype(int).reshape(5,2)\n",
    "Arr_mn"
   ]
  },
  {
   "cell_type": "code",
   "execution_count": null,
   "id": "3200a8a5",
   "metadata": {},
   "outputs": [],
   "source": [
    "Arr_lm = np.arange(10, 20).astype(int).reshape(2,5)\n",
    "Arr_lm"
   ]
  },
  {
   "cell_type": "code",
   "execution_count": null,
   "id": "4cdb6117",
   "metadata": {
    "scrolled": true
   },
   "outputs": [],
   "source": [
    "Arr_mn * Arr_lm"
   ]
  },
  {
   "cell_type": "code",
   "execution_count": null,
   "id": "af79b268",
   "metadata": {},
   "outputs": [],
   "source": []
  },
  {
   "cell_type": "code",
   "execution_count": null,
   "id": "09f67c24",
   "metadata": {},
   "outputs": [],
   "source": []
  }
 ],
 "metadata": {
  "kernelspec": {
   "display_name": "Python 3",
   "language": "python",
   "name": "python3"
  },
  "language_info": {
   "codemirror_mode": {
    "name": "ipython",
    "version": 3
   },
   "file_extension": ".py",
   "mimetype": "text/x-python",
   "name": "python",
   "nbconvert_exporter": "python",
   "pygments_lexer": "ipython3",
   "version": "3.8.8"
  }
 },
 "nbformat": 4,
 "nbformat_minor": 5
}
