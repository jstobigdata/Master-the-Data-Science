{
 "cells": [
  {
   "cell_type": "markdown",
   "id": "bd022f81",
   "metadata": {},
   "source": [
    "# 2. Introducing Array in NumPy"
   ]
  },
  {
   "cell_type": "code",
   "execution_count": 2,
   "id": "7243e963",
   "metadata": {},
   "outputs": [
    {
     "data": {
      "text/plain": [
       "list"
      ]
     },
     "execution_count": 2,
     "metadata": {},
     "output_type": "execute_result"
    }
   ],
   "source": [
    "#Calculate BMI\n",
    "player_heights = [1.5, 1.7, 1.55, 1.68, 1.99, 1.87, 2.1, 1.45, 1.99, 1.83]\n",
    "player_weights = [43, 77.3, 65.9, 33, 55, 57, 65.5, 69, 75, 65]\n",
    "\n",
    "type(player_heights)\n",
    "type(player_weights)"
   ]
  },
  {
   "cell_type": "code",
   "execution_count": 14,
   "id": "aafa723c",
   "metadata": {},
   "outputs": [
    {
     "data": {
      "text/plain": [
       "array([19.11111111, 26.74740484, 27.42976067, 11.69217687, 13.88853817,\n",
       "       16.30015156, 14.85260771, 32.81807372, 18.93891568, 19.4093583 ])"
      ]
     },
     "execution_count": 14,
     "metadata": {},
     "output_type": "execute_result"
    }
   ],
   "source": [
    "import numpy as np\n",
    "\n",
    "player_heights_np = np.array(player_heights)\n",
    "player_weights_np = np.array(player_weights)\n",
    "\n",
    "bmi_np = player_weights_np/(player_heights_np**2)\n",
    "bmi_np"
   ]
  },
  {
   "cell_type": "markdown",
   "id": "3a9c60d1",
   "metadata": {},
   "source": [
    "#### type() of numpy array "
   ]
  },
  {
   "cell_type": "code",
   "execution_count": 6,
   "id": "322b3ced",
   "metadata": {},
   "outputs": [
    {
     "data": {
      "text/plain": [
       "numpy.ndarray"
      ]
     },
     "execution_count": 6,
     "metadata": {},
     "output_type": "execute_result"
    }
   ],
   "source": [
    "#Find the type() of bmi_np\n",
    "type(bmi_np)\n",
    "\n",
    "#print(bmi_np)"
   ]
  },
  {
   "cell_type": "markdown",
   "id": "c2ac2b49",
   "metadata": {},
   "source": [
    "#### Feth the first element"
   ]
  },
  {
   "cell_type": "code",
   "execution_count": 7,
   "id": "0182dfed",
   "metadata": {},
   "outputs": [
    {
     "data": {
      "text/plain": [
       "19.11111111111111"
      ]
     },
     "execution_count": 7,
     "metadata": {},
     "output_type": "execute_result"
    }
   ],
   "source": [
    "bmi_np[0]"
   ]
  },
  {
   "cell_type": "markdown",
   "id": "70fa6f56",
   "metadata": {},
   "source": [
    "#### Fetch Last element"
   ]
  },
  {
   "cell_type": "code",
   "execution_count": 9,
   "id": "0c835482",
   "metadata": {},
   "outputs": [
    {
     "data": {
      "text/plain": [
       "19.409358296754156"
      ]
     },
     "execution_count": 9,
     "metadata": {},
     "output_type": "execute_result"
    }
   ],
   "source": [
    "bmi_np[-1]"
   ]
  },
  {
   "cell_type": "markdown",
   "id": "ee1e370c",
   "metadata": {},
   "source": [
    "#### Fetch last 5"
   ]
  },
  {
   "cell_type": "code",
   "execution_count": 36,
   "id": "9ae3c623",
   "metadata": {
    "pycharm": {
     "name": "#%%\n"
    }
   },
   "outputs": [
    {
     "data": {
      "text/plain": [
       "array([16.30015156, 14.85260771, 32.81807372, 18.93891568, 19.4093583 ])"
      ]
     },
     "execution_count": 36,
     "metadata": {},
     "output_type": "execute_result"
    }
   ],
   "source": [
    "bmi_np[-5:]"
   ]
  },
  {
   "cell_type": "markdown",
   "id": "26250294",
   "metadata": {},
   "source": [
    "## Convert to 2D Array"
   ]
  },
  {
   "cell_type": "code",
   "execution_count": 40,
   "id": "1c418bd9",
   "metadata": {},
   "outputs": [
    {
     "data": {
      "text/plain": [
       "array([[19.11111111, 26.74740484],\n",
       "       [27.42976067, 11.69217687],\n",
       "       [13.88853817, 16.30015156],\n",
       "       [14.85260771, 32.81807372],\n",
       "       [18.93891568, 19.4093583 ]])"
      ]
     },
     "execution_count": 40,
     "metadata": {},
     "output_type": "execute_result"
    }
   ],
   "source": [
    "# convert bmi_np to 2D array\n",
    "bmi_np.reshape(5,2)"
   ]
  }
 ],
 "metadata": {
  "kernelspec": {
   "display_name": "Python 3",
   "language": "python",
   "name": "python3"
  },
  "language_info": {
   "codemirror_mode": {
    "name": "ipython",
    "version": 3
   },
   "file_extension": ".py",
   "mimetype": "text/x-python",
   "name": "python",
   "nbconvert_exporter": "python",
   "pygments_lexer": "ipython3",
   "version": "3.8.8"
  }
 },
 "nbformat": 4,
 "nbformat_minor": 5
}
