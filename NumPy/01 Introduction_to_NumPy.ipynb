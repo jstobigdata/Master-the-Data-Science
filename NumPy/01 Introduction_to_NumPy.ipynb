{
 "cells": [
  {
   "cell_type": "markdown",
   "id": "7fa9c18c",
   "metadata": {
    "slideshow": {
     "slide_type": "slide"
    }
   },
   "source": [
    "# 1. Getting started with NumPy"
   ]
  },
  {
   "cell_type": "code",
   "execution_count": 1,
   "id": "d95da8ef",
   "metadata": {
    "slideshow": {
     "slide_type": "fragment"
    }
   },
   "outputs": [
    {
     "data": {
      "text/plain": [
       "list"
      ]
     },
     "execution_count": 1,
     "metadata": {},
     "output_type": "execute_result"
    }
   ],
   "source": [
    "#Sides of Square\n",
    "square_sides = [4, 5, 6, 7, 9, 89, 99]\n",
    "type(square_sides)"
   ]
  },
  {
   "cell_type": "code",
   "execution_count": 2,
   "id": "e6a74cae",
   "metadata": {},
   "outputs": [
    {
     "data": {
      "text/plain": [
       "[16, 25, 36, 49, 81, 7921, 9801]"
      ]
     },
     "execution_count": 2,
     "metadata": {},
     "output_type": "execute_result"
    }
   ],
   "source": [
    "#Calculate the Area - side*side\n",
    "square_areas = [a*a for a in square_sides]\n",
    "square_areas"
   ]
  },
  {
   "cell_type": "code",
   "execution_count": 3,
   "id": "3b718139",
   "metadata": {
    "slideshow": {
     "slide_type": "fragment"
    }
   },
   "outputs": [
    {
     "ename": "TypeError",
     "evalue": "can't multiply sequence by non-int of type 'list'",
     "output_type": "error",
     "traceback": [
      "\u001b[0;31m---------------------------------------------------------------------------\u001b[0m",
      "\u001b[0;31mTypeError\u001b[0m                                 Traceback (most recent call last)",
      "\u001b[0;32m<ipython-input-3-fdc5d4fc2b38>\u001b[0m in \u001b[0;36m<module>\u001b[0;34m\u001b[0m\n\u001b[1;32m      1\u001b[0m \u001b[0;31m#Can I directly calculate the square\u001b[0m\u001b[0;34m\u001b[0m\u001b[0;34m\u001b[0m\u001b[0;34m\u001b[0m\u001b[0m\n\u001b[0;32m----> 2\u001b[0;31m \u001b[0msquare_areas\u001b[0m \u001b[0;34m=\u001b[0m \u001b[0msquare_sides\u001b[0m\u001b[0;34m*\u001b[0m\u001b[0msquare_sides\u001b[0m\u001b[0;34m\u001b[0m\u001b[0;34m\u001b[0m\u001b[0m\n\u001b[0m",
      "\u001b[0;31mTypeError\u001b[0m: can't multiply sequence by non-int of type 'list'"
     ]
    }
   ],
   "source": [
    "#Can I directly calculate the square\n",
    "square_areas = square_sides*square_sides"
   ]
  },
  {
   "cell_type": "markdown",
   "id": "41048595",
   "metadata": {
    "slideshow": {
     "slide_type": "subslide"
    }
   },
   "source": [
    "# Introducing NumPy"
   ]
  },
  {
   "cell_type": "code",
   "execution_count": 4,
   "id": "69fdfdfd",
   "metadata": {
    "slideshow": {
     "slide_type": "fragment"
    }
   },
   "outputs": [
    {
     "name": "stdout",
     "output_type": "stream",
     "text": [
      "[  16   25   36   49   81 7921 9801]\n"
     ]
    }
   ],
   "source": [
    "import numpy as np\n",
    "\n",
    "sides_array = np.array(square_sides)\n",
    "\n",
    "area_array = sides_array*sides_array\n",
    "print(area_array)"
   ]
  },
  {
   "cell_type": "markdown",
   "id": "ea9fc213",
   "metadata": {
    "slideshow": {
     "slide_type": "subslide"
    }
   },
   "source": [
    "### Array addition example"
   ]
  },
  {
   "cell_type": "code",
   "execution_count": 5,
   "id": "86561280",
   "metadata": {
    "slideshow": {
     "slide_type": "fragment"
    }
   },
   "outputs": [
    {
     "data": {
      "text/plain": [
       "array([6, 6, 6, 6, 6])"
      ]
     },
     "execution_count": 5,
     "metadata": {},
     "output_type": "execute_result"
    }
   ],
   "source": [
    "array1 = np.array([1,2,3,4,5])\n",
    "array2 = np.array([5,4,3,2,1])\n",
    "\n",
    "array1+array2"
   ]
  },
  {
   "cell_type": "markdown",
   "id": "c8de0dd2",
   "metadata": {
    "slideshow": {
     "slide_type": "subslide"
    }
   },
   "source": [
    "## Calculate the BMI"
   ]
  },
  {
   "cell_type": "code",
   "execution_count": 6,
   "id": "56051e4f",
   "metadata": {
    "slideshow": {
     "slide_type": "fragment"
    }
   },
   "outputs": [
    {
     "data": {
      "text/plain": [
       "array([21.97133586, 24.48979592, 33.46403461, 15.69560048, 20.        ,\n",
       "       21.54195011])"
      ]
     },
     "execution_count": 6,
     "metadata": {},
     "output_type": "execute_result"
    }
   ],
   "source": [
    "heights_in_mtr = np.array([1.72, 1.75, 1.72, 1.45, 1.50, 2.10])\n",
    "weights_in_kg = np.array([65, 75, 99, 33, 45, 95])\n",
    "\n",
    "#Calculate BMI - Kg/mtr**2\n",
    "bmi_array = weights_in_kg/(heights_in_mtr**2)\n",
    "bmi_array"
   ]
  },
  {
   "cell_type": "markdown",
   "id": "f02bc86a",
   "metadata": {},
   "source": [
    "## Quizz - What will be the result"
   ]
  },
  {
   "cell_type": "code",
   "execution_count": 7,
   "id": "27aab61e",
   "metadata": {},
   "outputs": [
    {
     "name": "stdout",
     "output_type": "stream",
     "text": [
      "['2' '2.5' 'False' '0.2' '333' 'True' 'name']\n"
     ]
    }
   ],
   "source": [
    "quizz1 = np.array( [2, 2.5, False, 0.2, 333, True, \"name\"] )\n",
    "print(quizz1)"
   ]
  },
  {
   "cell_type": "code",
   "execution_count": 8,
   "id": "766f872a",
   "metadata": {},
   "outputs": [
    {
     "data": {
      "text/plain": [
       "array([  2,   2,   0,   0, 333,   1])"
      ]
     },
     "execution_count": 8,
     "metadata": {},
     "output_type": "execute_result"
    }
   ],
   "source": [
    "quizz2 = np.array( [2, 2.5, False, 0.2, 333, True] ).astype('int')\n",
    "quizz2"
   ]
  },
  {
   "cell_type": "code",
   "execution_count": null,
   "id": "151bee79",
   "metadata": {},
   "outputs": [],
   "source": [
    "#Is it possible to create an array from a tuples and Dictionaries?\n"
   ]
  }
 ],
 "metadata": {
  "celltoolbar": "Slideshow",
  "kernelspec": {
   "display_name": "Python 3",
   "language": "python",
   "name": "python3"
  },
  "language_info": {
   "codemirror_mode": {
    "name": "ipython",
    "version": 3
   },
   "file_extension": ".py",
   "mimetype": "text/x-python",
   "name": "python",
   "nbconvert_exporter": "python",
   "pygments_lexer": "ipython3",
   "version": "3.8.8"
  }
 },
 "nbformat": 4,
 "nbformat_minor": 5
}
