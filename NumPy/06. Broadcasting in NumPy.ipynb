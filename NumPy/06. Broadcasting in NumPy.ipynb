{
 "cells": [
  {
   "cell_type": "markdown",
   "id": "970ae637",
   "metadata": {},
   "source": [
    "# 6. Broadcasting in NumPy"
   ]
  },
  {
   "cell_type": "markdown",
   "id": "efc10595",
   "metadata": {},
   "source": [
    "- **Boradcasting** is about how NumPy treats arrays with different shapes to perform arithmetic opearations.\n",
    "- The **smaller array** is broadcasted over the larger array to make them compatible."
   ]
  },
  {
   "cell_type": "markdown",
   "id": "d436a442",
   "metadata": {},
   "source": [
    "Discussing several examples below to understand this well."
   ]
  },
  {
   "cell_type": "code",
   "execution_count": 1,
   "id": "d8633d7e",
   "metadata": {},
   "outputs": [],
   "source": [
    "import numpy as np"
   ]
  },
  {
   "cell_type": "markdown",
   "id": "a9dd9716",
   "metadata": {},
   "source": [
    "### 1. Arithmetic operations on Array[m, n] with Array[1, 1] - Element repetition"
   ]
  },
  {
   "cell_type": "code",
   "execution_count": 2,
   "id": "555eb431",
   "metadata": {},
   "outputs": [
    {
     "data": {
      "text/plain": [
       "array([[0, 1, 2],\n",
       "       [3, 4, 5],\n",
       "       [6, 7, 8]], dtype=int32)"
      ]
     },
     "execution_count": 2,
     "metadata": {},
     "output_type": "execute_result"
    }
   ],
   "source": [
    "Arr_1 = np.arange(9).reshape(3,3).astype('int32')\n",
    "Arr_1"
   ]
  },
  {
   "cell_type": "code",
   "execution_count": 4,
   "id": "c9966c94",
   "metadata": {},
   "outputs": [
    {
     "data": {
      "text/plain": [
       "array([1])"
      ]
     },
     "execution_count": 4,
     "metadata": {},
     "output_type": "execute_result"
    }
   ],
   "source": [
    "Arr_2 = np.array([1])\n",
    "Arr_2"
   ]
  },
  {
   "cell_type": "code",
   "execution_count": 5,
   "id": "fd23295c",
   "metadata": {},
   "outputs": [
    {
     "data": {
      "text/plain": [
       "array([[1, 2, 3],\n",
       "       [4, 5, 6],\n",
       "       [7, 8, 9]])"
      ]
     },
     "execution_count": 5,
     "metadata": {},
     "output_type": "execute_result"
    }
   ],
   "source": [
    "# Add them\n",
    "Arr_1 + Arr_2"
   ]
  },
  {
   "cell_type": "code",
   "execution_count": 6,
   "id": "17ae33fa",
   "metadata": {},
   "outputs": [
    {
     "data": {
      "text/plain": [
       "array([[0, 1, 2],\n",
       "       [3, 4, 5],\n",
       "       [6, 7, 8]])"
      ]
     },
     "execution_count": 6,
     "metadata": {},
     "output_type": "execute_result"
    }
   ],
   "source": [
    "# Multiply them\n",
    "Arr_1 * Arr_2"
   ]
  },
  {
   "cell_type": "markdown",
   "id": "c5e7f6a6",
   "metadata": {},
   "source": [
    " "
   ]
  },
  {
   "cell_type": "markdown",
   "id": "85de775a",
   "metadata": {},
   "source": [
    " "
   ]
  },
  {
   "cell_type": "markdown",
   "id": "bb46293b",
   "metadata": {},
   "source": [
    "### 2. Arithmetic operations on Array[m, n] with Array[n, 1] - Column repetitions"
   ]
  },
  {
   "cell_type": "code",
   "execution_count": 10,
   "id": "2e28103b",
   "metadata": {},
   "outputs": [
    {
     "data": {
      "text/plain": [
       "array([[0, 1, 2],\n",
       "       [3, 4, 5],\n",
       "       [6, 7, 8]], dtype=int32)"
      ]
     },
     "execution_count": 10,
     "metadata": {},
     "output_type": "execute_result"
    }
   ],
   "source": [
    "Arr_1"
   ]
  },
  {
   "cell_type": "code",
   "execution_count": 11,
   "id": "b232db46",
   "metadata": {},
   "outputs": [
    {
     "data": {
      "text/plain": [
       "array([[1],\n",
       "       [2],\n",
       "       [3]])"
      ]
     },
     "execution_count": 11,
     "metadata": {},
     "output_type": "execute_result"
    }
   ],
   "source": [
    "Arr_3 = np.array([1,2,3]).reshape(3,1)\n",
    "Arr_3"
   ]
  },
  {
   "cell_type": "code",
   "execution_count": 12,
   "id": "bd5d7a1f",
   "metadata": {},
   "outputs": [
    {
     "data": {
      "text/plain": [
       "array([[ 0,  1,  2],\n",
       "       [ 6,  8, 10],\n",
       "       [18, 21, 24]])"
      ]
     },
     "execution_count": 12,
     "metadata": {},
     "output_type": "execute_result"
    }
   ],
   "source": [
    "Arr_1*Arr_3"
   ]
  },
  {
   "cell_type": "markdown",
   "id": "cc680b49",
   "metadata": {},
   "source": [
    "  "
   ]
  },
  {
   "cell_type": "markdown",
   "id": "1b1f5515",
   "metadata": {},
   "source": [
    "  "
   ]
  },
  {
   "cell_type": "markdown",
   "id": "9ddcde4e",
   "metadata": {},
   "source": [
    "### 3. Arithmetic operations on Array[m, n] with Array[1, n] - row repetitions "
   ]
  },
  {
   "cell_type": "code",
   "execution_count": 13,
   "id": "073c73bf",
   "metadata": {},
   "outputs": [
    {
     "data": {
      "text/plain": [
       "array([[0, 1, 2],\n",
       "       [3, 4, 5],\n",
       "       [6, 7, 8]], dtype=int32)"
      ]
     },
     "execution_count": 13,
     "metadata": {},
     "output_type": "execute_result"
    }
   ],
   "source": [
    "Arr_1"
   ]
  },
  {
   "cell_type": "code",
   "execution_count": 14,
   "id": "910f1e0c",
   "metadata": {},
   "outputs": [
    {
     "data": {
      "text/plain": [
       "array([[1, 2, 3]])"
      ]
     },
     "execution_count": 14,
     "metadata": {},
     "output_type": "execute_result"
    }
   ],
   "source": [
    "Arr_4 = np.arange(1,4).reshape(1,3)\n",
    "Arr_4"
   ]
  },
  {
   "cell_type": "code",
   "execution_count": 15,
   "id": "e5d9fc0b",
   "metadata": {},
   "outputs": [
    {
     "data": {
      "text/plain": [
       "array([[ 0,  2,  6],\n",
       "       [ 3,  8, 15],\n",
       "       [ 6, 14, 24]])"
      ]
     },
     "execution_count": 15,
     "metadata": {},
     "output_type": "execute_result"
    }
   ],
   "source": [
    "Arr_1*Arr_4"
   ]
  },
  {
   "cell_type": "code",
   "execution_count": 16,
   "id": "6ad96943",
   "metadata": {},
   "outputs": [
    {
     "data": {
      "text/plain": [
       "array([[ 1,  3,  5],\n",
       "       [ 4,  6,  8],\n",
       "       [ 7,  9, 11]])"
      ]
     },
     "execution_count": 16,
     "metadata": {},
     "output_type": "execute_result"
    }
   ],
   "source": [
    "Arr_1 + Arr_4"
   ]
  },
  {
   "cell_type": "code",
   "execution_count": 17,
   "id": "847524f1",
   "metadata": {},
   "outputs": [
    {
     "data": {
      "text/plain": [
       "array([[-1, -1, -1],\n",
       "       [ 2,  2,  2],\n",
       "       [ 5,  5,  5]])"
      ]
     },
     "execution_count": 17,
     "metadata": {},
     "output_type": "execute_result"
    }
   ],
   "source": [
    "Arr_1 - Arr_4"
   ]
  },
  {
   "cell_type": "markdown",
   "id": "ff827511",
   "metadata": {},
   "source": [
    "  "
   ]
  },
  {
   "cell_type": "markdown",
   "id": "a45d6ac4",
   "metadata": {},
   "source": [
    "### 4. Arithmetic operations on Array[m, 1] with Array [1, m]\n"
   ]
  },
  {
   "cell_type": "code",
   "execution_count": 18,
   "id": "e4724b86",
   "metadata": {},
   "outputs": [
    {
     "data": {
      "text/plain": [
       "array([[1],\n",
       "       [2],\n",
       "       [3],\n",
       "       [4]])"
      ]
     },
     "execution_count": 18,
     "metadata": {},
     "output_type": "execute_result"
    }
   ],
   "source": [
    "Arr_mn = np.arange(1,5).astype(int).reshape(4,1)\n",
    "Arr_mn"
   ]
  },
  {
   "cell_type": "code",
   "execution_count": 19,
   "id": "43482ac9",
   "metadata": {},
   "outputs": [
    {
     "data": {
      "text/plain": [
       "array([[1, 2, 3, 4]])"
      ]
     },
     "execution_count": 19,
     "metadata": {},
     "output_type": "execute_result"
    }
   ],
   "source": [
    "Arr_nm = np.arange(1,5).astype(int).reshape(1,4)\n",
    "Arr_nm"
   ]
  },
  {
   "cell_type": "code",
   "execution_count": 20,
   "id": "0f56f842",
   "metadata": {
    "scrolled": false
   },
   "outputs": [
    {
     "data": {
      "text/plain": [
       "array([[ 1,  2,  3,  4],\n",
       "       [ 2,  4,  6,  8],\n",
       "       [ 3,  6,  9, 12],\n",
       "       [ 4,  8, 12, 16]])"
      ]
     },
     "execution_count": 20,
     "metadata": {},
     "output_type": "execute_result"
    }
   ],
   "source": [
    "Arr_mn * Arr_nm"
   ]
  },
  {
   "cell_type": "markdown",
   "id": "470ed9f6",
   "metadata": {},
   "source": [
    "  "
   ]
  },
  {
   "cell_type": "markdown",
   "id": "dea51804",
   "metadata": {},
   "source": [
    "### 5. Arithmetic operations on Array[m, n] with Array [l, m] ------???\n",
    "Try this out and check the output yourself.\n"
   ]
  },
  {
   "cell_type": "code",
   "execution_count": 21,
   "id": "cd204457",
   "metadata": {},
   "outputs": [
    {
     "data": {
      "text/plain": [
       "array([[0, 1],\n",
       "       [2, 3],\n",
       "       [4, 5],\n",
       "       [6, 7],\n",
       "       [8, 9]])"
      ]
     },
     "execution_count": 21,
     "metadata": {},
     "output_type": "execute_result"
    }
   ],
   "source": [
    "Arr_mn = np.arange(10).astype(int).reshape(5,2)\n",
    "Arr_mn"
   ]
  },
  {
   "cell_type": "code",
   "execution_count": 22,
   "id": "3200a8a5",
   "metadata": {},
   "outputs": [
    {
     "data": {
      "text/plain": [
       "array([[10, 11, 12, 13, 14],\n",
       "       [15, 16, 17, 18, 19]])"
      ]
     },
     "execution_count": 22,
     "metadata": {},
     "output_type": "execute_result"
    }
   ],
   "source": [
    "Arr_lm = np.arange(10, 20).astype(int).reshape(2,5)\n",
    "Arr_lm"
   ]
  },
  {
   "cell_type": "code",
   "execution_count": 23,
   "id": "4cdb6117",
   "metadata": {
    "scrolled": true
   },
   "outputs": [
    {
     "ename": "ValueError",
     "evalue": "operands could not be broadcast together with shapes (5,2) (2,5) ",
     "output_type": "error",
     "traceback": [
      "\u001b[0;31m---------------------------------------------------------------------------\u001b[0m",
      "\u001b[0;31mValueError\u001b[0m                                Traceback (most recent call last)",
      "\u001b[0;32m<ipython-input-23-e8566b224c62>\u001b[0m in \u001b[0;36m<module>\u001b[0;34m\u001b[0m\n\u001b[0;32m----> 1\u001b[0;31m \u001b[0mArr_mn\u001b[0m \u001b[0;34m*\u001b[0m \u001b[0mArr_lm\u001b[0m\u001b[0;34m\u001b[0m\u001b[0;34m\u001b[0m\u001b[0m\n\u001b[0m",
      "\u001b[0;31mValueError\u001b[0m: operands could not be broadcast together with shapes (5,2) (2,5) "
     ]
    }
   ],
   "source": [
    "Arr_mn * Arr_lm"
   ]
  },
  {
   "cell_type": "code",
   "execution_count": null,
   "id": "af79b268",
   "metadata": {},
   "outputs": [],
   "source": []
  },
  {
   "cell_type": "code",
   "execution_count": null,
   "id": "09f67c24",
   "metadata": {},
   "outputs": [],
   "source": []
  }
 ],
 "metadata": {
  "kernelspec": {
   "display_name": "Python 3",
   "language": "python",
   "name": "python3"
  },
  "language_info": {
   "codemirror_mode": {
    "name": "ipython",
    "version": 3
   },
   "file_extension": ".py",
   "mimetype": "text/x-python",
   "name": "python",
   "nbconvert_exporter": "python",
   "pygments_lexer": "ipython3",
   "version": "3.8.8"
  }
 },
 "nbformat": 4,
 "nbformat_minor": 5
}
