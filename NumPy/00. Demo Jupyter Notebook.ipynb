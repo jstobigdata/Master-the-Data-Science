{
 "cells": [
  {
   "cell_type": "markdown",
   "id": "8c385e5f",
   "metadata": {},
   "source": [
    "# Demo Jupyter Notebook"
   ]
  },
  {
   "cell_type": "raw",
   "id": "79ff9289",
   "metadata": {},
   "source": [
    "## ass$%%"
   ]
  },
  {
   "cell_type": "code",
   "execution_count": 3,
   "id": "f6d41525",
   "metadata": {
    "scrolled": true
   },
   "outputs": [
    {
     "name": "stdout",
     "output_type": "stream",
     "text": [
      "Hello there\n"
     ]
    }
   ],
   "source": [
    "print(\"Hello there\")"
   ]
  },
  {
   "cell_type": "code",
   "execution_count": null,
   "id": "ac584d42",
   "metadata": {},
   "outputs": [],
   "source": []
  }
 ],
 "metadata": {
  "kernelspec": {
   "display_name": "Python 3",
   "language": "python",
   "name": "python3"
  },
  "language_info": {
   "codemirror_mode": {
    "name": "ipython",
    "version": 3
   },
   "file_extension": ".py",
   "mimetype": "text/x-python",
   "name": "python",
   "nbconvert_exporter": "python",
   "pygments_lexer": "ipython3",
   "version": "3.8.8"
  }
 },
 "nbformat": 4,
 "nbformat_minor": 5
}
