{
 "cells": [
  {
   "cell_type": "markdown",
   "id": "a143948c",
   "metadata": {
    "slideshow": {
     "slide_type": "slide"
    }
   },
   "source": [
    "# 4. Creating NumPy Arrays\n",
    "\n",
    "Understand the different ways in which Arrays can be created - 1D and 2D\n",
    "1. `array()` - Create numpy array from List, tuples and dictionaries\n",
    "2. `ones()` - Create an array of 1s.\n",
    "3. `zeros()` - Create an array of 0s.\n",
    "4. `arange()` - Create an array with the continuous integers.\n",
    "5. `linspace()` - Generate values which are equally spaced from each other.\n",
    "6. `random.random()` - Create array of random numbers"
   ]
  },
  {
   "cell_type": "markdown",
   "id": "dcabc091",
   "metadata": {
    "slideshow": {
     "slide_type": "slide"
    }
   },
   "source": [
    "## 1. Create Array using `array()`"
   ]
  },
  {
   "cell_type": "markdown",
   "id": "875d1a01",
   "metadata": {
    "slideshow": {
     "slide_type": "fragment"
    }
   },
   "source": [
    "####  1.1. Create array from List"
   ]
  },
  {
   "cell_type": "code",
   "execution_count": 47,
   "id": "2f6c1a77",
   "metadata": {
    "slideshow": {
     "slide_type": "-"
    }
   },
   "outputs": [
    {
     "data": {
      "text/plain": [
       "array([1.5 , 1.7 , 1.55, 1.68, 1.99, 1.87, 2.1 , 1.45, 1.99, 1.83])"
      ]
     },
     "execution_count": 47,
     "metadata": {},
     "output_type": "execute_result"
    }
   ],
   "source": [
    "import numpy as np\n",
    "\n",
    "player_heights = [1.5, 1.7, 1.55, 1.68, 1.99, 1.87, 2.1, 1.45, 1.99, 1.83]\n",
    "\n",
    "# Create from a List\n",
    "np_player_heights = np.array(player_heights)\n",
    "np_player_heights"
   ]
  },
  {
   "cell_type": "code",
   "execution_count": 4,
   "id": "8fcea072",
   "metadata": {
    "slideshow": {
     "slide_type": "slide"
    }
   },
   "outputs": [
    {
     "data": {
      "text/plain": [
       "array([111, 102, 145, 156])"
      ]
     },
     "execution_count": 4,
     "metadata": {},
     "output_type": "execute_result"
    }
   ],
   "source": [
    "# Create from a list\n",
    "np_arr = np.array([111, 102, 145, 156])\n",
    "np_arr"
   ]
  },
  {
   "cell_type": "markdown",
   "id": "73ca486d",
   "metadata": {},
   "source": [
    "#### 1.2. Create array from Tuples"
   ]
  },
  {
   "cell_type": "code",
   "execution_count": 6,
   "id": "37515329",
   "metadata": {},
   "outputs": [
    {
     "data": {
      "text/plain": [
       "array(['Dollars', 'Rupees', 'Pounds', 'Euros'], dtype='<U7')"
      ]
     },
     "execution_count": 6,
     "metadata": {},
     "output_type": "execute_result"
    }
   ],
   "source": [
    "# Create from a Tuples\n",
    "currencies = (\"Dollars\", \"Rupees\", \"Pounds\", \"Euros\")\n",
    "currencies_arr = np.array(currencies)\n",
    "currencies_arr"
   ]
  },
  {
   "cell_type": "markdown",
   "id": "521ba3e3",
   "metadata": {},
   "source": [
    "#### 1.3. Create array from Dictionaries - dict.items()"
   ]
  },
  {
   "cell_type": "code",
   "execution_count": 9,
   "id": "b098d757",
   "metadata": {},
   "outputs": [
    {
     "name": "stdout",
     "output_type": "stream",
     "text": [
      "dict_items([('Dollars', '$'), ('Rupees', '₹'), ('Pounds', '£'), ('Euros', '€')])\n"
     ]
    },
    {
     "data": {
      "text/plain": [
       "array([['Dollars', '$'],\n",
       "       ['Rupees', '₹'],\n",
       "       ['Pounds', '£'],\n",
       "       ['Euros', '€']], dtype='<U7')"
      ]
     },
     "execution_count": 9,
     "metadata": {},
     "output_type": "execute_result"
    }
   ],
   "source": [
    "# Create from a Dictionary\n",
    "currencies_dict = {\"Dollars\": \"$\", \"Rupees\": \"₹\", \"Pounds\": \"£\", \"Euros\": \"€\"}\n",
    "print(currencies_dict.items())\n",
    "\n",
    "currencies_2d_arr = np.array(list(currencies_dict.items()))\n",
    "currencies_2d_arr"
   ]
  },
  {
   "cell_type": "code",
   "execution_count": 10,
   "id": "e2c92e79",
   "metadata": {},
   "outputs": [
    {
     "data": {
      "text/plain": [
       "dtype('<U7')"
      ]
     },
     "execution_count": 10,
     "metadata": {},
     "output_type": "execute_result"
    }
   ],
   "source": [
    "currencies_2d_arr.dtype"
   ]
  },
  {
   "cell_type": "code",
   "execution_count": 11,
   "id": "c7cd231d",
   "metadata": {},
   "outputs": [
    {
     "data": {
      "text/plain": [
       "(4, 2)"
      ]
     },
     "execution_count": 11,
     "metadata": {},
     "output_type": "execute_result"
    }
   ],
   "source": [
    "currencies_2d_arr.shape"
   ]
  },
  {
   "cell_type": "code",
   "execution_count": 12,
   "id": "31015131",
   "metadata": {},
   "outputs": [
    {
     "data": {
      "text/plain": [
       "2"
      ]
     },
     "execution_count": 12,
     "metadata": {},
     "output_type": "execute_result"
    }
   ],
   "source": [
    "currencies_2d_arr.ndim"
   ]
  },
  {
   "cell_type": "markdown",
   "id": "a6bc4d8c",
   "metadata": {},
   "source": [
    "## 2. Create using `ones()`"
   ]
  },
  {
   "cell_type": "code",
   "execution_count": 14,
   "id": "6829f107",
   "metadata": {},
   "outputs": [
    {
     "data": {
      "text/plain": [
       "array([1., 1., 1., 1., 1., 1., 1., 1., 1., 1.])"
      ]
     },
     "execution_count": 14,
     "metadata": {},
     "output_type": "execute_result"
    }
   ],
   "source": [
    "arr_ones = np.ones(10)\n",
    "arr_ones"
   ]
  },
  {
   "cell_type": "code",
   "execution_count": 18,
   "id": "7175b24c",
   "metadata": {},
   "outputs": [
    {
     "data": {
      "text/plain": [
       "array([1, 1, 1, 1, 1, 1, 1, 1, 1, 1])"
      ]
     },
     "execution_count": 18,
     "metadata": {},
     "output_type": "execute_result"
    }
   ],
   "source": [
    "arr_ones = np.ones(10, dtype=int)\n",
    "arr_ones"
   ]
  },
  {
   "cell_type": "code",
   "execution_count": 19,
   "id": "822a846c",
   "metadata": {},
   "outputs": [
    {
     "data": {
      "text/plain": [
       "1"
      ]
     },
     "execution_count": 19,
     "metadata": {},
     "output_type": "execute_result"
    }
   ],
   "source": [
    "arr_ones.ndim"
   ]
  },
  {
   "cell_type": "code",
   "execution_count": 20,
   "id": "9d020f86",
   "metadata": {},
   "outputs": [
    {
     "data": {
      "text/plain": [
       "10"
      ]
     },
     "execution_count": 20,
     "metadata": {},
     "output_type": "execute_result"
    }
   ],
   "source": [
    "arr_ones.size"
   ]
  },
  {
   "cell_type": "code",
   "execution_count": 21,
   "id": "6569aff6",
   "metadata": {},
   "outputs": [
    {
     "data": {
      "text/plain": [
       "(10,)"
      ]
     },
     "execution_count": 21,
     "metadata": {},
     "output_type": "execute_result"
    }
   ],
   "source": [
    "arr_ones.shape"
   ]
  },
  {
   "cell_type": "markdown",
   "id": "14b45c90",
   "metadata": {},
   "source": [
    "#### 2.2. Introduction to reshape(m,n)"
   ]
  },
  {
   "cell_type": "code",
   "execution_count": 27,
   "id": "3e288a39",
   "metadata": {},
   "outputs": [
    {
     "data": {
      "text/plain": [
       "array([[1, 1, 1, 1, 1],\n",
       "       [1, 1, 1, 1, 1]])"
      ]
     },
     "execution_count": 27,
     "metadata": {},
     "output_type": "execute_result"
    }
   ],
   "source": [
    "ones_2d_arr = arr_ones.reshape(2,5)\n",
    "ones_2d_arr"
   ]
  },
  {
   "cell_type": "code",
   "execution_count": 28,
   "id": "f8f21892",
   "metadata": {},
   "outputs": [
    {
     "ename": "ValueError",
     "evalue": "cannot reshape array of size 10 into shape (2,6)",
     "output_type": "error",
     "traceback": [
      "\u001b[0;31m---------------------------------------------------------------------------\u001b[0m",
      "\u001b[0;31mValueError\u001b[0m                                Traceback (most recent call last)",
      "\u001b[0;32m<ipython-input-28-7fc470c3c330>\u001b[0m in \u001b[0;36m<module>\u001b[0;34m\u001b[0m\n\u001b[0;32m----> 1\u001b[0;31m \u001b[0mones_2d_arr\u001b[0m \u001b[0;34m=\u001b[0m \u001b[0marr_ones\u001b[0m\u001b[0;34m.\u001b[0m\u001b[0mreshape\u001b[0m\u001b[0;34m(\u001b[0m\u001b[0;36m2\u001b[0m\u001b[0;34m,\u001b[0m\u001b[0;36m6\u001b[0m\u001b[0;34m)\u001b[0m\u001b[0;34m\u001b[0m\u001b[0;34m\u001b[0m\u001b[0m\n\u001b[0m\u001b[1;32m      2\u001b[0m \u001b[0mones_2d_arr\u001b[0m\u001b[0;34m\u001b[0m\u001b[0;34m\u001b[0m\u001b[0m\n",
      "\u001b[0;31mValueError\u001b[0m: cannot reshape array of size 10 into shape (2,6)"
     ]
    }
   ],
   "source": [
    "ones_2d_arr = arr_ones.reshape(2,6)\n",
    "ones_2d_arr"
   ]
  },
  {
   "cell_type": "code",
   "execution_count": 29,
   "id": "3c8d3761",
   "metadata": {},
   "outputs": [
    {
     "data": {
      "text/plain": [
       "(2, 5)"
      ]
     },
     "execution_count": 29,
     "metadata": {},
     "output_type": "execute_result"
    }
   ],
   "source": [
    "ones_2d_arr.shape"
   ]
  },
  {
   "cell_type": "code",
   "execution_count": 30,
   "id": "8a0e9fea",
   "metadata": {},
   "outputs": [
    {
     "data": {
      "text/plain": [
       "10"
      ]
     },
     "execution_count": 30,
     "metadata": {},
     "output_type": "execute_result"
    }
   ],
   "source": [
    "ones_2d_arr.size"
   ]
  },
  {
   "cell_type": "code",
   "execution_count": 31,
   "id": "dfb97c3f",
   "metadata": {},
   "outputs": [
    {
     "data": {
      "text/plain": [
       "numpy.ndarray"
      ]
     },
     "execution_count": 31,
     "metadata": {},
     "output_type": "execute_result"
    }
   ],
   "source": [
    "type(ones_2d_arr)"
   ]
  },
  {
   "cell_type": "code",
   "execution_count": 32,
   "id": "51b3376f",
   "metadata": {},
   "outputs": [
    {
     "data": {
      "text/plain": [
       "8"
      ]
     },
     "execution_count": 32,
     "metadata": {},
     "output_type": "execute_result"
    }
   ],
   "source": [
    "ones_2d_arr.itemsize"
   ]
  },
  {
   "cell_type": "code",
   "execution_count": 33,
   "id": "2218184c",
   "metadata": {},
   "outputs": [
    {
     "data": {
      "text/plain": [
       "4"
      ]
     },
     "execution_count": 33,
     "metadata": {},
     "output_type": "execute_result"
    }
   ],
   "source": [
    "ones_2d_arr = arr_ones.reshape(2,5).astype('int32')\n",
    "ones_2d_arr.itemsize"
   ]
  },
  {
   "cell_type": "markdown",
   "id": "011411fd",
   "metadata": {},
   "source": [
    "## 3. Create using `zeros()`"
   ]
  },
  {
   "cell_type": "markdown",
   "id": "0471ca9b",
   "metadata": {},
   "source": [
    "#### Simple 1xD Array with Zeros"
   ]
  },
  {
   "cell_type": "code",
   "execution_count": 36,
   "id": "1712320b",
   "metadata": {},
   "outputs": [
    {
     "data": {
      "text/plain": [
       "array([0., 0., 0., 0., 0., 0., 0., 0., 0., 0., 0., 0., 0., 0., 0., 0., 0.,\n",
       "       0., 0., 0.])"
      ]
     },
     "execution_count": 36,
     "metadata": {},
     "output_type": "execute_result"
    }
   ],
   "source": [
    "zeros_arr = np.zeros(20)\n",
    "zeros_arr"
   ]
  },
  {
   "cell_type": "code",
   "execution_count": 38,
   "id": "0371d0d9",
   "metadata": {},
   "outputs": [
    {
     "data": {
      "text/plain": [
       "2"
      ]
     },
     "execution_count": 38,
     "metadata": {},
     "output_type": "execute_result"
    }
   ],
   "source": [
    "zeros_arr.ndim"
   ]
  },
  {
   "cell_type": "markdown",
   "id": "36af2445",
   "metadata": {},
   "source": [
    "#### Simple, int type 2xD array with Zeros"
   ]
  },
  {
   "cell_type": "code",
   "execution_count": 39,
   "id": "10e01a9f",
   "metadata": {},
   "outputs": [
    {
     "data": {
      "text/plain": [
       "array([[0, 0, 0, 0, 0],\n",
       "       [0, 0, 0, 0, 0],\n",
       "       [0, 0, 0, 0, 0],\n",
       "       [0, 0, 0, 0, 0]])"
      ]
     },
     "execution_count": 39,
     "metadata": {},
     "output_type": "execute_result"
    }
   ],
   "source": [
    "zeros_arr = np.zeros(dtype=int, shape=(4,5))\n",
    "zeros_arr"
   ]
  },
  {
   "cell_type": "code",
   "execution_count": 40,
   "id": "f61279d3",
   "metadata": {},
   "outputs": [
    {
     "data": {
      "text/plain": [
       "2"
      ]
     },
     "execution_count": 40,
     "metadata": {},
     "output_type": "execute_result"
    }
   ],
   "source": [
    "zeros_arr.ndim"
   ]
  },
  {
   "cell_type": "markdown",
   "id": "bdc6fa0a",
   "metadata": {},
   "source": [
    "## 4. Create array using `arange()`\n",
    "#### 4.1. Simple 1xD Array"
   ]
  },
  {
   "cell_type": "code",
   "execution_count": 41,
   "id": "981bd071",
   "metadata": {},
   "outputs": [
    {
     "data": {
      "text/plain": [
       "array([ 0,  1,  2,  3,  4,  5,  6,  7,  8,  9, 10])"
      ]
     },
     "execution_count": 41,
     "metadata": {},
     "output_type": "execute_result"
    }
   ],
   "source": [
    "np.arange(11)"
   ]
  },
  {
   "cell_type": "code",
   "execution_count": 43,
   "id": "ac563801",
   "metadata": {},
   "outputs": [
    {
     "data": {
      "text/plain": [
       "array([ 1,  6, 11, 16, 21, 26, 31, 36, 41, 46])"
      ]
     },
     "execution_count": 43,
     "metadata": {},
     "output_type": "execute_result"
    }
   ],
   "source": [
    "np.arange(1,50,5)"
   ]
  },
  {
   "cell_type": "markdown",
   "id": "a3acd69c",
   "metadata": {},
   "source": [
    "#### 4.2. Simple 2xD Array"
   ]
  },
  {
   "cell_type": "code",
   "execution_count": 44,
   "id": "f6d2d967",
   "metadata": {},
   "outputs": [
    {
     "data": {
      "text/plain": [
       "array([[ 0,  1,  2],\n",
       "       [ 3,  4,  5],\n",
       "       [ 6,  7,  8],\n",
       "       [ 9, 10, 11],\n",
       "       [12, 13, 14]])"
      ]
     },
     "execution_count": 44,
     "metadata": {},
     "output_type": "execute_result"
    }
   ],
   "source": [
    "np.arange(15).reshape(5,3)"
   ]
  },
  {
   "cell_type": "markdown",
   "id": "9fb69fa5",
   "metadata": {},
   "source": [
    "## 5. Create array using `linspace()`\n",
    "Array of length 30 between 1 and 500"
   ]
  },
  {
   "cell_type": "code",
   "execution_count": 48,
   "id": "be4c986d",
   "metadata": {},
   "outputs": [
    {
     "data": {
      "text/plain": [
       "array([  1.        ,  18.20689655,  35.4137931 ,  52.62068966,\n",
       "        69.82758621,  87.03448276, 104.24137931, 121.44827586,\n",
       "       138.65517241, 155.86206897, 173.06896552, 190.27586207,\n",
       "       207.48275862, 224.68965517, 241.89655172, 259.10344828,\n",
       "       276.31034483, 293.51724138, 310.72413793, 327.93103448,\n",
       "       345.13793103, 362.34482759, 379.55172414, 396.75862069,\n",
       "       413.96551724, 431.17241379, 448.37931034, 465.5862069 ,\n",
       "       482.79310345, 500.        ])"
      ]
     },
     "execution_count": 48,
     "metadata": {},
     "output_type": "execute_result"
    }
   ],
   "source": [
    "np.linspace(1,500,30)"
   ]
  },
  {
   "cell_type": "code",
   "execution_count": 49,
   "id": "5249741a",
   "metadata": {},
   "outputs": [
    {
     "data": {
      "text/plain": [
       "array([[  1.        ,  18.20689655,  35.4137931 ,  52.62068966,\n",
       "         69.82758621,  87.03448276],\n",
       "       [104.24137931, 121.44827586, 138.65517241, 155.86206897,\n",
       "        173.06896552, 190.27586207],\n",
       "       [207.48275862, 224.68965517, 241.89655172, 259.10344828,\n",
       "        276.31034483, 293.51724138],\n",
       "       [310.72413793, 327.93103448, 345.13793103, 362.34482759,\n",
       "        379.55172414, 396.75862069],\n",
       "       [413.96551724, 431.17241379, 448.37931034, 465.5862069 ,\n",
       "        482.79310345, 500.        ]])"
      ]
     },
     "execution_count": 49,
     "metadata": {},
     "output_type": "execute_result"
    }
   ],
   "source": [
    "np.linspace(1,500,30).reshape(5,6)"
   ]
  },
  {
   "cell_type": "markdown",
   "id": "32fd03fc",
   "metadata": {},
   "source": [
    "## 6. Create array of random numbers - `np.random.random()`\n",
    "Return random floats in the half-open interval [0.0, 1.0). Alias for random_sample to ease forward-porting to the new random API."
   ]
  },
  {
   "cell_type": "markdown",
   "id": "8780dd33",
   "metadata": {
    "slideshow": {
     "slide_type": "fragment"
    }
   },
   "source": [
    "#### 5.1. Generate a random number"
   ]
  },
  {
   "cell_type": "code",
   "execution_count": 87,
   "id": "3d050d93",
   "metadata": {
    "slideshow": {
     "slide_type": "fragment"
    }
   },
   "outputs": [
    {
     "data": {
      "text/plain": [
       "0.7005641751122824"
      ]
     },
     "execution_count": 87,
     "metadata": {},
     "output_type": "execute_result"
    }
   ],
   "source": [
    "np.random.random()"
   ]
  },
  {
   "cell_type": "markdown",
   "id": "d998f321",
   "metadata": {},
   "source": [
    "#### 5.2. Generate an [m, n] array filled with random floats"
   ]
  },
  {
   "cell_type": "code",
   "execution_count": 88,
   "id": "ab2c3db1",
   "metadata": {
    "slideshow": {
     "slide_type": "fragment"
    }
   },
   "outputs": [
    {
     "data": {
      "text/plain": [
       "array([[0.4422161 , 0.25502898, 0.95435992, 0.35868228],\n",
       "       [0.78998432, 0.0239979 , 0.8641468 , 0.77998807],\n",
       "       [0.90091783, 0.67729624, 0.13667759, 0.40964513],\n",
       "       [0.39966322, 0.31879619, 0.54035549, 0.34147156],\n",
       "       [0.91265477, 0.12866876, 0.99119529, 0.07013218]])"
      ]
     },
     "execution_count": 88,
     "metadata": {},
     "output_type": "execute_result"
    }
   ],
   "source": [
    "np.random.random([5,4])"
   ]
  },
  {
   "cell_type": "markdown",
   "id": "d14b0c20",
   "metadata": {},
   "source": [
    "#### 5.3. [m, n] array filled with random floats between 0 to 100"
   ]
  },
  {
   "cell_type": "code",
   "execution_count": 90,
   "id": "9fc76176",
   "metadata": {
    "slideshow": {
     "slide_type": "fragment"
    }
   },
   "outputs": [
    {
     "data": {
      "text/plain": [
       "array([[52.63469094, 89.57336195, 93.2570331 , 57.95421345],\n",
       "       [86.27221913, 87.29223067, 36.35630319, 87.80296347],\n",
       "       [88.69956116,  0.97124162, 59.92526714, 47.93593397],\n",
       "       [51.95345875, 44.85057716, 88.03132234, 43.54499961],\n",
       "       [61.11541602, 28.32439685, 28.75485198,  3.45255401]])"
      ]
     },
     "execution_count": 90,
     "metadata": {},
     "output_type": "execute_result"
    }
   ],
   "source": [
    "np.random.random([5,4])*100"
   ]
  },
  {
   "cell_type": "markdown",
   "id": "7b8d6143",
   "metadata": {},
   "source": [
    "#### 5.3. Generate an [m, n] array filled with random integers - 0 to 12"
   ]
  },
  {
   "cell_type": "code",
   "execution_count": 93,
   "id": "b1d3b2c2",
   "metadata": {
    "slideshow": {
     "slide_type": "fragment"
    }
   },
   "outputs": [
    {
     "data": {
      "text/plain": [
       "array([[ 0,  6,  5,  1,  7],\n",
       "       [ 7,  1,  0, 10,  1],\n",
       "       [ 9,  3,  9,  7, 11],\n",
       "       [ 3,  9,  8,  1,  9]], dtype=int32)"
      ]
     },
     "execution_count": 93,
     "metadata": {},
     "output_type": "execute_result"
    }
   ],
   "source": [
    "np_int32_rarray = (np.random.random([4,5])*12).astype('int32')\n",
    "np_int32_rarray"
   ]
  },
  {
   "cell_type": "code",
   "execution_count": null,
   "id": "b5e4199b",
   "metadata": {},
   "outputs": [],
   "source": []
  }
 ],
 "metadata": {
  "celltoolbar": "Slideshow",
  "kernelspec": {
   "display_name": "Python 3",
   "language": "python",
   "name": "python3"
  },
  "language_info": {
   "codemirror_mode": {
    "name": "ipython",
    "version": 3
   },
   "file_extension": ".py",
   "mimetype": "text/x-python",
   "name": "python",
   "nbconvert_exporter": "python",
   "pygments_lexer": "ipython3",
   "version": "3.8.8"
  }
 },
 "nbformat": 4,
 "nbformat_minor": 5
}
